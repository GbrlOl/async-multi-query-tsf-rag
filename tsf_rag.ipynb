{
 "cells": [
  {
   "cell_type": "markdown",
   "id": "276e3bef",
   "metadata": {},
   "source": [
    "# **Introduction** "
   ]
  },
  {
   "cell_type": "markdown",
   "id": "cea4027f",
   "metadata": {},
   "source": [
    "## **How to use?**"
   ]
  },
  {
   "cell_type": "markdown",
   "id": "a3707491",
   "metadata": {},
   "source": [
    "You can load any RAG system from our module (`rag`) where the pipeline is already implemented. The documents from the 5 TSFs have already been vectorized and indexed to the database, so you just need to indicate the path of these vectors.\n",
    "\n",
    "The RAG systems implemented are:\n",
    "\n",
    "1. **Naive RAG**\n",
    "2. **Advanced RAG**\n",
    "3. **Hybrid RAG**\n",
    "4. **Advanced-Hybrid RAG**\n",
    "5. **AsyncMultiQuery RAG**"
   ]
  },
  {
   "cell_type": "code",
   "execution_count": 1,
   "id": "ac23670a",
   "metadata": {},
   "outputs": [
    {
     "name": "stderr",
     "output_type": "stream",
     "text": [
      "c:\\Users\\gol_m\\anaconda3\\envs\\paper_geotecnia\\lib\\site-packages\\tqdm\\auto.py:21: TqdmWarning: IProgress not found. Please update jupyter and ipywidgets. See https://ipywidgets.readthedocs.io/en/stable/user_install.html\n",
      "  from .autonotebook import tqdm as notebook_tqdm\n"
     ]
    },
    {
     "name": "stdout",
     "output_type": "stream",
     "text": [
      "resource module not available on Windows\n"
     ]
    }
   ],
   "source": [
    "from rag import NaiveRAG"
   ]
  },
  {
   "cell_type": "code",
   "execution_count": 3,
   "id": "8a13c2bd",
   "metadata": {},
   "outputs": [],
   "source": [
    "path_vector_storage = \"./src/evaluation_retrieval/vector_storage/03_cenizas_espesado/03_cenizas_nomic\"\n",
    "embedding_type = \"nomic\"\n",
    "embedding_model_name = \"nomic-embed-text-v1.5\"\n",
    "\n",
    "pipeline_rag = NaiveRAG(\n",
    "    path_vector_storage=path_vector_storage,\n",
    "    embedding_type=embedding_type,\n",
    "    embedding_model_name=embedding_model_name\n",
    ")"
   ]
  },
  {
   "cell_type": "code",
   "execution_count": null,
   "id": "dc9ed89e",
   "metadata": {},
   "outputs": [
    {
     "data": {
      "text/plain": [
       "Response(response='El tipo de depósito mencionado en el contexto es un \"Depósito de Relaves Espesados\". Este depósito tiene una superficie aproximada de 50 hectáreas y una pendiente media de 3%. La capacidad de depositación es de 7.600.000 m³, lo que equivale a 12,4 millones de toneladas de relaves espesados. \\n\\nEl diseño del depósito incluye componentes como un muro de confinamiento, un vertedero de descarga, una piscina de aguas claras, una planta de espesamiento y floculación, así como tuberías de descarga de relaves y de recuperación de aguas. La tasa de depositación de relaves espesados es de 2.929 toneladas por día.\\n\\nAdemás, se considera que el relave será depositado en capas homogéneas, guiado mediante camellones de tierra, y se proyecta una pendiente de depositación de 3%, aunque la pendiente natural de depositación del relave es de 7%. \\n\\nSi necesitas más información específica sobre algún aspecto del depósito, házmelo saber.', source_nodes=[NodeWithScore(node=TextNode(id_='b93e082e-5ee7-48d6-a39a-e7051ff2dd42', embedding=None, metadata={'page_label': '129', 'file_name': 'Permiso sectorial_Actualización y modicacion_Las Luces.pdf', 'file_path': 'C:\\\\Users\\\\gol_m\\\\OneDrive\\\\Desktop\\\\Magíster en Ciencias de la Ingeniería\\\\1_AI-MINESAFE\\\\codes_mine_safe\\\\codes_paper_geotecnia\\\\paper\\\\rag\\\\documentos\\\\cenizas_tal_tal\\\\Permiso sectorial_Actualización y modicacion_Las Luces.pdf', 'file_type': 'application/pdf', 'file_size': 6997859, 'creation_date': '2025-04-09', 'last_modified_date': '2025-04-09'}, excluded_embed_metadata_keys=['file_name', 'file_type', 'file_size', 'creation_date', 'last_modified_date', 'last_accessed_date'], excluded_llm_metadata_keys=['file_name', 'file_type', 'file_size', 'creation_date', 'last_modified_date', 'last_accessed_date'], relationships={<NodeRelationship.SOURCE: '1'>: RelatedNodeInfo(node_id='c386afcb-56ec-4cfb-b944-77161ae03d02', node_type='4', metadata={'page_label': '129', 'file_name': 'Permiso sectorial_Actualización y modicacion_Las Luces.pdf', 'file_path': 'C:\\\\Users\\\\gol_m\\\\OneDrive\\\\Desktop\\\\Magíster en Ciencias de la Ingeniería\\\\1_AI-MINESAFE\\\\codes_mine_safe\\\\codes_paper_geotecnia\\\\paper\\\\rag\\\\documentos\\\\cenizas_tal_tal\\\\Permiso sectorial_Actualización y modicacion_Las Luces.pdf', 'file_type': 'application/pdf', 'file_size': 6997859, 'creation_date': '2025-04-09', 'last_modified_date': '2025-04-09'}, hash='fd85106abc6223a118fe3ebf396bd13ff47c36d32a5c54c0d87e737b153fd311')}, metadata_template='{key}: {value}', metadata_separator='\\n', text='GHD Solicitud de Autorización Permiso Sectorial Art. 294 para Obras Mayores del Código de Aguas Obra Depósito de \\nRelaves Espesados, Proyecto  “Actualización y Modificación proyecto Las Luces” Minera Las Cenizas Faena Taltal |117 \\nLa evaporación que se produce en el proceso tiene dos formas.  Una es aquella que se genera \\ndesde las playas húmedas y otra desde las lagunas de decantación. Dado que el depósito no \\ncuenta con ésta última obra, la evaporación ocurre solamente en las primeras. \\nLas pérdidas por evaporación se evalúan a partir de la estimación de superficies del depósito en \\nzonas húmedas, la cual fue calculada en el punto (b) como Ad.  De este modo, conociendo la tasa \\nde evaporación en un cierto período (t ev) y la superficie ( Ad), la pérdida por este concepto es la \\nsiguiente: \\n \\n               \\n \\nEn términos de caudal esta pérdida se evalúa de la siguiente forma (en ℓ/s): \\n \\n     \\n       \\n           \\n \\n \\nBalance de Agua aplicado al depósito en pasta Las Luces \\nLa aplicación del modelo considera los siguientes parámetros: \\nTabla 2.64 Parámetros utilizados para el balance de aguas \\nParámetro Valor Unidad \\nConcentración en Peso relave afluente al espesador (Cpa)  30 % \\nConcentración en Peso relave efluente del espesador (CpE)  67 % \\nConcentración en Peso del relave a depositar (Cp)  67 % \\nDensidad Seca Aparente (\\uf067a) 1,5 t/m\\n3\\n \\nTonelaje de Sólidos (T) 2.980 Tpd \\nTasa de Evaporación (tev) 0,7 cm/d \\nPeso específico sólidos (Gs) 2,84 t/m\\n3\\n \\nDensidad del Agua (ρw) 1,03 t/m\\n3\\n \\nÁrea Total depósito (At) 42,5 ha \\n*Tabla Extraída desde el Anexo G Diseño Hidráulico, documento 140009 -100-CAL-02 “Dimensionamiento Sistema de Drenaje”  \\n \\nEntre el relave afluente y efluente del espesador se tienen los siguientes flujos:', mimetype='text/plain', start_char_idx=2, end_char_idx=1752, metadata_seperator='\\n', text_template='{metadata_str}\\n\\n{content}'), score=0.727592945098877), NodeWithScore(node=TextNode(id_='98893c43-d68b-4da3-86f8-63c7312eaec7', embedding=None, metadata={'page_label': '13', 'file_name': 'Disposición de relaves_Las Luces III-Ing Básica.pdf', 'file_path': 'C:\\\\Users\\\\gol_m\\\\OneDrive\\\\Desktop\\\\Magíster en Ciencias de la Ingeniería\\\\1_AI-MINESAFE\\\\codes_mine_safe\\\\codes_paper_geotecnia\\\\paper\\\\rag\\\\documentos\\\\cenizas_tal_tal\\\\Disposición de relaves_Las Luces III-Ing Básica.pdf', 'file_type': 'application/pdf', 'file_size': 575362, 'creation_date': '2025-04-09', 'last_modified_date': '2025-04-09'}, excluded_embed_metadata_keys=['file_name', 'file_type', 'file_size', 'creation_date', 'last_modified_date', 'last_accessed_date'], excluded_llm_metadata_keys=['file_name', 'file_type', 'file_size', 'creation_date', 'last_modified_date', 'last_accessed_date'], relationships={<NodeRelationship.SOURCE: '1'>: RelatedNodeInfo(node_id='7d6006d8-4a0b-4988-89ef-72a19b067c62', node_type='4', metadata={'page_label': '13', 'file_name': 'Disposición de relaves_Las Luces III-Ing Básica.pdf', 'file_path': 'C:\\\\Users\\\\gol_m\\\\OneDrive\\\\Desktop\\\\Magíster en Ciencias de la Ingeniería\\\\1_AI-MINESAFE\\\\codes_mine_safe\\\\codes_paper_geotecnia\\\\paper\\\\rag\\\\documentos\\\\cenizas_tal_tal\\\\Disposición de relaves_Las Luces III-Ing Básica.pdf', 'file_type': 'application/pdf', 'file_size': 575362, 'creation_date': '2025-04-09', 'last_modified_date': '2025-04-09'}, hash='3d526a1214e7c72180047d652e9392236d08c92f508e60132557c7b08152f620')}, metadata_template='{key}: {value}', metadata_separator='\\n', text='INFORME \\n140001-300-DOC-04 \\nPag \\nDimensionamiento de Muros del Depósito 13 \\n \\n5. ANALISIS DE ESTABILIDAD DEL TRANQUE \\n \\n5.1 Criterios Generales \\n \\nEn el análisis de estabilidad efectuado (documento N° 140001-200-DOC-02), se consideró el \\ncaso al término de la vida útil del depósito, que corresponde a la situación más desfavorable. \\nPara el caso pseudo-estático se estimaron los factores de seguridad mínimos tanto para el \\nterremoto de operación como el máximo esperado. \\n \\nLos casos de análisis se separaron en función a la combinación de las siguientes \\nconsideraciones: \\n \\nx Falla en el muro de confinamiento. \\nx Falla del depósito de relaves en pendiente. \\n \\n5.2 Geometría del Depósito \\n \\nLa geometría de la sección más desfavorable y las cotas de confinamiento para la configuración \\nfinal (Etapa 3) se muestran en Figura N°5.1. La altura máxima del muro en la Etapa 3 será de \\n33,0 m. \\n \\n \\nFigura N° 5.1  \\nSección de análisis del muro de confinamiento', mimetype='text/plain', start_char_idx=0, end_char_idx=959, metadata_seperator='\\n', text_template='{metadata_str}\\n\\n{content}'), score=0.7366085052490234), NodeWithScore(node=TextNode(id_='3a4b628c-0436-47fe-9b47-06dfd7e327ae', embedding=None, metadata={'page_label': '92', 'file_name': 'Permiso sectorial_Actualización y modicacion_Las Luces.pdf', 'file_path': 'C:\\\\Users\\\\gol_m\\\\OneDrive\\\\Desktop\\\\Magíster en Ciencias de la Ingeniería\\\\1_AI-MINESAFE\\\\codes_mine_safe\\\\codes_paper_geotecnia\\\\paper\\\\rag\\\\documentos\\\\cenizas_tal_tal\\\\Permiso sectorial_Actualización y modicacion_Las Luces.pdf', 'file_type': 'application/pdf', 'file_size': 6997859, 'creation_date': '2025-04-09', 'last_modified_date': '2025-04-09'}, excluded_embed_metadata_keys=['file_name', 'file_type', 'file_size', 'creation_date', 'last_modified_date', 'last_accessed_date'], excluded_llm_metadata_keys=['file_name', 'file_type', 'file_size', 'creation_date', 'last_modified_date', 'last_accessed_date'], relationships={<NodeRelationship.SOURCE: '1'>: RelatedNodeInfo(node_id='e6a5d161-cff4-439f-b403-e639edd18c11', node_type='4', metadata={'page_label': '92', 'file_name': 'Permiso sectorial_Actualización y modicacion_Las Luces.pdf', 'file_path': 'C:\\\\Users\\\\gol_m\\\\OneDrive\\\\Desktop\\\\Magíster en Ciencias de la Ingeniería\\\\1_AI-MINESAFE\\\\codes_mine_safe\\\\codes_paper_geotecnia\\\\paper\\\\rag\\\\documentos\\\\cenizas_tal_tal\\\\Permiso sectorial_Actualización y modicacion_Las Luces.pdf', 'file_type': 'application/pdf', 'file_size': 6997859, 'creation_date': '2025-04-09', 'last_modified_date': '2025-04-09'}, hash='0a512efd3d087f690b9648bfe2edd0d3596094cb843bca387c1dcc323666edcb'), <NodeRelationship.PREVIOUS: '2'>: RelatedNodeInfo(node_id='0e958041-00c2-44f6-a538-aba3f69d62c7', node_type='1', metadata={'page_label': '92', 'file_name': 'Permiso sectorial_Actualización y modicacion_Las Luces.pdf', 'file_path': 'C:\\\\Users\\\\gol_m\\\\OneDrive\\\\Desktop\\\\Magíster en Ciencias de la Ingeniería\\\\1_AI-MINESAFE\\\\codes_mine_safe\\\\codes_paper_geotecnia\\\\paper\\\\rag\\\\documentos\\\\cenizas_tal_tal\\\\Permiso sectorial_Actualización y modicacion_Las Luces.pdf', 'file_type': 'application/pdf', 'file_size': 6997859, 'creation_date': '2025-04-09', 'last_modified_date': '2025-04-09'}, hash='a2a2c327becf7a17385365e51a2f4403abd4777a1d4b12d7b9e425882d06d1de')}, metadata_template='{key}: {value}', metadata_separator='\\n', text='Adicionalmente, ante la eventualidad de una rotura en el \\nliner, se proyectó una capa de arena drenante como apoyo de la geomembrana, la que ope rará \\ncomo dren captador de dichas fugas y las conducirá hacia un dren de apoyo ubicado en el pie de \\naguas arriba de los muros. Este conecta hacia dos alfombras drenantes que cruzan bajo el muro \\nprincipal. Ambas evacúan sus aguas hacia una canaleta y de ahí , previo aforo son conducidas \\nhacia la piscina de drenaje ya descrita. \\nEn resumen, las obras de manejo de agua del depósito se refieren a la forma de disponer las \\naguas de crecidas afluentes al depósito y a su evacuación controlada. El diseño considera \\nbásicamente los siguientes elementos: \\n\\uf097 Sistema de drenaje del sector en que se acumula el agua en la cubeta y chimeneas de \\ncaptación que conectan verticalmente el agua acumulada con las tuberías colectoras del \\ndren, para ser conducidas fuera de la cubeta de depósito.', mimetype='text/plain', start_char_idx=2895, end_char_idx=3828, metadata_seperator='\\n', text_template='{metadata_str}\\n\\n{content}'), score=0.7431294918060303), NodeWithScore(node=TextNode(id_='e0356ae5-b1e1-4f52-b078-12503d60a87e', embedding=None, metadata={'page_label': '70', 'file_name': 'Permiso sectorial_Actualización y modicacion_Las Luces.pdf', 'file_path': 'C:\\\\Users\\\\gol_m\\\\OneDrive\\\\Desktop\\\\Magíster en Ciencias de la Ingeniería\\\\1_AI-MINESAFE\\\\codes_mine_safe\\\\codes_paper_geotecnia\\\\paper\\\\rag\\\\documentos\\\\cenizas_tal_tal\\\\Permiso sectorial_Actualización y modicacion_Las Luces.pdf', 'file_type': 'application/pdf', 'file_size': 6997859, 'creation_date': '2025-04-09', 'last_modified_date': '2025-04-09'}, excluded_embed_metadata_keys=['file_name', 'file_type', 'file_size', 'creation_date', 'last_modified_date', 'last_accessed_date'], excluded_llm_metadata_keys=['file_name', 'file_type', 'file_size', 'creation_date', 'last_modified_date', 'last_accessed_date'], relationships={<NodeRelationship.SOURCE: '1'>: RelatedNodeInfo(node_id='dc30dde9-4d56-449a-9b9b-d8d7ddf4f77f', node_type='4', metadata={'page_label': '70', 'file_name': 'Permiso sectorial_Actualización y modicacion_Las Luces.pdf', 'file_path': 'C:\\\\Users\\\\gol_m\\\\OneDrive\\\\Desktop\\\\Magíster en Ciencias de la Ingeniería\\\\1_AI-MINESAFE\\\\codes_mine_safe\\\\codes_paper_geotecnia\\\\paper\\\\rag\\\\documentos\\\\cenizas_tal_tal\\\\Permiso sectorial_Actualización y modicacion_Las Luces.pdf', 'file_type': 'application/pdf', 'file_size': 6997859, 'creation_date': '2025-04-09', 'last_modified_date': '2025-04-09'}, hash='7db103823736e00b0f59373dedde445ea8869cc67c737f3cd369be232e847f4f')}, metadata_template='{key}: {value}', metadata_separator='\\n', text='GHD Solicitud de Autorización Permiso Sectorial Art. 294 para Obras Mayores del Código de Aguas Obra Depósito de \\nRelaves Espesados, Proyecto  “Actualización y Modificación proyecto Las Luces” Minera Las Cenizas Faena Taltal |58 \\nestudiada, dicho valor se alcanza entre 61% y 68% de concentración en peso. Para el diseño se \\nha establecido que el espesaje se realizará al 67% en peso. \\nSe debe considerar que los espesadores deben tener la capacidad de tratamiento igual al tonelaje \\nmáximo de la operación completa (3.278 tpd). \\nEl diseño del sistema de bombeo de los relaves espesados al depósito considera todos los \\nelementos que permitan tomar todo el rango de caudales, sin que esto signifique que la potencia \\ninstalada aumente por sobre un 15% de la requerida para conducir el caudal nominal. Para este \\nefecto se estudiaron las siguientes variantes: \\na) Vaciar en puntos más cercanos al depósito, cuando la altura de elevación de las bombas no \\nsea suficiente para situaciones eventuales. \\nb) Como criterio general, la idea es que para el caudal nominal y un rango de variación menor, el \\nsistema opere con las pérdidas de carga mínimas y que su aumento esté limitado para casos \\neventuales a cifras no mayores al 15% de la potencia de uso normal. \\nc) El volumen máximo de caudal a desviar hacia la zona de contención que se generaría por la \\noperación según b), será evaluado junto con la estrategia de llenado del depósito. \\ne) PENDIENTE DE DEPOSITACIÓN DEL RELAVE \\nPara el diseño del depósito se util izaron los resultados obtenidos en el Informe de Ensayos de \\nCanaleta, documento MLC-7191 R02, realizado por Paterson&Cooke South America, en Octubre \\n2012 adjuntado en anexo E, Pruebas y Ensayos , en donde se obtuvieron para distintas \\nconcentraciones de sóli dos, la pendiente de depositación que tendrá la descarga de relaves \\nespesados en el depósito.  \\nTabla 2.32 Estimación Pendiente Deposito con Factor de Seguridad \\nCp Tension de Fluencia [Pa] \\nEstimación Pendiente Depósito  \\ncon Factor de seguridad 0,5 (A.Fourier)  \\n72,3% 364,7 7,6% \\n70,0% 171,6 5,0% \\n65.5% 63,7 2.5% \\n63,7% 39,4 1,8% \\n61,5% 27,5 1,4% \\n \\nSe diseñó el depósito para una pendiente de depósito de 3%, que corresponde aproximadamente \\na una tensión de fluencia de 85,3 Pa y un Cp de 67 %. Pendientes mayores se saldrían fuera del \\nrango para relaves espesados, requiriéndose espesajes a nivel de pasta. \\nf) DISEÑO DE LOS MUROS \\nLos muros de cierre del depósito se construirán en la primera etapa con material proveniente de la \\ncubeta y en las etapas siguientes se empleará lastre de mina. \\nLa pendiente de los taludes del muro de empréstito aguas arriba y abajo será de (H: V) = 2:1.', mimetype='text/plain', start_char_idx=2, end_char_idx=2673, metadata_seperator='\\n', text_template='{metadata_str}\\n\\n{content}'), score=0.748041033744812), NodeWithScore(node=TextNode(id_='67702497-74cc-485f-a3d2-075270e08aa4', embedding=None, metadata={'page_label': '78', 'file_name': 'Actualización-Plan de Cierre_Faena Taltal.pdf', 'file_path': 'C:\\\\Users\\\\gol_m\\\\OneDrive\\\\Desktop\\\\Magíster en Ciencias de la Ingeniería\\\\1_AI-MINESAFE\\\\codes_mine_safe\\\\codes_paper_geotecnia\\\\paper\\\\rag\\\\documentos\\\\cenizas_tal_tal\\\\Actualización-Plan de Cierre_Faena Taltal.pdf', 'file_type': 'application/pdf', 'file_size': 3065936, 'creation_date': '2025-04-09', 'last_modified_date': '2025-04-09'}, excluded_embed_metadata_keys=['file_name', 'file_type', 'file_size', 'creation_date', 'last_modified_date', 'last_accessed_date'], excluded_llm_metadata_keys=['file_name', 'file_type', 'file_size', 'creation_date', 'last_modified_date', 'last_accessed_date'], relationships={<NodeRelationship.SOURCE: '1'>: RelatedNodeInfo(node_id='654d4235-b08e-4836-a867-02ec548a1d6f', node_type='4', metadata={'page_label': '78', 'file_name': 'Actualización-Plan de Cierre_Faena Taltal.pdf', 'file_path': 'C:\\\\Users\\\\gol_m\\\\OneDrive\\\\Desktop\\\\Magíster en Ciencias de la Ingeniería\\\\1_AI-MINESAFE\\\\codes_mine_safe\\\\codes_paper_geotecnia\\\\paper\\\\rag\\\\documentos\\\\cenizas_tal_tal\\\\Actualización-Plan de Cierre_Faena Taltal.pdf', 'file_type': 'application/pdf', 'file_size': 3065936, 'creation_date': '2025-04-09', 'last_modified_date': '2025-04-09'}, hash='af2e1a6c17374e6f8345e7a48050516b8272bfe5474a584b48929122b99e0cc6')}, metadata_template='{key}: {value}', metadata_separator='\\n', text='4609-1100-RV-INF-001_1 Mayo, 2016 \\nExpediente Plan de Cierre Faena Taltal Página 78 de 146 \\n\\uf0b7 Producción: La tasa de extracción se encuentra entre 50.000 y 65.000 ton/mes de \\nmineral de sulfuros. \\n \\nDepósito de estéril (existente) \\n \\n\\uf0b7 Estructura: Depósito de estéril, ubicado a unos 200 metros frente a la bocamina \\n\\uf0b7 Dimensión: Depósito ocupa una superficie aproximada de 1,5 hectáreas \\n \\n \\nDepósito de estéril (proyectado) \\n \\n\\uf0b7 Estructura: Nueva zona de depositación de estéril, ubicada al suroeste del depósito \\nexistente \\n\\uf0b7 Capacidad: Capacidad de depositación proyectada de 2,0 millones de toneladas \\n \\n \\n7.3.2.3 Estabilidad física \\n \\nLa estabilidad física de las instalaciones que forman parte de Las Luces han sido analizadas \\nen las fases de diseño respectivas, ésta ha considerado la evaluación de la instalación bajo \\ncondiciones estáticas - dinámicas (pseudo -estáticas) y condiciones de esfuerzos. Estos \\nanálisis quedan consignados en la información que se acompaña en el Anexo G, de donde \\nprovienen los principales resultados que se indican a continuación. \\n \\n \\nTabla 7-25: Estabilidad Física Instalaciones Las Luces \\nID Tipo \\ninstalación \\nNombre Estudios \\nRealizados \\nResultados Referencia \\nMS Mina \\nsubterránea \\nLas Luces Modelación del \\ndesarrollo de \\nexplotación (análisis \\nde esfuerzos).  \\nDeterminación de Strength Factor, para \\ncada secuencia de explotación a desarrollar. \\nAnexo K.1 \\nAnexo K.2 \\nAnexo K.3 \\nDE Depósito de \\nestéril \\nBotadero \\n(Modificación \\nPY Las Luces) \\nAnálisis de \\nEstabilidad Física \\nDiseño cumple con los criterios establecidos \\n(FS estático >1,3 y FS pseudo-estático > \\n1.0). Considerando la solicitación sísmica \\nmediante estudio de riesgo sísmico local.  \\nAnexo K.4 \\n \\n \\nAdemás de evidenciar la condición de diseño de las instalaciones de Las Luces, los estudios \\nindicados en Tabla 7-25 forman parte de las fuentes de información de los factores técnicos \\nque fueron considerados en la evaluación de riesgos de esta instalación. \\n \\n \\n7.3.2.4 Estabilidad química \\n \\nLa estabilidad química en Las Luces fue analizada mediante la caracterización geoquímica del \\nmaterial estéril generado para cada unidad litológica principal. La evaluación del potencial de \\ngeneración de ácido desde el mencionado material fue realizada mediante conteo ácido – base \\n(ABA), el cual determina el potencial de una muestra de material estéril de liberar drenaje ácido \\nde roca (DAR) al ser expuesta a factores climáticos.', mimetype='text/plain', start_char_idx=8, end_char_idx=2457, metadata_seperator='\\n', text_template='{metadata_str}\\n\\n{content}'), score=0.7501991987228394), NodeWithScore(node=TextNode(id_='9aa1ec4d-7552-4af6-9e45-878707e05042', embedding=None, metadata={'page_label': '12', 'file_name': 'Disposición de relaves_Las Luces III-Ing Básica.pdf', 'file_path': 'C:\\\\Users\\\\gol_m\\\\OneDrive\\\\Desktop\\\\Magíster en Ciencias de la Ingeniería\\\\1_AI-MINESAFE\\\\codes_mine_safe\\\\codes_paper_geotecnia\\\\paper\\\\rag\\\\documentos\\\\cenizas_tal_tal\\\\Disposición de relaves_Las Luces III-Ing Básica.pdf', 'file_type': 'application/pdf', 'file_size': 575362, 'creation_date': '2025-04-09', 'last_modified_date': '2025-04-09'}, excluded_embed_metadata_keys=['file_name', 'file_type', 'file_size', 'creation_date', 'last_modified_date', 'last_accessed_date'], excluded_llm_metadata_keys=['file_name', 'file_type', 'file_size', 'creation_date', 'last_modified_date', 'last_accessed_date'], relationships={<NodeRelationship.SOURCE: '1'>: RelatedNodeInfo(node_id='9fe8a227-a3a5-4262-85ff-ea60eda0af9c', node_type='4', metadata={'page_label': '12', 'file_name': 'Disposición de relaves_Las Luces III-Ing Básica.pdf', 'file_path': 'C:\\\\Users\\\\gol_m\\\\OneDrive\\\\Desktop\\\\Magíster en Ciencias de la Ingeniería\\\\1_AI-MINESAFE\\\\codes_mine_safe\\\\codes_paper_geotecnia\\\\paper\\\\rag\\\\documentos\\\\cenizas_tal_tal\\\\Disposición de relaves_Las Luces III-Ing Básica.pdf', 'file_type': 'application/pdf', 'file_size': 575362, 'creation_date': '2025-04-09', 'last_modified_date': '2025-04-09'}, hash='05d53d9c3ba37d3d5711b5d19988fbfee5210caee38327932e03cfcb1e971456')}, metadata_template='{key}: {value}', metadata_separator='\\n', text='INFORME \\n140001-300-DOC-04 \\nPag \\nDimensionamiento de Muros del Depósito 12 \\n \\n4.3 Muros etapas 2 y 3 \\n \\nEn relación a los parámetros de resistencia del material de los muros etapas 2 y 3, este difiere \\nde los que se emplearán en la etapa 1, ya que provendrán del estéril de los boraderos de la \\nmina. Debe advertirse que no se cuenta con triaxiales ni ensayos de corte directo para l lastre \\nde la mina. Sin embargo, estudios de diferentes depósitos de lastre o estéril asignan ángulos de \\nfricción interna superiores a 42° y cohesiones por sobre 0,2 kg/cm2 (Chuquicamata, Es peranza \\ny Cabildo, este último, de Minera Las Cenizas) cuando son dispuestos en capas compactadas. \\nPor esta razón se consideró conservadoramente el criterio de emplear para efectos de los \\ncálulos de estabilidad de los muros, los mismos valores de resistencia del empréstito cubeta, \\nvale decir, 38° para el ángulo de fricción interna y cohesión nula. Esta consideración se \\nincorporó en el documento “140001-200-DOC-02 Estudios de Apoyo; Análisis de estabilidad \\nestático y pseudo estático”.', mimetype='text/plain', start_char_idx=0, end_char_idx=1070, metadata_seperator='\\n', text_template='{metadata_str}\\n\\n{content}'), score=0.7602409720420837), NodeWithScore(node=TextNode(id_='8863daaa-7f69-4c89-9b14-cd336613c97a', embedding=None, metadata={'page_label': '109', 'file_name': 'Actualización-Plan de Cierre_Faena Taltal.pdf', 'file_path': 'C:\\\\Users\\\\gol_m\\\\OneDrive\\\\Desktop\\\\Magíster en Ciencias de la Ingeniería\\\\1_AI-MINESAFE\\\\codes_mine_safe\\\\codes_paper_geotecnia\\\\paper\\\\rag\\\\documentos\\\\cenizas_tal_tal\\\\Actualización-Plan de Cierre_Faena Taltal.pdf', 'file_type': 'application/pdf', 'file_size': 3065936, 'creation_date': '2025-04-09', 'last_modified_date': '2025-04-09'}, excluded_embed_metadata_keys=['file_name', 'file_type', 'file_size', 'creation_date', 'last_modified_date', 'last_accessed_date'], excluded_llm_metadata_keys=['file_name', 'file_type', 'file_size', 'creation_date', 'last_modified_date', 'last_accessed_date'], relationships={<NodeRelationship.SOURCE: '1'>: RelatedNodeInfo(node_id='8e39d723-7ea5-4dde-8599-8ba31c6b8428', node_type='4', metadata={'page_label': '109', 'file_name': 'Actualización-Plan de Cierre_Faena Taltal.pdf', 'file_path': 'C:\\\\Users\\\\gol_m\\\\OneDrive\\\\Desktop\\\\Magíster en Ciencias de la Ingeniería\\\\1_AI-MINESAFE\\\\codes_mine_safe\\\\codes_paper_geotecnia\\\\paper\\\\rag\\\\documentos\\\\cenizas_tal_tal\\\\Actualización-Plan de Cierre_Faena Taltal.pdf', 'file_type': 'application/pdf', 'file_size': 3065936, 'creation_date': '2025-04-09', 'last_modified_date': '2025-04-09'}, hash='ee56210dd2886e5b65abc516bf99616af59e9f1666dd2c1204d2d268d69d0f69')}, metadata_template='{key}: {value}', metadata_separator='\\n', text='4609-1100-RV-INF-001_1 Mayo, 2016 \\nExpediente Plan de Cierre Faena Taltal Página 109 de 146 \\nDepósito de Relaves Espesados (en etapa de puesta en marcha) \\n \\nEl Proyecto Depósito de Relaves Espesados, en fase de puesta en marcha , asociado al \\nProyecto “Actualización y Modificación Proyecto Las Luces”, se encuentra aprobados \\nambientalmente favorable, según Resolución de Calificación Ambiental RCA N° 404/2013 y su \\naprobación sectorial SERNAGEOMIN bajo Resol. N° 963 del 06.08.2014. \\n \\n \\n\\uf0b7 Estructura: Depósito de relaves espesados \\n\\uf0b7 Dimensiones: Una superficie aproximada de 50 hectáreas con una pendiente medi a \\ndel 3%. \\n\\uf0b7 Componentes: Depósito de relaves, muro de confinamiento, vertedero de descarga, \\npiscina de aguas claras, planta de espesamiento y floculación, tubería de descarga de \\nrelaves y tubería de recuperación de aguas. \\n\\uf0b7 Volumen: Capacidad de depositación de 7.600.000 m3 (12,4 millones de relaves \\nespesados de toneladas). \\n\\uf0b7 Producción: Tasa de depositación de relaves espesados 2.929 ton/día. \\n \\n \\nCaptación de Agua de Mar \\n \\n\\uf0b7 Estructura: El agua de mar es impulsada a la planta por medio de 3 estaciones \\nelevadoras de agua, y se traslada mediante tubería de HDPE desde la captación hasta \\nla Planta Las Luces, desde esta última se impulsa hacia la Planta de Óxidos. \\n\\uf0b7 Dimensiones: Un trazado de tubería desde la Captación hasta la Planta Las Luces de \\n6 km y de la Planta Las Luces hacia la Planta de Óxidos de 40 km. \\n\\uf0b7 Componentes: Captación, Estaciones de Bombeo, Trazado de Tubería de HDPE. \\n\\uf0b7 Producción:  \\no Actual: Impulsión desde captación a Planta Las Luces 44 l/s, Impulsión desde \\nPlanta las Luces a Planta de Óxidos de 20 l/s. \\no Ampliación (No iniciado): Impulsión desde captación a Planta Las Luces 100 l/s, \\nImpulsión desde Planta las Luces a Planta de Óxidos de 40 l/s. \\n \\n \\n7.5.2.3 Estabilidad física \\n \\nLa estabilidad física de las instalaciones que forman parte de Sulfuros Las Luces han sido \\nanalizadas en las fases de diseño respectivas, ésta ha considerado la evaluación de la \\ninstalación bajo condiciones estáticas - dinámicas y análisis de deformaciones. Estos análisis \\nquedan consignados en la información que se acompaña en el Anexo M, de donde provienen \\nlos principales resultados que se indican a continuación. \\n \\n \\nTabla 7-41: Estabilidad Física Instalaciones Sulfuros Las Luces \\nID Tipo \\ninstalación \\nNombre Estudios \\nRealizados \\nResultados Referencia \\nDR Depósito de \\nrelaves \\nLas Luces II Análisis de \\nEstabilidad Física \\nMuros del depósito \\nDiseño cumple con los criterios establecidos \\n(FS estático =2,7 y FS pseudo-estático = \\n1,4, FS sísmico = 1,73), considerando \\nademás que las deformaciones post-\\nAnexo M.1', mimetype='text/plain', start_char_idx=8, end_char_idx=2688, metadata_seperator='\\n', text_template='{metadata_str}\\n\\n{content}'), score=0.7609674334526062), NodeWithScore(node=TextNode(id_='3a5de283-73b5-4d53-8a6a-a781a735bd55', embedding=None, metadata={'page_label': '17', 'file_name': 'Disposición de relaves_Las Luces III-Ing Básica.pdf', 'file_path': 'C:\\\\Users\\\\gol_m\\\\OneDrive\\\\Desktop\\\\Magíster en Ciencias de la Ingeniería\\\\1_AI-MINESAFE\\\\codes_mine_safe\\\\codes_paper_geotecnia\\\\paper\\\\rag\\\\documentos\\\\cenizas_tal_tal\\\\Disposición de relaves_Las Luces III-Ing Básica.pdf', 'file_type': 'application/pdf', 'file_size': 575362, 'creation_date': '2025-04-09', 'last_modified_date': '2025-04-09'}, excluded_embed_metadata_keys=['file_name', 'file_type', 'file_size', 'creation_date', 'last_modified_date', 'last_accessed_date'], excluded_llm_metadata_keys=['file_name', 'file_type', 'file_size', 'creation_date', 'last_modified_date', 'last_accessed_date'], relationships={<NodeRelationship.SOURCE: '1'>: RelatedNodeInfo(node_id='618d869f-2e46-4556-8db4-35fb054fe1e7', node_type='4', metadata={'page_label': '17', 'file_name': 'Disposición de relaves_Las Luces III-Ing Básica.pdf', 'file_path': 'C:\\\\Users\\\\gol_m\\\\OneDrive\\\\Desktop\\\\Magíster en Ciencias de la Ingeniería\\\\1_AI-MINESAFE\\\\codes_mine_safe\\\\codes_paper_geotecnia\\\\paper\\\\rag\\\\documentos\\\\cenizas_tal_tal\\\\Disposición de relaves_Las Luces III-Ing Básica.pdf', 'file_type': 'application/pdf', 'file_size': 575362, 'creation_date': '2025-04-09', 'last_modified_date': '2025-04-09'}, hash='7f8227ed035887c7b6c18b03f8f8fce1ceb83c6cef194f9a4309b5c7a27bcb0d')}, metadata_template='{key}: {value}', metadata_separator='\\n', text='INFORME \\n140001-300-DOC-04 \\nPag \\nDimensionamiento de Muros del Depósito 17 \\n \\nconsiderando una revancha mínima en operación del tranque de 1,5 m. En consecuencia las \\nfechas de construcción de las dos etapas del muro auxiliar son las siguientes. \\n \\nCuadro Nº6.2, Fechas de Inicio de Construcción de Etapas de Muro Auxiliar \\nEtapa \\nMuro \\nCota \\nCoronamiento \\nm.s.n.m. \\nInicio \\nConstrucción \\nAño \\n1 \\n2 \\n270,0 \\n275,0 \\n3 \\n6 \\n \\nPara las Etapas 2 y 3 del muro principal y la Etapa 2 del muro auxiliar se contempla disponer \\nluego de la cama de arena de 1 m de espesor, un relleno con material de terraplén de 4 m de \\nancho, a obtener desde la cubeta del depósito.  Este material deberá ser acopiado en un lugar \\nfuera del área del embalse, o en su defecto obtener desde un empréstito, el que deberá cumplir \\ncon las especificaciones para el material de muro. \\n \\nPor otra parte, con la geometría definida para el muro y propiedades de los materiales \\nconstituyentes, así como las características de los relaves espesados, la estabilidad estática y \\nsismíca del depósito se encuentra asegurada.', mimetype='text/plain', start_char_idx=0, end_char_idx=1085, metadata_seperator='\\n', text_template='{metadata_str}\\n\\n{content}'), score=0.7667976021766663), NodeWithScore(node=TextNode(id_='18443b33-5a6c-4c18-a4f7-60cc8145d6f4', embedding=None, metadata={'page_label': '16', 'file_name': 'Disposición de relaves_Las Luces III-Ing Básica.pdf', 'file_path': 'C:\\\\Users\\\\gol_m\\\\OneDrive\\\\Desktop\\\\Magíster en Ciencias de la Ingeniería\\\\1_AI-MINESAFE\\\\codes_mine_safe\\\\codes_paper_geotecnia\\\\paper\\\\rag\\\\documentos\\\\cenizas_tal_tal\\\\Disposición de relaves_Las Luces III-Ing Básica.pdf', 'file_type': 'application/pdf', 'file_size': 575362, 'creation_date': '2025-04-09', 'last_modified_date': '2025-04-09'}, excluded_embed_metadata_keys=['file_name', 'file_type', 'file_size', 'creation_date', 'last_modified_date', 'last_accessed_date'], excluded_llm_metadata_keys=['file_name', 'file_type', 'file_size', 'creation_date', 'last_modified_date', 'last_accessed_date'], relationships={<NodeRelationship.SOURCE: '1'>: RelatedNodeInfo(node_id='23f47e34-ccb5-4468-8458-bce2f3ac9128', node_type='4', metadata={'page_label': '16', 'file_name': 'Disposición de relaves_Las Luces III-Ing Básica.pdf', 'file_path': 'C:\\\\Users\\\\gol_m\\\\OneDrive\\\\Desktop\\\\Magíster en Ciencias de la Ingeniería\\\\1_AI-MINESAFE\\\\codes_mine_safe\\\\codes_paper_geotecnia\\\\paper\\\\rag\\\\documentos\\\\cenizas_tal_tal\\\\Disposición de relaves_Las Luces III-Ing Básica.pdf', 'file_type': 'application/pdf', 'file_size': 575362, 'creation_date': '2025-04-09', 'last_modified_date': '2025-04-09'}, hash='c9c759f9e322a5d2611604c9e25f9ac3ad32fb96375fff135c539712f16f9290')}, metadata_template='{key}: {value}', metadata_separator='\\n', text='INFORME \\n140001-300-DOC-04 \\nPag \\nDimensionamiento de Muros del Depósito 16 \\n \\nTambién se realizó un estudio simplificado de deformaciones permanentes mediante el método de \\nNewmark y el de Bray and Travasarou (2007) para el caso del sismo máximo creíble, obteniéndose \\nlos siguientes resultados: \\nTabla 5.6 \\nAsentamientos para sismo máximo creíble \\nDescenso muro Métodp de cálculo \\ncms Newmark Bray and \\nTravasarou \\nPrincipal 2.1 9.4 \\nAuxiliar 1.5 9.7 \\n \\n \\nSe evaluó además el potencial de licuación de los relaves del depósito aplicando el método de \\nSeed con algunas hipótesis de cálculo. Se concluyó finalmente que los relaves espesados en el \\ndepósito no son potencialmente licuables. \\n \\n \\n6. CONCLUSIONES  \\n \\nEl diseño del muro principal y auxiliar del depósito de relaves espesados Las Luces III, está en \\ndirecta relación con el plan de llenado, quien define las fechas en las que se construye cada \\netapa del muro y sus cotas de coronamiento. \\n \\nLas fechas de construcción de las etapas del muro principal quedan definidas por el nivel que \\nalcanzan los relaves frente al empotramiento derecho del muro, considerando una revancha \\nmínima de 2 m. Con esto se tiene que las etapas del muro principal deberán construirse según \\nlo indicado en cuadro siguiente. \\n \\nCuadro Nº6.1, Fechas de Inicio de Construcción de Etapas de Muro Principal \\nEtapa \\nMuro \\nCota \\nCoronamiento \\nm.s.n.m. \\nInicio \\nConstrucción \\nAño \\n1 \\n2 \\n3 \\n267,0 \\n273,5 \\n282,0 \\n0 \\n2 \\n5 \\n \\n \\nLas fechas de construcción de las dos etapas del muro auxiliar quedan definidas por el nivel \\nque toma la crecida máxima probable embalsada en los sectores bajos del embalse,', mimetype='text/plain', start_char_idx=0, end_char_idx=1632, metadata_seperator='\\n', text_template='{metadata_str}\\n\\n{content}'), score=0.7669253349304199), NodeWithScore(node=TextNode(id_='a4d2b2c3-e309-4d4c-8039-d485a0b97a65', embedding=None, metadata={'page_label': '52', 'file_name': 'Actualización-Plan de Cierre_Faena Taltal.pdf', 'file_path': 'C:\\\\Users\\\\gol_m\\\\OneDrive\\\\Desktop\\\\Magíster en Ciencias de la Ingeniería\\\\1_AI-MINESAFE\\\\codes_mine_safe\\\\codes_paper_geotecnia\\\\paper\\\\rag\\\\documentos\\\\cenizas_tal_tal\\\\Actualización-Plan de Cierre_Faena Taltal.pdf', 'file_type': 'application/pdf', 'file_size': 3065936, 'creation_date': '2025-04-09', 'last_modified_date': '2025-04-09'}, excluded_embed_metadata_keys=['file_name', 'file_type', 'file_size', 'creation_date', 'last_modified_date', 'last_accessed_date'], excluded_llm_metadata_keys=['file_name', 'file_type', 'file_size', 'creation_date', 'last_modified_date', 'last_accessed_date'], relationships={<NodeRelationship.SOURCE: '1'>: RelatedNodeInfo(node_id='c7f3457a-bf5d-4365-b405-83bd087b0b91', node_type='4', metadata={'page_label': '52', 'file_name': 'Actualización-Plan de Cierre_Faena Taltal.pdf', 'file_path': 'C:\\\\Users\\\\gol_m\\\\OneDrive\\\\Desktop\\\\Magíster en Ciencias de la Ingeniería\\\\1_AI-MINESAFE\\\\codes_mine_safe\\\\codes_paper_geotecnia\\\\paper\\\\rag\\\\documentos\\\\cenizas_tal_tal\\\\Actualización-Plan de Cierre_Faena Taltal.pdf', 'file_type': 'application/pdf', 'file_size': 3065936, 'creation_date': '2025-04-09', 'last_modified_date': '2025-04-09'}, hash='d2417ffe0725223f0ea093fa426ea370c4a1fb1e69b19014f8cb48a78b5e8db1')}, metadata_template='{key}: {value}', metadata_separator='\\n', text='4609-1100-RV-INF-001_1 Mayo, 2016 \\nExpediente Plan de Cierre Faena Taltal Página 52 de 146 \\nLa explotación del rajo considera perforaciones y tronaduras. Las perforaciones se realizarán \\ncon equipo DTH y tendrán un diámetro entre 3 a 4 pulgadas. La perforación se realizará en \\nbancos de 5 metros, altura adecuada para tener una adecuada selectividad de las estructuras \\nmineralizadas. La tronadura se realizará co n explosivo Anfo que se carga directamente al \\npozo. \\n \\nEl material fragmentado por la tronadura será cargado mediante retroexcavadoras a camiones \\nde carretera, que llevarán el mineral a la planta. El transporte de mineral oxidado, se realizará \\na una tasa de 30.000 toneladas por mes. \\n \\nSe considera además el crecimiento del depósito de estéril que se encuentra en operación, \\nubicándose adyacente a éste y adicionando una capacidad de disposición de 2,7 millones de \\ntoneladas. \\n \\n7.1.2.2 Características Principales \\n \\nMina Subterránea (en operación) y su infraestructura \\n \\n\\uf0b7 Estructura: Corresponde a una Mina Subterránea. \\n\\uf0b7 Dimensiones: Las instalaciones de Mina Altamira ocupan una superficie \\naproximadamente. de 61,5 hectáreas. \\n\\uf0b7 Componentes: Las instalaciones de Mina Altamira compr enden Oficinas, Talleres, \\nBodegas de Materiales, Acceso a Mina Subterránea, Botadero de Estériles, Estación \\nde Combustible, campamento, casino, relleno sanitario, casa de fuerza, sistema \\nparticular de agua potable y sistema particular de aguas servidas. \\n\\uf0b7 Producción: En la actualidad se extraen 30.000 ton/mensuales de minerales sulfurados \\ny se proyecta extraer 10.000 ton más (para un total de 40.000 ton/mes).  \\n \\nMina Rajo (proyecto no iniciado) y su infraestructura \\n \\n\\uf0b7 Estructura: Corresponde a una Mina Rajo Abie rto. Corresponde a la Modificación II \\nMina Altamira, RCA N° 138/2013, aprobada. \\n\\uf0b7 Dimensiones: Las dimensiones de la mina a cielo abierto 230 m de largo por 200 m de \\nancho y una profundidad de 55 m. \\n\\uf0b7 Componentes: Las instalaciones de Mina Altamira comprenden Oficinas, Talleres, \\nBodegas de Materiales, Campamento, Botadero de Estériles, relleno sanitario, sistema \\nparticular de agua potable y sistema particular de aguas servidas, entre otros. \\n\\uf0b7 Producción: Se extraerán 30.000 ton/mensuales de minerales oxidados de la Mina a \\ncielo abierto. \\n \\nDepósito de Estéril \\n \\n\\uf0b7 Estructura: Ampliación de depósito de estéril que actualmente se encuentra en \\noperación \\n\\uf0b7 Capacidad: Aumento de capacidad de depositación de 2,7 millones de toneladas', mimetype='text/plain', start_char_idx=8, end_char_idx=2494, metadata_seperator='\\n', text_template='{metadata_str}\\n\\n{content}'), score=0.7680913805961609), NodeWithScore(node=TextNode(id_='87d1fc9f-9b60-43ed-9939-030f9f000f97', embedding=None, metadata={'page_label': '128', 'file_name': 'Permiso sectorial_Actualización y modicacion_Las Luces.pdf', 'file_path': 'C:\\\\Users\\\\gol_m\\\\OneDrive\\\\Desktop\\\\Magíster en Ciencias de la Ingeniería\\\\1_AI-MINESAFE\\\\codes_mine_safe\\\\codes_paper_geotecnia\\\\paper\\\\rag\\\\documentos\\\\cenizas_tal_tal\\\\Permiso sectorial_Actualización y modicacion_Las Luces.pdf', 'file_type': 'application/pdf', 'file_size': 6997859, 'creation_date': '2025-04-09', 'last_modified_date': '2025-04-09'}, excluded_embed_metadata_keys=['file_name', 'file_type', 'file_size', 'creation_date', 'last_modified_date', 'last_accessed_date'], excluded_llm_metadata_keys=['file_name', 'file_type', 'file_size', 'creation_date', 'last_modified_date', 'last_accessed_date'], relationships={<NodeRelationship.SOURCE: '1'>: RelatedNodeInfo(node_id='c0041719-ce3f-4105-9c94-bd80ad0e3e0a', node_type='4', metadata={'page_label': '128', 'file_name': 'Permiso sectorial_Actualización y modicacion_Las Luces.pdf', 'file_path': 'C:\\\\Users\\\\gol_m\\\\OneDrive\\\\Desktop\\\\Magíster en Ciencias de la Ingeniería\\\\1_AI-MINESAFE\\\\codes_mine_safe\\\\codes_paper_geotecnia\\\\paper\\\\rag\\\\documentos\\\\cenizas_tal_tal\\\\Permiso sectorial_Actualización y modicacion_Las Luces.pdf', 'file_type': 'application/pdf', 'file_size': 6997859, 'creation_date': '2025-04-09', 'last_modified_date': '2025-04-09'}, hash='f65b5aa9ac82cbebf5c4b9b370f506aef6742596de3efd4c0f4fb0f80f4dfa74')}, metadata_template='{key}: {value}', metadata_separator='\\n', text='GHD Solicitud de Autorización Permiso Sectorial Art. 294 para Obras Mayores del Código de Aguas Obra Depósito de \\nRelaves Espesados, Proyecto  “Actualización y Modificación proyecto Las Luces” Minera Las Cenizas Faena Taltal |116 \\n \\n                \\n  \\n  \\nDónde: \\n \\n VRSAT : Volumen a restaurar \\n Ad : Área a restaurar o donde se realiza el depósito. \\n \\nPara calcular la profundidad h a la cual se debe resaturar se ha asumido, basado en la \\nexperiencia del consultor, una tasa de evaporación de las capas de relave de 50 cm cada 3 \\nmeses. Por consiguiente la tasa de desaturación alcanza: \\n \\n     \\n               \\n \\nLos relaves vaciados al DRE se descargan por una quebrada afluente, vale decir, por un sólo \\npunto. Al econtrarse con la playa de depositación, el flujo adopta un recorrido preferencial y así el \\ndepósito va creciendo en altura, hasta que en forma nat ural se desvía hacia otro curso, dentro de \\nla misma cubeta con relaves.  \\nEn el caso de relaves convencionales, el crecimiento del nivel de depósito antes de un cambio \\nnatural del curso del flujo alcanza niveles de entre 5 y 15 cms. Para relaves espesados, se dan \\nalturas algo mayores, debido a la mayor viscosidad de la pulpa, por esto, para efectos del balance \\nde aguas se supone 30 cms de espesor, aunque lo esperable es una cifra menor. Debe hacerse \\npresente que a menor espesor mayores son las pérdidas, de m odo que se reduce aún más la \\nposibilidad de contar con agua sobrenadante. \\nEn consecuencia, los relaves descargados al tranque se considera que serán depositados en \\ncapas de 30 cm cada uno. De esta forma, el área diaria de depositación ( Ad) corresponde al \\nvolumen de pulpa que ingresa al tranque, dividido por el espesor de la capa de depósito, es decir: \\n \\n   \\n    \\n       \\n  \\n  \\n   \\n    \\n \\nEl área superficial del depósito es de alrededor 42,5 has, por lo que el número de días entre \\nllenados consecutivos de un sector del embalse está dada por la relación del área total del tranque \\n(At) y el área de llenado diaria. \\nFinalmente, la altura a resaturar viene dada por el número de días calculado en el párrafo anterior \\npor la tasa de resaturación. Por lo que el caudal (en ℓ/s) medio de pérdida debido a la resaturación \\nalcanza los: \\n \\n           \\n  \\n         \\n  \\n   \\n                \\n  \\n   \\n     \\n \\n \\n(3) Pérdidas por Evaporación', mimetype='text/plain', start_char_idx=2, end_char_idx=2330, metadata_seperator='\\n', text_template='{metadata_str}\\n\\n{content}'), score=0.7691246867179871), NodeWithScore(node=TextNode(id_='c9526d8f-2f09-4eff-8aa7-25917975da57', embedding=None, metadata={'page_label': '14', 'file_name': 'Disposición de relaves_Las Luces III-Ing Básica.pdf', 'file_path': 'C:\\\\Users\\\\gol_m\\\\OneDrive\\\\Desktop\\\\Magíster en Ciencias de la Ingeniería\\\\1_AI-MINESAFE\\\\codes_mine_safe\\\\codes_paper_geotecnia\\\\paper\\\\rag\\\\documentos\\\\cenizas_tal_tal\\\\Disposición de relaves_Las Luces III-Ing Básica.pdf', 'file_type': 'application/pdf', 'file_size': 575362, 'creation_date': '2025-04-09', 'last_modified_date': '2025-04-09'}, excluded_embed_metadata_keys=['file_name', 'file_type', 'file_size', 'creation_date', 'last_modified_date', 'last_accessed_date'], excluded_llm_metadata_keys=['file_name', 'file_type', 'file_size', 'creation_date', 'last_modified_date', 'last_accessed_date'], relationships={<NodeRelationship.SOURCE: '1'>: RelatedNodeInfo(node_id='ab733bfc-568a-46c0-905e-62fc9eb3a6ce', node_type='4', metadata={'page_label': '14', 'file_name': 'Disposición de relaves_Las Luces III-Ing Básica.pdf', 'file_path': 'C:\\\\Users\\\\gol_m\\\\OneDrive\\\\Desktop\\\\Magíster en Ciencias de la Ingeniería\\\\1_AI-MINESAFE\\\\codes_mine_safe\\\\codes_paper_geotecnia\\\\paper\\\\rag\\\\documentos\\\\cenizas_tal_tal\\\\Disposición de relaves_Las Luces III-Ing Básica.pdf', 'file_type': 'application/pdf', 'file_size': 575362, 'creation_date': '2025-04-09', 'last_modified_date': '2025-04-09'}, hash='e245e1d787d91df70ecad48b23fecc3b8633244b16e3ed813f81462f6e69a31d')}, metadata_template='{key}: {value}', metadata_separator='\\n', text='INFORME \\n140001-300-DOC-04 \\nPag \\nDimensionamiento de Muros del Depósito 14 \\n \\n5.3 Napa Freática \\n \\nSe consideró que el depósito de relaves espesados se mantendrá saturado y se desarrollará un \\nascenso de agua por succión capilar hasta la superficie, donde se evaporará. Este proceso de \\nsecamiento por evaporación y capilaridad producirá una presión sobre el relave y le permitirá \\nconsolidarse. Además, las fuerzas de capilaridad impedirán que el agua descienda e infiltre al \\nsubsuelo. \\n \\nAsí, se generará un nivel freático dentro del depósito de relaves, que necesariamente estará \\nbajo la superficie. La profundidad del nivel freático dependerá de la granulometría del material \\ndepositado y la tasa de evaporación del sector, pudiendo llegar hasta más de 20 m de \\nprofundidad. \\n \\nPara el análisis de estabilidad operacional del muro principal se consideró un caso conservador \\ncon el nivel freático a 5.0 m.  \\n \\nPara el abandono, se supuso que la creida máxima probable coincidía con el sismo máximo \\ncreible, de modo que el nivel de la laguna junto al muro auxiliar se producía a cota 273. Esto \\nsignifica que junto al muro principal el nivel freático de abandono, aún durante crecidas va a \\nestar bajo la cota 273, en tanto el muro se ubica a cota 282. \\n \\n5.4 Coeficiente sísmico de Diseño \\n \\nEl coeficiente sísmico de diseño para el análisis pseudo-estático, se determinó mediante \\necuaciones que relacionan la aceleración máxima horizontal del sismo que controla el diseño \\ncon el coeficiente sísmico. \\n \\nLos coeficientes sísmicos tanto horizontal como vertical utilizados para la verificación de la \\ngeometría del muro y depósito de relaves son los siguientes: \\n \\nCuadro N° 5.1  \\nCoeficientes sísmicos para Terremoto Interplaca tipo Thrust \\n \\n \\nAdicionalmente la DGA ha solicitado para otroa depósitos de relaves, suponer un sismo \\nequivalente al del 27 de febrero de 2010 frente a la costa regional, lo que para este caso \\nsignifica una condición más exigente, de modo que se asimila al máximo creíble, encontrándose \\nlos siguientes valores:', mimetype='text/plain', start_char_idx=0, end_char_idx=2052, metadata_seperator='\\n', text_template='{metadata_str}\\n\\n{content}'), score=0.7694189548492432), NodeWithScore(node=TextNode(id_='db3144d2-f0d2-4d6c-909f-b5f4fd009fed', embedding=None, metadata={'page_label': '207', 'file_name': 'Permiso sectorial_Actualización y modicacion_Las Luces.pdf', 'file_path': 'C:\\\\Users\\\\gol_m\\\\OneDrive\\\\Desktop\\\\Magíster en Ciencias de la Ingeniería\\\\1_AI-MINESAFE\\\\codes_mine_safe\\\\codes_paper_geotecnia\\\\paper\\\\rag\\\\documentos\\\\cenizas_tal_tal\\\\Permiso sectorial_Actualización y modicacion_Las Luces.pdf', 'file_type': 'application/pdf', 'file_size': 6997859, 'creation_date': '2025-04-09', 'last_modified_date': '2025-04-09'}, excluded_embed_metadata_keys=['file_name', 'file_type', 'file_size', 'creation_date', 'last_modified_date', 'last_accessed_date'], excluded_llm_metadata_keys=['file_name', 'file_type', 'file_size', 'creation_date', 'last_modified_date', 'last_accessed_date'], relationships={<NodeRelationship.SOURCE: '1'>: RelatedNodeInfo(node_id='b7d16778-0258-4342-a2e6-9c4f58ae03ea', node_type='4', metadata={'page_label': '207', 'file_name': 'Permiso sectorial_Actualización y modicacion_Las Luces.pdf', 'file_path': 'C:\\\\Users\\\\gol_m\\\\OneDrive\\\\Desktop\\\\Magíster en Ciencias de la Ingeniería\\\\1_AI-MINESAFE\\\\codes_mine_safe\\\\codes_paper_geotecnia\\\\paper\\\\rag\\\\documentos\\\\cenizas_tal_tal\\\\Permiso sectorial_Actualización y modicacion_Las Luces.pdf', 'file_type': 'application/pdf', 'file_size': 6997859, 'creation_date': '2025-04-09', 'last_modified_date': '2025-04-09'}, hash='a6ce8ed3cc4e072329beb65ad6e5da091edf7064c41d49c930078c5042c2deb5')}, metadata_template='{key}: {value}', metadata_separator='\\n', text='GHD Solicitud Permiso Sectorial PAS 101 - Depósito de Relaves Espesados, Proyecto  “Actualización y Modificación \\nproyecto Las Luces” Minera Las Cenizas Faena Taltal |195 \\nMinera Las Cenizas realizará una verificación de la pendiente de depositación de relaves igual al \\n3%. Al inicio de la operación y durante toda esta, el relave será depositado en capas homogéneas \\nsiendo guiado mediante camellones de tierra y la cola del depósito se va a ir desplazando hacia \\naguas arriba conforme señala la secuencia del plan de llenado, esto con el fin de im pedir la \\ncanalización del mismo al pie del muro. La pendiente natural de depositación del relave es de 7%, \\nsin embargo cuando este alcanza su estabilidad total adquiere la pendiente de playa del 3%. \\nLa impermeabilización del terreno natural, será realizada  con el mismo relave. Como medida \\nprecautoria Minera Las Cenizas esparcirá mediante maquinaria el relave espesado depositado, \\ncubriendo el terreno con un espesor medio de 0,15 m, hasta su encuentro con el paramento \\nimpermeable del muro del depósito en los sectores en donde la depositación natural no alcance a \\ncubrir el terreno natural. \\nLos procedimientos indicados en el párrafo anterior, son para el cumplimiento del reglamento al \\nque se refiere el artículo 295 inciso 2° del Código de Aguas, el cual establec e las condiciones \\ntécnicas que deberán cumplirse en el proyecto, construcción y operación de obras hidráulicas, en \\nparticular a lo indicado en la letra “e”, del Artículo 33 del reglamento. \\nPara mayor información, el cálculo de la pendiente de depositación se encuentra en el Anexo F, \\ndocumento 140001-300-DOC-01 “Ingeniería Básica Bases de Diseño”. \\nLos parámetros de diseño utilizados para el plan de puesta de carga se describen en el Anexo I \\nPlan de llenado depósito, documento • 140001-300-DOC-03 “Plan de Lle nado del Depósito” y \\nson los siguientes: \\nTabla 5.3  Parámetros de diseño \\nParámetro Valor Unidad \\nDensidad seca depositación de relave espesado  1,5 t/m\\n3\\n \\nRevancha mínima operacional 1,5 M \\nRevancha final 2,0 M \\nProducción media de relave 2.980 Tpd \\nCota coronamiento muro Etapa 1  267 m \\nVolumen muro Etapa 1 140.455 m\\n3', mimetype='text/plain', start_char_idx=2, end_char_idx=2176, metadata_seperator='\\n', text_template='{metadata_str}\\n\\n{content}'), score=0.7706645727157593)], metadata={'b93e082e-5ee7-48d6-a39a-e7051ff2dd42': {'page_label': '129', 'file_name': 'Permiso sectorial_Actualización y modicacion_Las Luces.pdf', 'file_path': 'C:\\\\Users\\\\gol_m\\\\OneDrive\\\\Desktop\\\\Magíster en Ciencias de la Ingeniería\\\\1_AI-MINESAFE\\\\codes_mine_safe\\\\codes_paper_geotecnia\\\\paper\\\\rag\\\\documentos\\\\cenizas_tal_tal\\\\Permiso sectorial_Actualización y modicacion_Las Luces.pdf', 'file_type': 'application/pdf', 'file_size': 6997859, 'creation_date': '2025-04-09', 'last_modified_date': '2025-04-09'}, '98893c43-d68b-4da3-86f8-63c7312eaec7': {'page_label': '13', 'file_name': 'Disposición de relaves_Las Luces III-Ing Básica.pdf', 'file_path': 'C:\\\\Users\\\\gol_m\\\\OneDrive\\\\Desktop\\\\Magíster en Ciencias de la Ingeniería\\\\1_AI-MINESAFE\\\\codes_mine_safe\\\\codes_paper_geotecnia\\\\paper\\\\rag\\\\documentos\\\\cenizas_tal_tal\\\\Disposición de relaves_Las Luces III-Ing Básica.pdf', 'file_type': 'application/pdf', 'file_size': 575362, 'creation_date': '2025-04-09', 'last_modified_date': '2025-04-09'}, '3a4b628c-0436-47fe-9b47-06dfd7e327ae': {'page_label': '92', 'file_name': 'Permiso sectorial_Actualización y modicacion_Las Luces.pdf', 'file_path': 'C:\\\\Users\\\\gol_m\\\\OneDrive\\\\Desktop\\\\Magíster en Ciencias de la Ingeniería\\\\1_AI-MINESAFE\\\\codes_mine_safe\\\\codes_paper_geotecnia\\\\paper\\\\rag\\\\documentos\\\\cenizas_tal_tal\\\\Permiso sectorial_Actualización y modicacion_Las Luces.pdf', 'file_type': 'application/pdf', 'file_size': 6997859, 'creation_date': '2025-04-09', 'last_modified_date': '2025-04-09'}, 'e0356ae5-b1e1-4f52-b078-12503d60a87e': {'page_label': '70', 'file_name': 'Permiso sectorial_Actualización y modicacion_Las Luces.pdf', 'file_path': 'C:\\\\Users\\\\gol_m\\\\OneDrive\\\\Desktop\\\\Magíster en Ciencias de la Ingeniería\\\\1_AI-MINESAFE\\\\codes_mine_safe\\\\codes_paper_geotecnia\\\\paper\\\\rag\\\\documentos\\\\cenizas_tal_tal\\\\Permiso sectorial_Actualización y modicacion_Las Luces.pdf', 'file_type': 'application/pdf', 'file_size': 6997859, 'creation_date': '2025-04-09', 'last_modified_date': '2025-04-09'}, '67702497-74cc-485f-a3d2-075270e08aa4': {'page_label': '78', 'file_name': 'Actualización-Plan de Cierre_Faena Taltal.pdf', 'file_path': 'C:\\\\Users\\\\gol_m\\\\OneDrive\\\\Desktop\\\\Magíster en Ciencias de la Ingeniería\\\\1_AI-MINESAFE\\\\codes_mine_safe\\\\codes_paper_geotecnia\\\\paper\\\\rag\\\\documentos\\\\cenizas_tal_tal\\\\Actualización-Plan de Cierre_Faena Taltal.pdf', 'file_type': 'application/pdf', 'file_size': 3065936, 'creation_date': '2025-04-09', 'last_modified_date': '2025-04-09'}, '9aa1ec4d-7552-4af6-9e45-878707e05042': {'page_label': '12', 'file_name': 'Disposición de relaves_Las Luces III-Ing Básica.pdf', 'file_path': 'C:\\\\Users\\\\gol_m\\\\OneDrive\\\\Desktop\\\\Magíster en Ciencias de la Ingeniería\\\\1_AI-MINESAFE\\\\codes_mine_safe\\\\codes_paper_geotecnia\\\\paper\\\\rag\\\\documentos\\\\cenizas_tal_tal\\\\Disposición de relaves_Las Luces III-Ing Básica.pdf', 'file_type': 'application/pdf', 'file_size': 575362, 'creation_date': '2025-04-09', 'last_modified_date': '2025-04-09'}, '8863daaa-7f69-4c89-9b14-cd336613c97a': {'page_label': '109', 'file_name': 'Actualización-Plan de Cierre_Faena Taltal.pdf', 'file_path': 'C:\\\\Users\\\\gol_m\\\\OneDrive\\\\Desktop\\\\Magíster en Ciencias de la Ingeniería\\\\1_AI-MINESAFE\\\\codes_mine_safe\\\\codes_paper_geotecnia\\\\paper\\\\rag\\\\documentos\\\\cenizas_tal_tal\\\\Actualización-Plan de Cierre_Faena Taltal.pdf', 'file_type': 'application/pdf', 'file_size': 3065936, 'creation_date': '2025-04-09', 'last_modified_date': '2025-04-09'}, '3a5de283-73b5-4d53-8a6a-a781a735bd55': {'page_label': '17', 'file_name': 'Disposición de relaves_Las Luces III-Ing Básica.pdf', 'file_path': 'C:\\\\Users\\\\gol_m\\\\OneDrive\\\\Desktop\\\\Magíster en Ciencias de la Ingeniería\\\\1_AI-MINESAFE\\\\codes_mine_safe\\\\codes_paper_geotecnia\\\\paper\\\\rag\\\\documentos\\\\cenizas_tal_tal\\\\Disposición de relaves_Las Luces III-Ing Básica.pdf', 'file_type': 'application/pdf', 'file_size': 575362, 'creation_date': '2025-04-09', 'last_modified_date': '2025-04-09'}, '18443b33-5a6c-4c18-a4f7-60cc8145d6f4': {'page_label': '16', 'file_name': 'Disposición de relaves_Las Luces III-Ing Básica.pdf', 'file_path': 'C:\\\\Users\\\\gol_m\\\\OneDrive\\\\Desktop\\\\Magíster en Ciencias de la Ingeniería\\\\1_AI-MINESAFE\\\\codes_mine_safe\\\\codes_paper_geotecnia\\\\paper\\\\rag\\\\documentos\\\\cenizas_tal_tal\\\\Disposición de relaves_Las Luces III-Ing Básica.pdf', 'file_type': 'application/pdf', 'file_size': 575362, 'creation_date': '2025-04-09', 'last_modified_date': '2025-04-09'}, 'a4d2b2c3-e309-4d4c-8039-d485a0b97a65': {'page_label': '52', 'file_name': 'Actualización-Plan de Cierre_Faena Taltal.pdf', 'file_path': 'C:\\\\Users\\\\gol_m\\\\OneDrive\\\\Desktop\\\\Magíster en Ciencias de la Ingeniería\\\\1_AI-MINESAFE\\\\codes_mine_safe\\\\codes_paper_geotecnia\\\\paper\\\\rag\\\\documentos\\\\cenizas_tal_tal\\\\Actualización-Plan de Cierre_Faena Taltal.pdf', 'file_type': 'application/pdf', 'file_size': 3065936, 'creation_date': '2025-04-09', 'last_modified_date': '2025-04-09'}, '87d1fc9f-9b60-43ed-9939-030f9f000f97': {'page_label': '128', 'file_name': 'Permiso sectorial_Actualización y modicacion_Las Luces.pdf', 'file_path': 'C:\\\\Users\\\\gol_m\\\\OneDrive\\\\Desktop\\\\Magíster en Ciencias de la Ingeniería\\\\1_AI-MINESAFE\\\\codes_mine_safe\\\\codes_paper_geotecnia\\\\paper\\\\rag\\\\documentos\\\\cenizas_tal_tal\\\\Permiso sectorial_Actualización y modicacion_Las Luces.pdf', 'file_type': 'application/pdf', 'file_size': 6997859, 'creation_date': '2025-04-09', 'last_modified_date': '2025-04-09'}, 'c9526d8f-2f09-4eff-8aa7-25917975da57': {'page_label': '14', 'file_name': 'Disposición de relaves_Las Luces III-Ing Básica.pdf', 'file_path': 'C:\\\\Users\\\\gol_m\\\\OneDrive\\\\Desktop\\\\Magíster en Ciencias de la Ingeniería\\\\1_AI-MINESAFE\\\\codes_mine_safe\\\\codes_paper_geotecnia\\\\paper\\\\rag\\\\documentos\\\\cenizas_tal_tal\\\\Disposición de relaves_Las Luces III-Ing Básica.pdf', 'file_type': 'application/pdf', 'file_size': 575362, 'creation_date': '2025-04-09', 'last_modified_date': '2025-04-09'}, 'db3144d2-f0d2-4d6c-909f-b5f4fd009fed': {'page_label': '207', 'file_name': 'Permiso sectorial_Actualización y modicacion_Las Luces.pdf', 'file_path': 'C:\\\\Users\\\\gol_m\\\\OneDrive\\\\Desktop\\\\Magíster en Ciencias de la Ingeniería\\\\1_AI-MINESAFE\\\\codes_mine_safe\\\\codes_paper_geotecnia\\\\paper\\\\rag\\\\documentos\\\\cenizas_tal_tal\\\\Permiso sectorial_Actualización y modicacion_Las Luces.pdf', 'file_type': 'application/pdf', 'file_size': 6997859, 'creation_date': '2025-04-09', 'last_modified_date': '2025-04-09'}})"
      ]
     },
     "execution_count": 4,
     "metadata": {},
     "output_type": "execute_result"
    }
   ],
   "source": [
    "response = pipeline_rag.query(\"Tipo de depósito?\")\n",
    "response"
   ]
  },
  {
   "cell_type": "markdown",
   "id": "efd3a22f",
   "metadata": {},
   "source": [
    "Now let's use our proposal."
   ]
  },
  {
   "cell_type": "code",
   "execution_count": 1,
   "id": "7fa9ded3",
   "metadata": {},
   "outputs": [
    {
     "name": "stderr",
     "output_type": "stream",
     "text": [
      "c:\\Users\\gol_m\\anaconda3\\envs\\paper_geotecnia\\lib\\site-packages\\tqdm\\auto.py:21: TqdmWarning: IProgress not found. Please update jupyter and ipywidgets. See https://ipywidgets.readthedocs.io/en/stable/user_install.html\n",
      "  from .autonotebook import tqdm as notebook_tqdm\n"
     ]
    },
    {
     "name": "stdout",
     "output_type": "stream",
     "text": [
      "resource module not available on Windows\n"
     ]
    }
   ],
   "source": [
    "from rag import AsyncMultiQueryRAG"
   ]
  },
  {
   "cell_type": "code",
   "execution_count": 2,
   "id": "d23d8eca",
   "metadata": {},
   "outputs": [
    {
     "name": "stdout",
     "output_type": "stream",
     "text": [
      "Cargando Cross-Encoder...\n"
     ]
    }
   ],
   "source": [
    "path_vector_storage = \"./src/evaluation_retrieval/vector_storage/03_cenizas_espesado/03_cenizas_nomic\"\n",
    "embedding_type = \"nomic\"\n",
    "embedding_model_name = \"nomic-embed-text-v1.5\"\n",
    "\n",
    "pipeline_rag = AsyncMultiQueryRAG(\n",
    "    path_vector_storage=path_vector_storage,\n",
    "    embedding_type=embedding_type,\n",
    "    embedding_model_name=embedding_model_name\n",
    ")"
   ]
  },
  {
   "cell_type": "code",
   "execution_count": 3,
   "id": "bd54d02c",
   "metadata": {},
   "outputs": [
    {
     "name": "stderr",
     "output_type": "stream",
     "text": [
      "Desempaquetando Lista: 100%|██████████| 5/5 [00:00<?, ?it/s]\n"
     ]
    },
    {
     "name": "stdout",
     "output_type": "stream",
     "text": [
      "Total de nodos filtrados: 4\n"
     ]
    },
    {
     "data": {
      "text/plain": [
       "Response(response='El tipo de depósito mencionado en el contexto se refiere a depósitos de estéril y depósitos de relaves espesados. A continuación, se detallan las características de cada uno:\\n\\n1. **Depósito de Estéril (existente)**:\\n   - **Estructura**: Ubicado a unos 200 metros frente a la bocamina.\\n   - **Dimensión**: Ocupa una superficie aproximada de 1,5 hectáreas.\\n\\n2. **Depósito de Estéril (proyectado)**:\\n   - **Estructura**: Nueva zona de depositación de estéril, ubicada al suroeste del depósito existente.\\n   - **Capacidad**: Capacidad de depositación proyectada de 2,0 millones de toneladas.\\n\\n3. **Depósito de Estéril (proyecto en operación)**:\\n   - **Estructura**: Construcción de un depósito para recibir el material estéril proveniente de la mina rajo.\\n   - **Dimensiones**: Aproximadamente 40 hectáreas de superficie y 56 metros de altura.\\n\\n4. **Pilas Dump o Pilas Estáticas (proyecto pendiente)**:\\n   - **Estructura**: Instalación para lixiviar mineral de baja ley y ley marginal proveniente de la mina rajo sin chancar.\\n   - **Dimensiones**: Aproximadamente 32 hectáreas de superficie para mineral de baja ley y 40 hectáreas para mineral de ley marginal.\\n\\n5. **Depósito de Relaves Espesados**:\\n   - **Estructura**: Se menciona un procedimiento para la operación normal del proyecto de depósito de relaves espesados, que incluye la disposición de los relaves en forma de pulpas.\\n\\nSi necesitas información más específica sobre algún tipo de depósito, por favor indícalo.', source_nodes=[NodeWithScore(node=TextNode(id_='67702497-74cc-485f-a3d2-075270e08aa4', embedding=None, metadata={'page_label': '78', 'file_name': 'Actualización-Plan de Cierre_Faena Taltal.pdf', 'file_path': 'C:\\\\Users\\\\gol_m\\\\OneDrive\\\\Desktop\\\\Magíster en Ciencias de la Ingeniería\\\\1_AI-MINESAFE\\\\codes_mine_safe\\\\codes_paper_geotecnia\\\\paper\\\\rag\\\\documentos\\\\cenizas_tal_tal\\\\Actualización-Plan de Cierre_Faena Taltal.pdf', 'file_type': 'application/pdf', 'file_size': 3065936, 'creation_date': '2025-04-09', 'last_modified_date': '2025-04-09', 'retrieval_score': np.float32(-2.2003026)}, excluded_embed_metadata_keys=['file_name', 'file_type', 'file_size', 'creation_date', 'last_modified_date', 'last_accessed_date'], excluded_llm_metadata_keys=['file_name', 'file_type', 'file_size', 'creation_date', 'last_modified_date', 'last_accessed_date'], relationships={<NodeRelationship.SOURCE: '1'>: RelatedNodeInfo(node_id='654d4235-b08e-4836-a867-02ec548a1d6f', node_type='4', metadata={'page_label': '78', 'file_name': 'Actualización-Plan de Cierre_Faena Taltal.pdf', 'file_path': 'C:\\\\Users\\\\gol_m\\\\OneDrive\\\\Desktop\\\\Magíster en Ciencias de la Ingeniería\\\\1_AI-MINESAFE\\\\codes_mine_safe\\\\codes_paper_geotecnia\\\\paper\\\\rag\\\\documentos\\\\cenizas_tal_tal\\\\Actualización-Plan de Cierre_Faena Taltal.pdf', 'file_type': 'application/pdf', 'file_size': 3065936, 'creation_date': '2025-04-09', 'last_modified_date': '2025-04-09'}, hash='af2e1a6c17374e6f8345e7a48050516b8272bfe5474a584b48929122b99e0cc6')}, metadata_template='{key}: {value}', metadata_separator='\\n', text='4609-1100-RV-INF-001_1 Mayo, 2016 \\nExpediente Plan de Cierre Faena Taltal Página 78 de 146 \\n\\uf0b7 Producción: La tasa de extracción se encuentra entre 50.000 y 65.000 ton/mes de \\nmineral de sulfuros. \\n \\nDepósito de estéril (existente) \\n \\n\\uf0b7 Estructura: Depósito de estéril, ubicado a unos 200 metros frente a la bocamina \\n\\uf0b7 Dimensión: Depósito ocupa una superficie aproximada de 1,5 hectáreas \\n \\n \\nDepósito de estéril (proyectado) \\n \\n\\uf0b7 Estructura: Nueva zona de depositación de estéril, ubicada al suroeste del depósito \\nexistente \\n\\uf0b7 Capacidad: Capacidad de depositación proyectada de 2,0 millones de toneladas \\n \\n \\n7.3.2.3 Estabilidad física \\n \\nLa estabilidad física de las instalaciones que forman parte de Las Luces han sido analizadas \\nen las fases de diseño respectivas, ésta ha considerado la evaluación de la instalación bajo \\ncondiciones estáticas - dinámicas (pseudo -estáticas) y condiciones de esfuerzos. Estos \\nanálisis quedan consignados en la información que se acompaña en el Anexo G, de donde \\nprovienen los principales resultados que se indican a continuación. \\n \\n \\nTabla 7-25: Estabilidad Física Instalaciones Las Luces \\nID Tipo \\ninstalación \\nNombre Estudios \\nRealizados \\nResultados Referencia \\nMS Mina \\nsubterránea \\nLas Luces Modelación del \\ndesarrollo de \\nexplotación (análisis \\nde esfuerzos).  \\nDeterminación de Strength Factor, para \\ncada secuencia de explotación a desarrollar. \\nAnexo K.1 \\nAnexo K.2 \\nAnexo K.3 \\nDE Depósito de \\nestéril \\nBotadero \\n(Modificación \\nPY Las Luces) \\nAnálisis de \\nEstabilidad Física \\nDiseño cumple con los criterios establecidos \\n(FS estático >1,3 y FS pseudo-estático > \\n1.0). Considerando la solicitación sísmica \\nmediante estudio de riesgo sísmico local.  \\nAnexo K.4 \\n \\n \\nAdemás de evidenciar la condición de diseño de las instalaciones de Las Luces, los estudios \\nindicados en Tabla 7-25 forman parte de las fuentes de información de los factores técnicos \\nque fueron considerados en la evaluación de riesgos de esta instalación. \\n \\n \\n7.3.2.4 Estabilidad química \\n \\nLa estabilidad química en Las Luces fue analizada mediante la caracterización geoquímica del \\nmaterial estéril generado para cada unidad litológica principal. La evaluación del potencial de \\ngeneración de ácido desde el mencionado material fue realizada mediante conteo ácido – base \\n(ABA), el cual determina el potencial de una muestra de material estéril de liberar drenaje ácido \\nde roca (DAR) al ser expuesta a factores climáticos.', mimetype='text/plain', start_char_idx=8, end_char_idx=2457, metadata_seperator='\\n', text_template='{metadata_str}\\n\\n{content}'), score=np.float32(-2.6346242)), NodeWithScore(node=TextNode(id_='aad81236-3294-42f1-b3b9-24ea043bb3f2', embedding=None, metadata={'page_label': '65', 'file_name': 'Actualización-Plan de Cierre_Faena Taltal.pdf', 'file_path': 'C:\\\\Users\\\\gol_m\\\\OneDrive\\\\Desktop\\\\Magíster en Ciencias de la Ingeniería\\\\1_AI-MINESAFE\\\\codes_mine_safe\\\\codes_paper_geotecnia\\\\paper\\\\rag\\\\documentos\\\\cenizas_tal_tal\\\\Actualización-Plan de Cierre_Faena Taltal.pdf', 'file_type': 'application/pdf', 'file_size': 3065936, 'creation_date': '2025-04-09', 'last_modified_date': '2025-04-09', 'retrieval_score': np.float32(-2.3026638)}, excluded_embed_metadata_keys=['file_name', 'file_type', 'file_size', 'creation_date', 'last_modified_date', 'last_accessed_date'], excluded_llm_metadata_keys=['file_name', 'file_type', 'file_size', 'creation_date', 'last_modified_date', 'last_accessed_date'], relationships={<NodeRelationship.SOURCE: '1'>: RelatedNodeInfo(node_id='62bcc203-adc9-4851-9741-4f0c15d75e62', node_type='4', metadata={'page_label': '65', 'file_name': 'Actualización-Plan de Cierre_Faena Taltal.pdf', 'file_path': 'C:\\\\Users\\\\gol_m\\\\OneDrive\\\\Desktop\\\\Magíster en Ciencias de la Ingeniería\\\\1_AI-MINESAFE\\\\codes_mine_safe\\\\codes_paper_geotecnia\\\\paper\\\\rag\\\\documentos\\\\cenizas_tal_tal\\\\Actualización-Plan de Cierre_Faena Taltal.pdf', 'file_type': 'application/pdf', 'file_size': 3065936, 'creation_date': '2025-04-09', 'last_modified_date': '2025-04-09'}, hash='2b57990e69f0d0d293ea1335c4b300f4a6b734dc3fafc0fcacc96af133f528cd')}, metadata_template='{key}: {value}', metadata_separator='\\n', text='4609-1100-RV-INF-001_1 Mayo, 2016 \\nExpediente Plan de Cierre Faena Taltal Página 65 de 146 \\nDepósito de Estéril (proyecto en operación) \\n \\n\\uf0b7 Estructura: Construcción de un depósito para recibir el material estéril proveniente de \\nla mina rajo \\n\\uf0b7 Dimensiones: Instalación considera aproximadamente 40 ha de superficie y 56 m de \\naltura \\n \\nPilas Dump o Pilas Estáticas (proyecto pendiente) \\n \\n\\uf0b7 Estructura: Instalación para lixiviar mineral baja ley y ley marginal proveniente de la \\nmina rajo sin chancar. \\n\\uf0b7 Dimensiones: Instalación considera aproximadamente 32 ha de superficie para mineral \\nde baja ley y 40 ha para mineral de ley marginal \\n \\n \\n7.2.2.3 Estabilidad física \\n \\nLa estabilidad física de las instalaciones que forman parte de Barreal Seco han sido analizadas \\nen las fases de diseño respectivas, ésta ha considerado la evalu ación de la instalación bajo \\ncondiciones estáticas y dinámicas (pseudo-estáticas). Estos análisis quedan consignados en \\nla información que se acompaña en el Anexo J, de donde provienen los principales resultados \\nque se indican a continuación. \\n \\nTabla 7-14: Estabilidad Física Instalaciones Barreal Seco \\nID Tipo \\ninstalación \\nNombre Estudios \\nRealizados \\nResultados Referencia \\nDE Depósito de \\nestéril \\nBarreal \\nSeco \\nAnálisis de \\nEstabilidad Física \\nUtilización de método de equilibrio límite, \\npara analizar condiciones de carga estática \\ny sísmica (aproximación pseudo-estática), \\ncumpliendo con los criterios establecidos \\n(FS estático >1,3 y FS pseudo-estático > \\n1.0) \\nAnexo J.1 \\nMR Mina rajo Barreal \\nSeco \\nAnálisis estructural, \\nanálisis rotacional y \\nanálisis según \\nRitchie \\nDiseño cumple con los criterios establecidos \\n(FS estático >1,3 y FS pseudo-estático > \\n1.1). Además la probabilidad de falla se \\nestima menor a 5% \\nAnexo J.2 \\nRL Ripios \\nlixiviación \\nPilas \\nEstáticas \\n(Barreal \\nSeco) \\nAnálisis de \\nEstabilidad Física \\nUtilización de método de equilibrio límite, \\npara analizar condiciones de carga estática \\ny sísmica (aproximación pseudo-estática), \\ncumpliendo con los criterios establecidos \\n(FS estático >1,3 y FS pseudo-estático > \\n1.0) \\nAnexo J.3 \\n \\n \\nAdemás de evidenciar la condición de diseño de las instalaciones de Barreal Seco, los estudios \\nindicados en Tabla 7-14 forman parte de las fuentes de información de los factores técnicos \\nque fueron considerados en la evaluación de riesgos de esta instalación. \\n \\n \\n7.2.2.4 Estabilidad química \\n \\nLa estabilidad química en Barreal Seco fue analizada mediante la caracterización geoquímica \\ndel material estéril generado para cada unidad litológica principal. La evaluación del potencial \\nde generación de ácido desde el mencionado material fue realizada mediante conteo ácido –', mimetype='text/plain', start_char_idx=8, end_char_idx=2705, metadata_seperator='\\n', text_template='{metadata_str}\\n\\n{content}'), score=np.float32(-3.0622818)), NodeWithScore(node=TextNode(id_='18443b33-5a6c-4c18-a4f7-60cc8145d6f4', embedding=None, metadata={'page_label': '16', 'file_name': 'Disposición de relaves_Las Luces III-Ing Básica.pdf', 'file_path': 'C:\\\\Users\\\\gol_m\\\\OneDrive\\\\Desktop\\\\Magíster en Ciencias de la Ingeniería\\\\1_AI-MINESAFE\\\\codes_mine_safe\\\\codes_paper_geotecnia\\\\paper\\\\rag\\\\documentos\\\\cenizas_tal_tal\\\\Disposición de relaves_Las Luces III-Ing Básica.pdf', 'file_type': 'application/pdf', 'file_size': 575362, 'creation_date': '2025-04-09', 'last_modified_date': '2025-04-09', 'retrieval_score': np.float32(-1.3013403)}, excluded_embed_metadata_keys=['file_name', 'file_type', 'file_size', 'creation_date', 'last_modified_date', 'last_accessed_date'], excluded_llm_metadata_keys=['file_name', 'file_type', 'file_size', 'creation_date', 'last_modified_date', 'last_accessed_date'], relationships={<NodeRelationship.SOURCE: '1'>: RelatedNodeInfo(node_id='23f47e34-ccb5-4468-8458-bce2f3ac9128', node_type='4', metadata={'page_label': '16', 'file_name': 'Disposición de relaves_Las Luces III-Ing Básica.pdf', 'file_path': 'C:\\\\Users\\\\gol_m\\\\OneDrive\\\\Desktop\\\\Magíster en Ciencias de la Ingeniería\\\\1_AI-MINESAFE\\\\codes_mine_safe\\\\codes_paper_geotecnia\\\\paper\\\\rag\\\\documentos\\\\cenizas_tal_tal\\\\Disposición de relaves_Las Luces III-Ing Básica.pdf', 'file_type': 'application/pdf', 'file_size': 575362, 'creation_date': '2025-04-09', 'last_modified_date': '2025-04-09'}, hash='c9c759f9e322a5d2611604c9e25f9ac3ad32fb96375fff135c539712f16f9290')}, metadata_template='{key}: {value}', metadata_separator='\\n', text='INFORME \\n140001-300-DOC-04 \\nPag \\nDimensionamiento de Muros del Depósito 16 \\n \\nTambién se realizó un estudio simplificado de deformaciones permanentes mediante el método de \\nNewmark y el de Bray and Travasarou (2007) para el caso del sismo máximo creíble, obteniéndose \\nlos siguientes resultados: \\nTabla 5.6 \\nAsentamientos para sismo máximo creíble \\nDescenso muro Métodp de cálculo \\ncms Newmark Bray and \\nTravasarou \\nPrincipal 2.1 9.4 \\nAuxiliar 1.5 9.7 \\n \\n \\nSe evaluó además el potencial de licuación de los relaves del depósito aplicando el método de \\nSeed con algunas hipótesis de cálculo. Se concluyó finalmente que los relaves espesados en el \\ndepósito no son potencialmente licuables. \\n \\n \\n6. CONCLUSIONES  \\n \\nEl diseño del muro principal y auxiliar del depósito de relaves espesados Las Luces III, está en \\ndirecta relación con el plan de llenado, quien define las fechas en las que se construye cada \\netapa del muro y sus cotas de coronamiento. \\n \\nLas fechas de construcción de las etapas del muro principal quedan definidas por el nivel que \\nalcanzan los relaves frente al empotramiento derecho del muro, considerando una revancha \\nmínima de 2 m. Con esto se tiene que las etapas del muro principal deberán construirse según \\nlo indicado en cuadro siguiente. \\n \\nCuadro Nº6.1, Fechas de Inicio de Construcción de Etapas de Muro Principal \\nEtapa \\nMuro \\nCota \\nCoronamiento \\nm.s.n.m. \\nInicio \\nConstrucción \\nAño \\n1 \\n2 \\n3 \\n267,0 \\n273,5 \\n282,0 \\n0 \\n2 \\n5 \\n \\n \\nLas fechas de construcción de las dos etapas del muro auxiliar quedan definidas por el nivel \\nque toma la crecida máxima probable embalsada en los sectores bajos del embalse,', mimetype='text/plain', start_char_idx=0, end_char_idx=1632, metadata_seperator='\\n', text_template='{metadata_str}\\n\\n{content}'), score=np.float32(-5.4375505)), NodeWithScore(node=TextNode(id_='876b745f-5cff-4440-b9ff-64c68aacd10e', embedding=None, metadata={'page_label': '210', 'file_name': 'Permiso sectorial_Actualización y modicacion_Las Luces.pdf', 'file_path': 'C:\\\\Users\\\\gol_m\\\\OneDrive\\\\Desktop\\\\Magíster en Ciencias de la Ingeniería\\\\1_AI-MINESAFE\\\\codes_mine_safe\\\\codes_paper_geotecnia\\\\paper\\\\rag\\\\documentos\\\\cenizas_tal_tal\\\\Permiso sectorial_Actualización y modicacion_Las Luces.pdf', 'file_type': 'application/pdf', 'file_size': 6997859, 'creation_date': '2025-04-09', 'last_modified_date': '2025-04-09', 'retrieval_score': np.float32(-1.6081467)}, excluded_embed_metadata_keys=['file_name', 'file_type', 'file_size', 'creation_date', 'last_modified_date', 'last_accessed_date'], excluded_llm_metadata_keys=['file_name', 'file_type', 'file_size', 'creation_date', 'last_modified_date', 'last_accessed_date'], relationships={<NodeRelationship.SOURCE: '1'>: RelatedNodeInfo(node_id='92a187cc-d1df-4a58-b41e-1e6b61b058d5', node_type='4', metadata={'page_label': '210', 'file_name': 'Permiso sectorial_Actualización y modicacion_Las Luces.pdf', 'file_path': 'C:\\\\Users\\\\gol_m\\\\OneDrive\\\\Desktop\\\\Magíster en Ciencias de la Ingeniería\\\\1_AI-MINESAFE\\\\codes_mine_safe\\\\codes_paper_geotecnia\\\\paper\\\\rag\\\\documentos\\\\cenizas_tal_tal\\\\Permiso sectorial_Actualización y modicacion_Las Luces.pdf', 'file_type': 'application/pdf', 'file_size': 6997859, 'creation_date': '2025-04-09', 'last_modified_date': '2025-04-09'}, hash='d6d387b8396161752917f5d389adf4bbb27f345c7b4ccf793d91ea4b3a0ae8f2')}, metadata_template='{key}: {value}', metadata_separator='\\n', text='GHD Solicitud Permiso Sectorial PAS 101 - Depósito de Relaves Espesados, Proyecto  “Actualización y Modificación \\nproyecto Las Luces” Minera Las Cenizas Faena Taltal |198 \\n6. Plan de Operación Normal \\nMinera Las Cenizas, reconoce que u na de las operaciones importantes asociadas a las plantas \\nconcentradoras, es la disposición de los relaves, en un depósito los cuales pueden ser en  forma \\nde pulpas de relaves, en bajas o altas concentracio nes (Cp), por lo que es necesario, que se \\ngenere un procedimiento para la operación normal del proyecto de Depósito de Relaves \\nEspesado. \\nEn el Anexo M, se encuentra el documento Procedimiento para Operación de Depósito de Relaves \\nEspesado, desarrollado por  el Grupo Minero Las Cenizas, para su instalación en Planta Las \\nLuces. \\nEste procedimiento, está dirigido a quienes sean parte de la operación del depósito de relaves \\nespesados de Planta Las Luces, y presenta el detalle tanto del proceso regular como de \\nsituaciones extraordinarias no expuestas en el Plan de Emergencia. \\nEl contenido del procedimiento se enfoca en: \\n\\uf097 Indicar las responsabilidades y deberes que tiene cada persona que interviene en el \\ndepósito. \\n\\uf097 Indicar los Elementos de Protección Personal necesarios para ingresar al sector del \\ndepósito. \\n\\uf097 Dar a conocer las funciones que cumple cada instalación del depósito, respaldados con un \\ndiagrama de flujo.  \\n\\uf097 Mostrar los parámetros funcionando bajo condición normal contenidos en el Plan de \\ninspección Regular. \\n\\uf097 Mostrar un resumen de posibles eventos críticos y sus acciones, contenidos en el Plan de \\nInspección ante Situaciones Extraordinarias. \\n\\uf097 Presentar el procedimiento de las acciones a seguir en cada una de las instalaciones en sus \\ndistintas etapas operativas. \\n\\uf097 Presentar un análisis de trabajo para las distintas etapas operativas, sus riesgos asociados \\ny las acciones correctivas. \\n\\uf097 Acciones en caso de emergencia. \\nTodo lo anteriormente mencionado y mayores detalles se presentan en el Anexo M Plan de \\nOperación “Procedimiento de Trabajo: Operación de depósito de Relaves Espesados”.', mimetype='text/plain', start_char_idx=2, end_char_idx=2086, metadata_seperator='\\n', text_template='{metadata_str}\\n\\n{content}'), score=np.float32(-5.601059))], metadata={'67702497-74cc-485f-a3d2-075270e08aa4': {'page_label': '78', 'file_name': 'Actualización-Plan de Cierre_Faena Taltal.pdf', 'file_path': 'C:\\\\Users\\\\gol_m\\\\OneDrive\\\\Desktop\\\\Magíster en Ciencias de la Ingeniería\\\\1_AI-MINESAFE\\\\codes_mine_safe\\\\codes_paper_geotecnia\\\\paper\\\\rag\\\\documentos\\\\cenizas_tal_tal\\\\Actualización-Plan de Cierre_Faena Taltal.pdf', 'file_type': 'application/pdf', 'file_size': 3065936, 'creation_date': '2025-04-09', 'last_modified_date': '2025-04-09', 'retrieval_score': np.float32(-2.2003026)}, 'aad81236-3294-42f1-b3b9-24ea043bb3f2': {'page_label': '65', 'file_name': 'Actualización-Plan de Cierre_Faena Taltal.pdf', 'file_path': 'C:\\\\Users\\\\gol_m\\\\OneDrive\\\\Desktop\\\\Magíster en Ciencias de la Ingeniería\\\\1_AI-MINESAFE\\\\codes_mine_safe\\\\codes_paper_geotecnia\\\\paper\\\\rag\\\\documentos\\\\cenizas_tal_tal\\\\Actualización-Plan de Cierre_Faena Taltal.pdf', 'file_type': 'application/pdf', 'file_size': 3065936, 'creation_date': '2025-04-09', 'last_modified_date': '2025-04-09', 'retrieval_score': np.float32(-2.3026638)}, '18443b33-5a6c-4c18-a4f7-60cc8145d6f4': {'page_label': '16', 'file_name': 'Disposición de relaves_Las Luces III-Ing Básica.pdf', 'file_path': 'C:\\\\Users\\\\gol_m\\\\OneDrive\\\\Desktop\\\\Magíster en Ciencias de la Ingeniería\\\\1_AI-MINESAFE\\\\codes_mine_safe\\\\codes_paper_geotecnia\\\\paper\\\\rag\\\\documentos\\\\cenizas_tal_tal\\\\Disposición de relaves_Las Luces III-Ing Básica.pdf', 'file_type': 'application/pdf', 'file_size': 575362, 'creation_date': '2025-04-09', 'last_modified_date': '2025-04-09', 'retrieval_score': np.float32(-1.3013403)}, '876b745f-5cff-4440-b9ff-64c68aacd10e': {'page_label': '210', 'file_name': 'Permiso sectorial_Actualización y modicacion_Las Luces.pdf', 'file_path': 'C:\\\\Users\\\\gol_m\\\\OneDrive\\\\Desktop\\\\Magíster en Ciencias de la Ingeniería\\\\1_AI-MINESAFE\\\\codes_mine_safe\\\\codes_paper_geotecnia\\\\paper\\\\rag\\\\documentos\\\\cenizas_tal_tal\\\\Permiso sectorial_Actualización y modicacion_Las Luces.pdf', 'file_type': 'application/pdf', 'file_size': 6997859, 'creation_date': '2025-04-09', 'last_modified_date': '2025-04-09', 'retrieval_score': np.float32(-1.6081467)}})"
      ]
     },
     "execution_count": 3,
     "metadata": {},
     "output_type": "execute_result"
    }
   ],
   "source": [
    "response = pipeline_rag.query(\"Tipo de depósito?\")\n",
    "response"
   ]
  },
  {
   "cell_type": "code",
   "execution_count": 5,
   "id": "3eab2189",
   "metadata": {},
   "outputs": [
    {
     "data": {
      "text/markdown": [
       "El tipo de depósito mencionado en el contexto se refiere a depósitos de estéril y depósitos de relaves espesados. A continuación, se detallan las características de cada uno:\n",
       "\n",
       "1. **Depósito de Estéril (existente)**:\n",
       "   - **Estructura**: Ubicado a unos 200 metros frente a la bocamina.\n",
       "   - **Dimensión**: Ocupa una superficie aproximada de 1,5 hectáreas.\n",
       "\n",
       "2. **Depósito de Estéril (proyectado)**:\n",
       "   - **Estructura**: Nueva zona de depositación de estéril, ubicada al suroeste del depósito existente.\n",
       "   - **Capacidad**: Capacidad de depositación proyectada de 2,0 millones de toneladas.\n",
       "\n",
       "3. **Depósito de Estéril (proyecto en operación)**:\n",
       "   - **Estructura**: Construcción de un depósito para recibir el material estéril proveniente de la mina rajo.\n",
       "   - **Dimensiones**: Aproximadamente 40 hectáreas de superficie y 56 metros de altura.\n",
       "\n",
       "4. **Pilas Dump o Pilas Estáticas (proyecto pendiente)**:\n",
       "   - **Estructura**: Instalación para lixiviar mineral de baja ley y ley marginal proveniente de la mina rajo sin chancar.\n",
       "   - **Dimensiones**: Aproximadamente 32 hectáreas de superficie para mineral de baja ley y 40 hectáreas para mineral de ley marginal.\n",
       "\n",
       "5. **Depósito de Relaves Espesados**:\n",
       "   - **Estructura**: Se menciona un procedimiento para la operación normal del proyecto de depósito de relaves espesados, que incluye la disposición de los relaves en forma de pulpas.\n",
       "\n",
       "Si necesitas información más específica sobre algún tipo de depósito, por favor indícalo."
      ],
      "text/plain": [
       "<IPython.core.display.Markdown object>"
      ]
     },
     "metadata": {},
     "output_type": "display_data"
    }
   ],
   "source": [
    "from IPython.display import display, Markdown\n",
    "\n",
    "display(Markdown(response.response))"
   ]
  },
  {
   "cell_type": "markdown",
   "id": "ab81e90f",
   "metadata": {},
   "source": [
    "What we did not mention in our paper (since it was not the focus) is that by increasing the probability of finding the pieces of text (nodes) that contain the information, we improve the response quality of the LLM."
   ]
  },
  {
   "cell_type": "markdown",
   "id": "3e042932",
   "metadata": {},
   "source": [
    "# **Paper AsyncMultiQuery TSF-RAG**"
   ]
  },
  {
   "cell_type": "markdown",
   "id": "eed91713",
   "metadata": {},
   "source": [
    "Now we are going to replicate what is indicated in the article by evaluating each embedding model and each RAG system for the 5 TSFs."
   ]
  },
  {
   "cell_type": "markdown",
   "id": "ec4cf0ef",
   "metadata": {},
   "source": [
    "## **5. Experimental setup and results**"
   ]
  },
  {
   "cell_type": "markdown",
   "id": "f1faa298",
   "metadata": {},
   "source": [
    "### **5.2 Embeddings evaluation**"
   ]
  },
  {
   "cell_type": "markdown",
   "id": "fd7ee048",
   "metadata": {},
   "source": [
    "#### **1. Sand Tailing Dams (STD)**"
   ]
  },
  {
   "cell_type": "markdown",
   "id": "6e7f01ca",
   "metadata": {},
   "source": [
    "##### **1.1 Model: All-MiniLM-L6-v2**"
   ]
  },
  {
   "cell_type": "code",
   "execution_count": 6,
   "id": "df2ab0e0",
   "metadata": {},
   "outputs": [
    {
     "name": "stdout",
     "output_type": "stream",
     "text": [
      "🚀 EVALUACIÓN RÁPIDA INICIADA\n",
      "==================================================\n",
      "🤖 Cargando modelo tipo: huggingface\n",
      "📁 Storage path: ./src/evaluation_retrieval/vector_storage/01_cerro_negro_tranque/01_cerro_negro_all_mini_L6_v2\n",
      "   📦 Modelo HuggingFace: sentence-transformers/all-MiniLM-L6-v2\n",
      "✅ Modelo cargado exitosamente!\n",
      "📋 Cargando ground truth: ./src/evaluation_retrieval/ground_truth_retrieval/01_tranque_ground_truth_evaluacion.json\n",
      "✅ Ground truth cargado exitosamente!\n",
      "  📊 Tipo de depósito: tranque_de_relaves\n",
      "  📈 Número de matrices: 6\n",
      "  🔍 Total de parámetros: 9\n",
      "    • matriz_1: 2 parámetros\n",
      "    • matriz_2: 3 parámetros\n",
      "    • matriz_4: 1 parámetros\n",
      "    • matriz_6: 1 parámetros\n",
      "    • matriz_7: 1 parámetros\n",
      "    • matriz_8: 1 parámetros\n",
      "🚀 Iniciando evaluación completa (top_k=13)...\n",
      "📊 Total de parámetros a evaluar: 9\n",
      "\n",
      "📈 Evaluando matriz: matriz_1 (2 parámetros)\n"
     ]
    },
    {
     "name": "stderr",
     "output_type": "stream",
     "text": [
      "                                                                       \r"
     ]
    },
    {
     "name": "stdout",
     "output_type": "stream",
     "text": [
      "    📊 Promedio matriz matriz_1:\n",
      "       Precision: 0.3077\n",
      "       Recall:    0.0889\n",
      "       F1-Score:  0.1379\n",
      "       AP:        0.0760\n",
      "\n",
      "📈 Evaluando matriz: matriz_2 (3 parámetros)\n"
     ]
    },
    {
     "name": "stderr",
     "output_type": "stream",
     "text": [
      "                                                               \r"
     ]
    },
    {
     "name": "stdout",
     "output_type": "stream",
     "text": [
      "    📊 Promedio matriz matriz_2:\n",
      "       Precision: 0.0513\n",
      "       Recall:    0.3333\n",
      "       F1-Score:  0.0889\n",
      "       AP:        0.1389\n",
      "\n",
      "📈 Evaluando matriz: matriz_4 (1 parámetros)\n"
     ]
    },
    {
     "name": "stderr",
     "output_type": "stream",
     "text": [
      "                                                               \r"
     ]
    },
    {
     "name": "stdout",
     "output_type": "stream",
     "text": [
      "    📊 Promedio matriz matriz_4:\n",
      "       Precision: 0.1538\n",
      "       Recall:    0.6667\n",
      "       F1-Score:  0.2500\n",
      "       AP:        0.1162\n",
      "\n",
      "📈 Evaluando matriz: matriz_6 (1 parámetros)\n"
     ]
    },
    {
     "name": "stderr",
     "output_type": "stream",
     "text": [
      "                                                               \r"
     ]
    },
    {
     "name": "stdout",
     "output_type": "stream",
     "text": [
      "    📊 Promedio matriz matriz_6:\n",
      "       Precision: 0.0000\n",
      "       Recall:    0.0000\n",
      "       F1-Score:  0.0000\n",
      "       AP:        0.0000\n",
      "\n",
      "📈 Evaluando matriz: matriz_7 (1 parámetros)\n"
     ]
    },
    {
     "name": "stderr",
     "output_type": "stream",
     "text": [
      "                                                               \r"
     ]
    },
    {
     "name": "stdout",
     "output_type": "stream",
     "text": [
      "    📊 Promedio matriz matriz_7:\n",
      "       Precision: 0.0769\n",
      "       Recall:    0.3333\n",
      "       F1-Score:  0.1250\n",
      "       AP:        0.3333\n",
      "\n",
      "📈 Evaluando matriz: matriz_8 (1 parámetros)\n"
     ]
    },
    {
     "name": "stderr",
     "output_type": "stream",
     "text": [
      "                                                               "
     ]
    },
    {
     "name": "stdout",
     "output_type": "stream",
     "text": [
      "    📊 Promedio matriz matriz_8:\n",
      "       Precision: 0.0769\n",
      "       Recall:    0.3333\n",
      "       F1-Score:  0.1250\n",
      "       AP:        0.0278\n",
      "\n",
      "✅ Evaluación completa terminada!\n",
      "📊 Total evaluaciones realizadas: 9\n",
      "\n",
      "======================================================================\n",
      "📈 RESUMEN DE EVALUACIÓN DE EMBEDDINGS\n",
      "======================================================================\n",
      "🤖 Modelo: sentence-transformers/all-MiniLM-L6-v2\n",
      "🏗️  Tipo de depósito: tranque_de_relaves\n",
      "📅 Fecha evaluación: 2025-10-26 22:21:52\n",
      "🎯 Top-K evaluado: 13\n",
      "📊 Total parámetros: 9\n",
      "\n",
      "🌍 MÉTRICAS GLOBALES (Promedio de todos los parámetros):\n",
      "--------------------------------------------------\n",
      "Precision:     0.1197\n",
      "Recall:        0.2790\n",
      "F1-Score:      0.1158\n",
      "Avg Precision: 0.1162\n",
      "\n",
      "📊 MÉTRICAS POR MATRIZ:\n",
      "--------------------------------------------------\n",
      "\n",
      "📈 matriz_1:\n",
      "  Precision:     0.3077\n",
      "  Recall:        0.0889\n",
      "  F1-Score:      0.1379\n",
      "  Avg Precision: 0.0760\n",
      "\n",
      "📈 matriz_2:\n",
      "  Precision:     0.0513\n",
      "  Recall:        0.3333\n",
      "  F1-Score:      0.0889\n",
      "  Avg Precision: 0.1389\n",
      "\n",
      "📈 matriz_4:\n",
      "  Precision:     0.1538\n",
      "  Recall:        0.6667\n",
      "  F1-Score:      0.2500\n",
      "  Avg Precision: 0.1162\n",
      "\n",
      "📈 matriz_6:\n",
      "  Precision:     0.0000\n",
      "  Recall:        0.0000\n",
      "  F1-Score:      0.0000\n",
      "  Avg Precision: 0.0000\n",
      "\n",
      "📈 matriz_7:\n",
      "  Precision:     0.0769\n",
      "  Recall:        0.3333\n",
      "  F1-Score:      0.1250\n",
      "  Avg Precision: 0.3333\n",
      "\n",
      "📈 matriz_8:\n",
      "  Precision:     0.0769\n",
      "  Recall:        0.3333\n",
      "  F1-Score:      0.1250\n",
      "  Avg Precision: 0.0278\n",
      "\n",
      "🏆 TOP 3 MEJORES PARÁMETROS (por F1-Score):\n",
      "--------------------------------------------------\n",
      "1. matriz_1 - parametro_1\n",
      "   F1: 0.2759, P: 0.6154, R: 0.1778\n",
      "2. matriz_2 - parametro_3\n",
      "   F1: 0.2667, P: 0.1538, R: 1.0000\n",
      "3. matriz_4 - parametro_1\n",
      "   F1: 0.2500, P: 0.1538, R: 0.6667\n",
      "\n",
      "🔻 TOP 3 PEORES PARÁMETROS (por F1-Score):\n",
      "--------------------------------------------------\n",
      "1. matriz_2 - parametro_1\n",
      "   F1: 0.0000, P: 0.0000, R: 0.0000\n",
      "2. matriz_2 - parametro_4\n",
      "   F1: 0.0000, P: 0.0000, R: 0.0000\n",
      "3. matriz_6 - parametro_1\n",
      "   F1: 0.0000, P: 0.0000, R: 0.0000\n",
      "\n",
      "======================================================================\n",
      "💾 Resultados completos guardados en: src\\results\\01_tranque_retrieval_evaluation\\eval_sentence-transformers_all-MiniLM-L6-v2_tranque_de_relaves_k13_20251026_222153_complete.json\n",
      "📋 Resumen guardado en: src\\results\\01_tranque_retrieval_evaluation\\eval_sentence-transformers_all-MiniLM-L6-v2_tranque_de_relaves_k13_20251026_222153_summary.json\n"
     ]
    },
    {
     "name": "stderr",
     "output_type": "stream",
     "text": [
      "\r"
     ]
    }
   ],
   "source": [
    "from evaluation_retrieval import EmbeddingEvaluatorV3\n",
    "\n",
    "evaluator = EmbeddingEvaluatorV3(results_dir=\"./src/results/01_tranque_retrieval_evaluation\")\n",
    "\n",
    "# Una sola línea para evaluar todo\n",
    "results, df = evaluator.quick_evaluate(\n",
    "    model_config={\"model_type\": \"huggingface\", \"model_id\": \"sentence-transformers/all-MiniLM-L6-v2\"},\n",
    "    storage_path=\"./src/evaluation_retrieval/vector_storage/01_cerro_negro_tranque/01_cerro_negro_all_mini_L6_v2\",\n",
    "    ground_truth_path=\"./src/evaluation_retrieval/ground_truth_retrieval/01_tranque_ground_truth_evaluacion.json\",\n",
    "    top_k=13\n",
    ")"
   ]
  },
  {
   "cell_type": "markdown",
   "id": "0ec1e148",
   "metadata": {},
   "source": [
    "### **5.3 Comparison of RAG systems**"
   ]
  },
  {
   "cell_type": "code",
   "execution_count": 2,
   "id": "14368d20",
   "metadata": {},
   "outputs": [
    {
     "name": "stderr",
     "output_type": "stream",
     "text": [
      "c:\\Users\\gol_m\\anaconda3\\envs\\paper_geotecnia\\lib\\site-packages\\tqdm\\auto.py:21: TqdmWarning: IProgress not found. Please update jupyter and ipywidgets. See https://ipywidgets.readthedocs.io/en/stable/user_install.html\n",
      "  from .autonotebook import tqdm as notebook_tqdm\n"
     ]
    },
    {
     "name": "stdout",
     "output_type": "stream",
     "text": [
      "resource module not available on Windows\n"
     ]
    }
   ],
   "source": [
    "from rag import NaiveRAG, AdvancedRAG, HybridRAG, AdvancedHybridRAG, AsyncMultiQueryRAG\n",
    "from evaluation_rag import auto_evaluation_rag\n",
    "from llms_modules import LLMEvaluator"
   ]
  },
  {
   "cell_type": "markdown",
   "id": "cb326139",
   "metadata": {},
   "source": [
    "#### **1. Naive RAG System Evaluation**"
   ]
  },
  {
   "cell_type": "markdown",
   "id": "07ee4fb2",
   "metadata": {},
   "source": [
    "This section evaluates the 5 TSFs for the RAG system called Naive."
   ]
  },
  {
   "cell_type": "markdown",
   "id": "881a95f1",
   "metadata": {},
   "source": [
    "##### **1.1 Sand Tailing Dams (STD)**"
   ]
  },
  {
   "cell_type": "code",
   "execution_count": 3,
   "id": "1ed2800d",
   "metadata": {},
   "outputs": [
    {
     "name": "stderr",
     "output_type": "stream",
     "text": [
      "Evaluación Matriz:   0%|          | 0/8 [00:00<?, ?it/s]"
     ]
    },
    {
     "name": "stdout",
     "output_type": "stream",
     "text": [
      "Matriz 1\n"
     ]
    },
    {
     "name": "stderr",
     "output_type": "stream",
     "text": [
      "Evaluación Matriz:  12%|█▎        | 1/8 [00:19<02:17, 19.71s/it]"
     ]
    },
    {
     "name": "stdout",
     "output_type": "stream",
     "text": [
      "Matriz 2\n"
     ]
    },
    {
     "name": "stderr",
     "output_type": "stream",
     "text": [
      "Evaluación Matriz:  25%|██▌       | 2/8 [00:28<01:19, 13.20s/it]"
     ]
    },
    {
     "name": "stdout",
     "output_type": "stream",
     "text": [
      "Matriz 3\n"
     ]
    },
    {
     "name": "stderr",
     "output_type": "stream",
     "text": [
      "Evaluación Matriz:  38%|███▊      | 3/8 [00:33<00:46,  9.35s/it]"
     ]
    },
    {
     "name": "stdout",
     "output_type": "stream",
     "text": [
      "Matriz 4\n"
     ]
    },
    {
     "name": "stderr",
     "output_type": "stream",
     "text": [
      "Evaluación Matriz:  50%|█████     | 4/8 [00:38<00:31,  7.85s/it]"
     ]
    },
    {
     "name": "stdout",
     "output_type": "stream",
     "text": [
      "Matriz 5\n"
     ]
    },
    {
     "name": "stderr",
     "output_type": "stream",
     "text": [
      "Evaluación Matriz:  62%|██████▎   | 5/8 [00:48<00:25,  8.47s/it]"
     ]
    },
    {
     "name": "stdout",
     "output_type": "stream",
     "text": [
      "Matriz 6\n"
     ]
    },
    {
     "name": "stderr",
     "output_type": "stream",
     "text": [
      "Evaluación Matriz:  75%|███████▌  | 6/8 [00:57<00:17,  8.89s/it]"
     ]
    },
    {
     "name": "stdout",
     "output_type": "stream",
     "text": [
      "Matriz 7\n"
     ]
    },
    {
     "name": "stderr",
     "output_type": "stream",
     "text": [
      "Evaluación Matriz:  88%|████████▊ | 7/8 [01:11<00:10, 10.53s/it]"
     ]
    },
    {
     "name": "stdout",
     "output_type": "stream",
     "text": [
      "Matriz 8\n"
     ]
    },
    {
     "name": "stderr",
     "output_type": "stream",
     "text": [
      "Evaluación Matriz: 100%|██████████| 8/8 [01:22<00:00, 10.37s/it]\n"
     ]
    },
    {
     "name": "stdout",
     "output_type": "stream",
     "text": [
      "El tiempo en evaluar fue: 83.2460584640503\n"
     ]
    }
   ],
   "source": [
    "import time \n",
    "\n",
    "path_vector_storage=\"./src/evaluation_retrieval/vector_storage/01_cerro_negro_tranque/01_cerro_negro_nomic\"\n",
    "embedding_type=\"nomic\"\n",
    "embedding_model_name=\"nomic-embed-text-v1.5\"\n",
    "\n",
    "path_ground_truth_rag = \"./src/evaluation_rag/rag_ground_truth/01_STD_Tranque_GT.xlsx\"\n",
    "nombre_excel = \"01_STD_NaiveRAG_nomic.xlsx\"\n",
    "\n",
    "pipeline_rag = NaiveRAG(\n",
    "    path_vector_storage=path_vector_storage,\n",
    "    embedding_type=embedding_type,\n",
    "    embedding_model_name=embedding_model_name,\n",
    ")\n",
    "\n",
    "llm_evaluador = LLMEvaluator()\n",
    "\n",
    "inicio = time.time()\n",
    "auto_evaluation_rag(\n",
    "    path_ground_truth=path_ground_truth_rag,\n",
    "    name_excel=nombre_excel,\n",
    "    pipeline_rag=pipeline_rag,\n",
    "    llm_evaluador=llm_evaluador\n",
    ")\n",
    "fin = time.time()\n",
    "tiempo = fin - inicio\n",
    "print(\"El tiempo en evaluar fue:\", tiempo)"
   ]
  },
  {
   "cell_type": "markdown",
   "id": "d0bf27a4",
   "metadata": {},
   "source": [
    "##### **1.2 Filtered Tailings Deposit (FTD)**"
   ]
  },
  {
   "cell_type": "code",
   "execution_count": null,
   "id": "25b85fb1",
   "metadata": {},
   "outputs": [],
   "source": [
    "import time \n",
    "\n",
    "path_vector_storage=\"./src/evaluation_retrieval/vector_storage/01_cerro_negro_tranque/01_cerro_negro_nomic\"\n",
    "embedding_type=\"nomic\"\n",
    "embedding_model_name=\"nomic-embed-text-v1.5\"\n",
    "\n",
    "path_ground_truth_rag = \"./src/evaluation_rag/rag_ground_truth/02_FTD_Filtrado_GT.xlsx\"\n",
    "nombre_excel = \"01_FTD_NaiveRAG_nomic.xlsx\"\n",
    "\n",
    "pipeline_rag = NaiveRAG(\n",
    "    path_vector_storage=path_vector_storage,\n",
    "    embedding_type=embedding_type,\n",
    "    embedding_model_name=embedding_model_name,\n",
    ")\n",
    "\n",
    "llm_evaluador = LLMEvaluator()\n",
    "\n",
    "inicio = time.time()\n",
    "auto_evaluation_rag(\n",
    "    path_ground_truth=path_ground_truth_rag,\n",
    "    name_excel=nombre_excel,\n",
    "    pipeline_rag=pipeline_rag,\n",
    "    llm_evaluador=llm_evaluador\n",
    ")\n",
    "fin = time.time()\n",
    "tiempo = fin - inicio\n",
    "print(\"El tiempo en evaluar fue:\", tiempo)"
   ]
  },
  {
   "cell_type": "markdown",
   "id": "4613b246",
   "metadata": {},
   "source": [
    "##### **1.3 Thickened Tailings Deposit (TTD)**"
   ]
  },
  {
   "cell_type": "code",
   "execution_count": null,
   "id": "3f9daa9d",
   "metadata": {},
   "outputs": [],
   "source": [
    "import time \n",
    "\n",
    "path_vector_storage=\"./src/evaluation_retrieval/vector_storage/01_cerro_negro_tranque/01_cerro_negro_nomic\"\n",
    "embedding_type=\"nomic\"\n",
    "embedding_model_name=\"nomic-embed-text-v1.5\"\n",
    "\n",
    "path_ground_truth_rag = \"./src/evaluation_rag/rag_ground_truth/03_TTD_Espesado_GT.xlsx\"\n",
    "nombre_excel = \"01_TTD_NaiveRAG_nomic.xlsx\"\n",
    "\n",
    "pipeline_rag = NaiveRAG(\n",
    "    path_vector_storage=path_vector_storage,\n",
    "    embedding_type=embedding_type,\n",
    "    embedding_model_name=embedding_model_name,\n",
    ")\n",
    "\n",
    "llm_evaluador = LLMEvaluator()\n",
    "\n",
    "inicio = time.time()\n",
    "auto_evaluation_rag(\n",
    "    path_ground_truth=path_ground_truth_rag,\n",
    "    name_excel=nombre_excel,\n",
    "    pipeline_rag=pipeline_rag,\n",
    "    llm_evaluador=llm_evaluador\n",
    ")\n",
    "fin = time.time()\n",
    "tiempo = fin - inicio\n",
    "print(\"El tiempo en evaluar fue:\", tiempo)"
   ]
  },
  {
   "cell_type": "markdown",
   "id": "ce1d660f",
   "metadata": {},
   "source": [
    "##### **1.4 Tailings Embankments (TE)**"
   ]
  },
  {
   "cell_type": "code",
   "execution_count": null,
   "id": "d77a596b",
   "metadata": {},
   "outputs": [],
   "source": [
    "import time \n",
    "\n",
    "path_vector_storage=\"./src/evaluation_retrieval/vector_storage/01_cerro_negro_tranque/01_cerro_negro_nomic\"\n",
    "embedding_type=\"nomic\"\n",
    "embedding_model_name=\"nomic-embed-text-v1.5\"\n",
    "\n",
    "path_ground_truth_rag = \"./src/evaluation_rag/rag_ground_truth/04_TE_Embalse_GT.xlsx\"\n",
    "nombre_excel = \"01_TE_NaiveRAG_nomic.xlsx\"\n",
    "\n",
    "pipeline_rag = NaiveRAG(\n",
    "    path_vector_storage=path_vector_storage,\n",
    "    embedding_type=embedding_type,\n",
    "    embedding_model_name=embedding_model_name,\n",
    ")\n",
    "\n",
    "llm_evaluador = LLMEvaluator()\n",
    "\n",
    "inicio = time.time()\n",
    "auto_evaluation_rag(\n",
    "    path_ground_truth=path_ground_truth_rag,\n",
    "    name_excel=nombre_excel,\n",
    "    pipeline_rag=pipeline_rag,\n",
    "    llm_evaluador=llm_evaluador\n",
    ")\n",
    "fin = time.time()\n",
    "tiempo = fin - inicio\n",
    "print(\"El tiempo en evaluar fue:\", tiempo)"
   ]
  },
  {
   "cell_type": "markdown",
   "id": "ab38655f",
   "metadata": {},
   "source": [
    "##### **1.5 Paste Tailings Deposits (PTD)**"
   ]
  },
  {
   "cell_type": "code",
   "execution_count": null,
   "id": "c8fa5d6a",
   "metadata": {},
   "outputs": [],
   "source": [
    "import time \n",
    "\n",
    "path_vector_storage=\"./src/evaluation_retrieval/vector_storage/01_cerro_negro_tranque/01_cerro_negro_nomic\"\n",
    "embedding_type=\"nomic\"\n",
    "embedding_model_name=\"nomic-embed-text-v1.5\"\n",
    "\n",
    "path_ground_truth_rag = \"./src/evaluation_rag/rag_ground_truth/05_PTD_EnPasta_GT.xlsx\"\n",
    "nombre_excel = \"01_PTD_NaiveRAG_nomic.xlsx\"\n",
    "\n",
    "pipeline_rag = NaiveRAG(\n",
    "    path_vector_storage=path_vector_storage,\n",
    "    embedding_type=embedding_type,\n",
    "    embedding_model_name=embedding_model_name,\n",
    ")\n",
    "\n",
    "llm_evaluador = LLMEvaluator()\n",
    "\n",
    "inicio = time.time()\n",
    "auto_evaluation_rag(\n",
    "    path_ground_truth=path_ground_truth_rag,\n",
    "    name_excel=nombre_excel,\n",
    "    pipeline_rag=pipeline_rag,\n",
    "    llm_evaluador=llm_evaluador\n",
    ")\n",
    "fin = time.time()\n",
    "tiempo = fin - inicio\n",
    "print(\"El tiempo en evaluar fue:\", tiempo)"
   ]
  },
  {
   "cell_type": "markdown",
   "id": "e566dbf1",
   "metadata": {},
   "source": [
    "#### **2. Advanced RAG System Evaluation**"
   ]
  },
  {
   "cell_type": "markdown",
   "id": "e5bd155c",
   "metadata": {},
   "source": [
    "##### **1.1 Sand Tailing Dams (STD)**"
   ]
  },
  {
   "cell_type": "markdown",
   "id": "78911fff",
   "metadata": {},
   "source": [
    "##### **1.2 Filtered Tailings Deposit (FTD)**"
   ]
  },
  {
   "cell_type": "markdown",
   "id": "8f710d1c",
   "metadata": {},
   "source": [
    "##### **1.3 Thickened Tailings Deposit (TTD)**"
   ]
  },
  {
   "cell_type": "markdown",
   "id": "e2aff017",
   "metadata": {},
   "source": [
    "##### **1.4 Tailings Embankments (TE)**"
   ]
  },
  {
   "cell_type": "markdown",
   "id": "77e903ec",
   "metadata": {},
   "source": [
    "##### **1.5 Paste Tailings Deposits (PTD)**"
   ]
  },
  {
   "cell_type": "markdown",
   "id": "949844ae",
   "metadata": {},
   "source": []
  },
  {
   "cell_type": "markdown",
   "id": "e9e596d2",
   "metadata": {},
   "source": []
  },
  {
   "cell_type": "markdown",
   "id": "628767b6",
   "metadata": {},
   "source": []
  },
  {
   "cell_type": "markdown",
   "id": "ce968ca6",
   "metadata": {},
   "source": []
  },
  {
   "cell_type": "markdown",
   "id": "13a54459",
   "metadata": {},
   "source": []
  },
  {
   "cell_type": "markdown",
   "id": "3491e312",
   "metadata": {},
   "source": []
  },
  {
   "cell_type": "code",
   "execution_count": 17,
   "id": "7d1b3f71",
   "metadata": {},
   "outputs": [
    {
     "data": {
      "text/html": [
       "<div>\n",
       "<style scoped>\n",
       "    .dataframe tbody tr th:only-of-type {\n",
       "        vertical-align: middle;\n",
       "    }\n",
       "\n",
       "    .dataframe tbody tr th {\n",
       "        vertical-align: top;\n",
       "    }\n",
       "\n",
       "    .dataframe thead th {\n",
       "        text-align: right;\n",
       "    }\n",
       "</style>\n",
       "<table border=\"1\" class=\"dataframe\">\n",
       "  <thead>\n",
       "    <tr style=\"text-align: right;\">\n",
       "      <th></th>\n",
       "      <th>Parametro 1</th>\n",
       "      <th>Unnamed: 1</th>\n",
       "    </tr>\n",
       "  </thead>\n",
       "  <tbody>\n",
       "    <tr>\n",
       "      <th>0</th>\n",
       "      <td>Pregunta</td>\n",
       "      <td>Respuesta</td>\n",
       "    </tr>\n",
       "    <tr>\n",
       "      <th>1</th>\n",
       "      <td>¿Cuál es el tipo de depósito de relaves al que...</td>\n",
       "      <td>Depósito de relaves tranque</td>\n",
       "    </tr>\n",
       "    <tr>\n",
       "      <th>2</th>\n",
       "      <td>Parametro 2</td>\n",
       "      <td>NaN</td>\n",
       "    </tr>\n",
       "    <tr>\n",
       "      <th>3</th>\n",
       "      <td>Pregunta</td>\n",
       "      <td>Respuesta</td>\n",
       "    </tr>\n",
       "    <tr>\n",
       "      <th>4</th>\n",
       "      <td>¿Cuál fue el método de construcción del tranqu...</td>\n",
       "      <td>eje central, considerando un talud de aguas ar...</td>\n",
       "    </tr>\n",
       "  </tbody>\n",
       "</table>\n",
       "</div>"
      ],
      "text/plain": [
       "                                         Parametro 1  \\\n",
       "0                                          Pregunta    \n",
       "1  ¿Cuál es el tipo de depósito de relaves al que...   \n",
       "2                                        Parametro 2   \n",
       "3                                          Pregunta    \n",
       "4  ¿Cuál fue el método de construcción del tranqu...   \n",
       "\n",
       "                                          Unnamed: 1  \n",
       "0                                          Respuesta  \n",
       "1                        Depósito de relaves tranque  \n",
       "2                                                NaN  \n",
       "3                                          Respuesta  \n",
       "4  eje central, considerando un talud de aguas ar...  "
      ]
     },
     "execution_count": 17,
     "metadata": {},
     "output_type": "execute_result"
    }
   ],
   "source": [
    "excel_file['Matriz 1']"
   ]
  },
  {
   "cell_type": "code",
   "execution_count": 10,
   "id": "4041c4b1",
   "metadata": {},
   "outputs": [],
   "source": [
    "path_vector_storage=\"./src/evaluation_retrieval/vector_storage/01_cerro_negro_tranque/01_cerro_negro_nomic\"\n",
    "embedding_type=\"nomic\"\n",
    "embedding_model_name=\"nomic-embed-text-v1.5\"\n",
    "\n",
    "path_ground_truth_rag = \"./src/evaluation_rag/rag_ground_truth/01_STD_Tranque_GT.xlsx\"\n",
    "nombre_excel = \"01_STD_NaiveRAG_nomic.xlsx\"\n",
    "\n",
    "pipeline_rag = NaiveRAG(\n",
    "    path_vector_storage=path_vector_storage,\n",
    "    embedding_type=embedding_type,\n",
    "    embedding_model_name=embedding_model_name,\n",
    ")"
   ]
  },
  {
   "cell_type": "code",
   "execution_count": 11,
   "id": "7ab87aa6",
   "metadata": {},
   "outputs": [
    {
     "data": {
      "text/plain": [
       "Response(response='El Tranque Nº 6 es del tipo convencional, lo que significa que los relaves son procesados a través de un sistema de clasificación que separa la fracción gruesa (arena) de la fracción fina (lamas). La altura del muro del tranque es de 38,0 metros en su condición actual y se proyecta que alcanzará 47,5 metros con la ampliación. La inclinación del talud aguas abajo es de 1:3,0 en la condición actual y de 1:2,7 con el proyecto. \\n\\nLos factores de seguridad calculados para la condición estática son 2,65 en la situación actual y 2,13 con el proyecto, mientras que para la condición sísmica son 1,47 y 1,30, respectivamente. Estos valores cumplen con los criterios de diseño, que requieren que sean mayores a 1,2.\\n\\nEn resumen, el tipo de Tranque de Relaves Nº 6 es convencional, con un muro resistente de arenas y lamas, y se encuentra en proceso de ampliación.', source_nodes=[NodeWithScore(node=TextNode(id_='75f5240e-737e-41e8-9695-8b2510e19282', embedding=None, metadata={'page_label': '10', 'file_name': 'RCA 594-Tranque 6.pdf', 'file_path': '..\\\\paper\\\\rag\\\\documentos\\\\cerro_negro\\\\RCA 594-Tranque 6.pdf', 'file_type': 'application/pdf', 'file_size': 163368, 'creation_date': '2025-04-08', 'last_modified_date': '2022-06-01'}, excluded_embed_metadata_keys=['file_name', 'file_type', 'file_size', 'creation_date', 'last_modified_date', 'last_accessed_date'], excluded_llm_metadata_keys=['file_name', 'file_type', 'file_size', 'creation_date', 'last_modified_date', 'last_accessed_date'], relationships={<NodeRelationship.SOURCE: '1'>: RelatedNodeInfo(node_id='9241ef98-07ed-479d-9704-60a88fa91007', node_type='4', metadata={'page_label': '10', 'file_name': 'RCA 594-Tranque 6.pdf', 'file_path': '..\\\\paper\\\\rag\\\\documentos\\\\cerro_negro\\\\RCA 594-Tranque 6.pdf', 'file_type': 'application/pdf', 'file_size': 163368, 'creation_date': '2025-04-08', 'last_modified_date': '2022-06-01'}, hash='6da0cedacc8224ba398130ab78035116232767915a12d5df521cb25014e36902')}, metadata_template='{key}: {value}', metadata_separator='\\n', text='En las tablas siguientes (Tablas: 6, 7, 8 y 9) se encuentran las propiedades, tanto del \\nsuelo de fundación del tranque como de las arenas constituyentes del muro resistente del \\nmismo: \\n  \\ni. Resultados del Análisis de Estabilidad  \\n  \\nComo parte de la ingeniería del proyecto de ampliación del tranque de relaves N°6, se \\nrealizó el análisis de estabilidad del muro resistente, con el objetivo de determinar los \\nfactores de seguridad tanto para la condición estática como sísmica, asociados a diferentes \\nsuperficies potenciales de falla. Este análisis se realizó sin proyecto (situación actual) y con \\nproyecto (situación ampliada). \\n  \\nEn cuanto a las arenas que conforman el muro, fueron extraídas muestras desde el \\nmismo muro, realizándose ensayos de granulometría que arrojaron valores de \\ncontenidos de finos entre 21 a 44%. Para los ensayos que permiten obtener los \\nparámetros resistentes de las arenas, se utilizó dos muestras, extraídas de los ensayos \\nSPT, con contenidos de finos entre 36 a 37% de finos, que corresponden a los registros \\nhistóricos de la operación del tranque. \\n  \\nLa siguiente tabla muestra los parámetros geotécnicos asumidos y testeados: \\n  \\nTabla 6  \\nParámetros geotécnicos considerados en el análisis de estabilidad Tranque Nº 6  \\n  \\nPropiedad  Arenas \\nMuro  \\nLamas \\nCubeta  \\nGravas areno \\nlimosas  \\nRoca \\nBasal  \\nDensidad Natural (t/m 3) \\n  1,61 1,80 2,10 2,60 \\nDensidad Saturada \\n(t/m \\n3) \\n  \\n1,80 2,0 2,25 2,75 \\nCohesión (t/m 2) \\n  0,5 0,0 5 20 \\nAngulo fricción (º) 35 0,0 37 45 \\n  \\nCon estos antecedentes, se procedió a realizar el análisis de estabilidad determinándose \\nel perfil crítico del depósito en las situaciones con y sin proyecto. En la Figura N°4 del \\nAnexo B de la DIA se muestra el perfil considerado. \\n  \\nEn la tabla siguiente se indican los resultados para los Factores de Seguridad calculados \\nen los análisis de estabilidad para la condición actual del Tranque de Relaves Nº 6, y \\npara la condición proyectada, vale decir una vez materializado el peralte del muro \\nresistente. \\n  \\nTabla 7  \\nFactores de seguridad y estabilidad tranque Nº 6', mimetype='text/plain', start_char_idx=3, end_char_idx=2103, metadata_seperator='\\n', text_template='{metadata_str}\\n\\n{content}'), score=0.7226735353469849), NodeWithScore(node=TextNode(id_='36f4e8a9-0729-4326-aadf-4a984ed7b381', embedding=None, metadata={'page_label': '11', 'file_name': 'RCA 594-Tranque 6.pdf', 'file_path': '..\\\\paper\\\\rag\\\\documentos\\\\cerro_negro\\\\RCA 594-Tranque 6.pdf', 'file_type': 'application/pdf', 'file_size': 163368, 'creation_date': '2025-04-08', 'last_modified_date': '2022-06-01'}, excluded_embed_metadata_keys=['file_name', 'file_type', 'file_size', 'creation_date', 'last_modified_date', 'last_accessed_date'], excluded_llm_metadata_keys=['file_name', 'file_type', 'file_size', 'creation_date', 'last_modified_date', 'last_accessed_date'], relationships={<NodeRelationship.SOURCE: '1'>: RelatedNodeInfo(node_id='c5c465d3-9da8-4d23-b2f5-a31dc415d99e', node_type='4', metadata={'page_label': '11', 'file_name': 'RCA 594-Tranque 6.pdf', 'file_path': '..\\\\paper\\\\rag\\\\documentos\\\\cerro_negro\\\\RCA 594-Tranque 6.pdf', 'file_type': 'application/pdf', 'file_size': 163368, 'creation_date': '2025-04-08', 'last_modified_date': '2022-06-01'}, hash='77a2e0a48a3cd4d8a66facd3abfd9efff594d19b95fe764c300cb70bda794ab7')}, metadata_template='{key}: {value}', metadata_separator='\\n', text='Tranque Nº 6  Altura Muro \\n(m)  \\nTalud Aguas \\nAbajo  \\n(V:H)  \\nFactor de Seguridad (FS)  \\nCondición \\nEstática FSe  \\nCondición \\nSísmica FSs  \\nCondición \\nActual 38,0 1 : 3,0 2,65 1,47 \\nCon Proyecto 47,5 1 : 2,7 2,13 1,30 \\n  \\nComo se puede apreciar, los Factores de Seguridad del depósito cumplen con los \\ncriterios de diseño usuales, esto es que sean mayores a 1,2 tanto en la condición actual \\ncomo para la nueva geometría proyectada.  \\n  \\nPor lo tanto, el Tranque Nº 6 no requiere obras adicionales de reforzamiento o de otro \\ntipo y el muro puede ser peraltado con arenas similares a las históricas utilizadas, sin \\ncomprometer la seguridad de la obra. \\n  \\nii. Parámetros de crecimiento del Tranque de relaves Nº 6  \\n  \\nLa proyección de crecimiento de la ampliación del tranque de relaves Nº 6, se definió de \\nacuerdo a un estudio de simulación, que considera el peralte del Tranque de Relaves Nº \\n6 para efecto del aumento de su vida útil. \\nLos parámetros de interés que intervienen en la simulación del crecimiento, \\ncorrespondiente al peralte del Tranque Nº 6, se obtienen a partir de los antecedentes \\nestadísticos que lleva la Unidad de Operaciones del mismo tranque, indicados en la \\nsiguiente Tabla: \\n  \\nTabla 8 \\nParámetros de crecimiento del Tranque de Relaves Nº 6 \\n  \\nProducción Media de Relaves  13.000 TPM (541,7 TPD)  \\nTiempo de Operación 24 días/mes \\nDensidad de Depositación Lamas 1,35 ton/m 3. \\nDensidad de Depositación Arena          1,49 ton/m 3. \\nRazón Muro / Cubeta  62 / 38. \\nRazón Arenas / Lamas 52,8 / 47,2. \\nRelave en Directo 0 (cero) \\nRevancha Mínima 2,60 m. \\nPorcentaje de Lamas en el Muro 37,5 % \\nAngulo Talud Aguas Abajo Muro 18º \\n  \\niii. Parámetros de simulación modificados', mimetype='text/plain', start_char_idx=3, end_char_idx=1706, metadata_seperator='\\n', text_template='{metadata_str}\\n\\n{content}'), score=0.7424138784408569), NodeWithScore(node=TextNode(id_='01f85df9-e1ff-44ee-b342-a121c7a53ea0', embedding=None, metadata={'page_label': '7', 'file_name': 'RCA 594-Tranque 6.pdf', 'file_path': '..\\\\paper\\\\rag\\\\documentos\\\\cerro_negro\\\\RCA 594-Tranque 6.pdf', 'file_type': 'application/pdf', 'file_size': 163368, 'creation_date': '2025-04-08', 'last_modified_date': '2022-06-01'}, excluded_embed_metadata_keys=['file_name', 'file_type', 'file_size', 'creation_date', 'last_modified_date', 'last_accessed_date'], excluded_llm_metadata_keys=['file_name', 'file_type', 'file_size', 'creation_date', 'last_modified_date', 'last_accessed_date'], relationships={<NodeRelationship.SOURCE: '1'>: RelatedNodeInfo(node_id='9ac1393c-2450-49df-9b47-202d6c4a17c8', node_type='4', metadata={'page_label': '7', 'file_name': 'RCA 594-Tranque 6.pdf', 'file_path': '..\\\\paper\\\\rag\\\\documentos\\\\cerro_negro\\\\RCA 594-Tranque 6.pdf', 'file_type': 'application/pdf', 'file_size': 163368, 'creation_date': '2025-04-08', 'last_modified_date': '2022-06-01'}, hash='b0720d5a2bcc093975687b42e6e206d78634a6bc9aa3f77b4f2c63819c138277')}, metadata_template='{key}: {value}', metadata_separator='\\n', text='3.7.2.3 Ensayo de Penetración SPT (Ensayo de Penetración Estándar) Tranque Nº \\n6 \\n  \\nSe realizaron 3 ensayos de penetración tipo SPT, con recuperación de muestras, los \\ncuales se ejecutaron en el muro resistente de arena del depósito, a partir de la vereda de \\ncoronamiento del mismo, alcanzándose en las penetraciones profundidades de 15,05 m, \\n14,70 m y 15,45 m en los sondajes 1, 2 y 3 respectivamente. \\n  \\nLas muestras extraídas en los ensayos SPT fueron sometidas a 2 ensayos Triaxiales con \\nel objetivo de determinar las propiedades de comportamiento al corte de las arenas del \\nmuro (Ángulo de Fricción Interna y Cohesión). \\nTal ensayo fue aplicado a muestras obtenidas de los sondajes SPT-2 y SPT-3 que se \\nlocalizaron en los horizontes 2 y 3 respectivamente, correspondientes a profundidades \\ncomprendidas entre 6,5 m a 8,0 m, equivalentes a 1/3 de la altura máxima del muro. \\n  \\nEl detalle de los resultados de los ensayos SPT y triaxiales realizados se encuentran en \\nel Anexo A “Certificados de Ensayos de Laboratorio” de la DIA. \\n  \\nLos parámetros de resistencia al corte de las arenas del muro determinados en los \\nensayos triaxiales son los siguientes: \\n  \\n• Angulo de Fricción Interna: 35 º \\n• Cohesión: 0,5 Ton/m2  \\n3.7.2.4 Propiedades de los materiales muestreados  \\n  \\nLas distintas muestras de arenas del muro resistente del depósito fueron sometidas a \\nensayos de laboratorio para determinar sus propiedades geotécnicas, las cuales se \\nseñalan en la tabla siguiente. \\n  \\nTabla 5  \\nResumen de las propiedades índice de Arenas y Lamas del Tranque Nº 6  \\n  \\nPROPIEDADES  ARENAS  \\n% Pasa bajo Malla ASTM # 10 100 \\n% Pasa bajo Malla ASTM # 40 98 \\n% Pasa bajo Malla ASTM # 200 37 \\nLímite Líquido % - \\nLímite Plástico % - \\nÍndice Plasticidad % NP \\nClasificación según USCS SM \\nDensidad Natural Ton/m 3 1,61 \\nHumedad Natural % 9,5 \\nDensidad de Part. Sólidas 2,73 \\n  \\n3.7.3 Etapa de Construcción', mimetype='text/plain', start_char_idx=0, end_char_idx=1907, metadata_seperator='\\n', text_template='{metadata_str}\\n\\n{content}'), score=0.76056307554245), NodeWithScore(node=TextNode(id_='fb220bce-88ad-4f76-8092-044fabf818d6', embedding=None, metadata={'page_label': '62', 'file_name': 'plan_cierre_cerro_negro.pdf', 'file_path': '..\\\\paper\\\\rag\\\\documentos\\\\cerro_negro\\\\plan_cierre_cerro_negro.pdf', 'file_type': 'application/pdf', 'file_size': 3682634, 'creation_date': '2025-04-08', 'last_modified_date': '2024-10-01'}, excluded_embed_metadata_keys=['file_name', 'file_type', 'file_size', 'creation_date', 'last_modified_date', 'last_accessed_date'], excluded_llm_metadata_keys=['file_name', 'file_type', 'file_size', 'creation_date', 'last_modified_date', 'last_accessed_date'], relationships={<NodeRelationship.SOURCE: '1'>: RelatedNodeInfo(node_id='852dc20a-2b85-479a-b605-6f8da0dbccd5', node_type='4', metadata={'page_label': '62', 'file_name': 'plan_cierre_cerro_negro.pdf', 'file_path': '..\\\\paper\\\\rag\\\\documentos\\\\cerro_negro\\\\plan_cierre_cerro_negro.pdf', 'file_type': 'application/pdf', 'file_size': 3682634, 'creation_date': '2025-04-08', 'last_modified_date': '2024-10-01'}, hash='2a27bdc9d54fa95424d62909e7b35ea3cd55d45f826a85954606422cc21fca4a')}, metadata_template='{key}: {value}', metadata_separator='\\n', text='Plan de Cierre Régimen Transitorio \\nCompañía Minera Cerro Negro  Página 42 \\nc) Chancado Terciario de Óxidos \\nEl mineral proveniente del chancado secundario es transportado a través de una cinta \\ntransportadora que alimenta un harnero Sandvick de 6” x 16”. El mineral bajo tamaño \\nproveniente del harnero es  acopiado directamente en el stock de acopio de óxidos (que \\nconsidera sistema de abatimiento por aspersión de agua), mientras que el mineral con \\nsobretamaño pasa a un chancador terciario Sandvick H -4000, que opera en circuito \\ncerrado con el harnero. De est e circuito (ver Figura 4.9) se obtiene un producto final cuya \\ngranulometría es 100% bajo 10 mm, el cual es acopiado en un stock pile de óxidos. \\nLa Figura 5.7  muestra el layout de disposición de la etapa de chancado terciario de \\nóxidos. \\n \\n \\nFigura 5-7  Equipos Etapa de Chancado Terciario de Óxidos \\n \\n  \\n2\\n3\\n4\\n5\\n6\\n7\\nCHANCADOR \\nTERCIARIO \\nHIDROCONO\\nStock Pile Óxidos\\nHarnero Vibratorio\\nCT  OX N°3\\nCT  OX  N°2\\nCT  OX  N°1', mimetype='text/plain', start_char_idx=2, end_char_idx=994, metadata_seperator='\\n', text_template='{metadata_str}\\n\\n{content}'), score=0.7784374952316284), NodeWithScore(node=TextNode(id_='c3966a50-1990-4ae1-a279-2b424ea5cf42', embedding=None, metadata={'page_label': '16', 'file_name': 'RCA 594-Tranque 6.pdf', 'file_path': '..\\\\paper\\\\rag\\\\documentos\\\\cerro_negro\\\\RCA 594-Tranque 6.pdf', 'file_type': 'application/pdf', 'file_size': 163368, 'creation_date': '2025-04-08', 'last_modified_date': '2022-06-01'}, excluded_embed_metadata_keys=['file_name', 'file_type', 'file_size', 'creation_date', 'last_modified_date', 'last_accessed_date'], excluded_llm_metadata_keys=['file_name', 'file_type', 'file_size', 'creation_date', 'last_modified_date', 'last_accessed_date'], relationships={<NodeRelationship.SOURCE: '1'>: RelatedNodeInfo(node_id='0928dfb4-177e-47e1-a7c4-8c7862274776', node_type='4', metadata={'page_label': '16', 'file_name': 'RCA 594-Tranque 6.pdf', 'file_path': '..\\\\paper\\\\rag\\\\documentos\\\\cerro_negro\\\\RCA 594-Tranque 6.pdf', 'file_type': 'application/pdf', 'file_size': 163368, 'creation_date': '2025-04-08', 'last_modified_date': '2022-06-01'}, hash='f983b72b011cdc3ac074c6b450fda2fa2b17b0b31ceb2ec4a17e6a6c82449e25')}, metadata_template='{key}: {value}', metadata_separator='\\n', text='los distintos elementos de cada sistema operativo del depósito, además que otorgan los \\ntiempos suficientes para responder  preventivamente en términos de los impactos que \\npudieren producir especialmente en recursos hídricos y/o superficiales aguas abajo del \\nTranque de Relaves. \\n  \\n3.7.5.2 Erosión y estabilidad  \\n  \\na. En cuanto a la erosión esperada esta será idéntica a la que ocurre en la actualidad en \\nel talud del tranque. Esta erosión eólica no ha afectado la estabilidad de la obra ni se \\naprecia una contaminación excesiva por arrastre a las zonas aledañas, por lo que no se \\nconsideran medidas extraordinarias para control de la erosión eólica. \\n  \\nb. Cabe destacar que el tema de la estabilidad es uno de los más relevantes dentro del \\nproyecto del depósito de relaves, tanto del depósito original como de cualquier \\nmodificación posterior que se realice del mismo, como es el caso del presente proyecto.  \\n  \\nTal tema se aborda en el proyecto bajo el título “Análisis de Estabilidad” (DIA, pág. 18) \\ny dentro del cual se consideran todas las variables asociadas a la seguridad estructural \\ndel depósito, tales como características resistentes del suelo de fundación y materiales \\nconstituyentes del tranque (arenas del muro resistente y lamas de la cubeta) y en si todas \\nsus propiedades como peso, densidades, humedad, cuantificación de parámetros \\nasociados a eventos naturales especialmente sismos y precipitaciones, todo lo cual \\ngarantiza dentro de las condiciones establecidas por la normativa vigente, la estabilidad \\ndel depósito mientras se mantengan tales condiciones. \\n  \\nNo obstante lo anterior, en el caso particular del muro de contención de arenas, se \\naplican medidas adicionales que permiten mejorar, por sobre lo considerado en los \\nanálisis de estabilidad, algunas de sus características más importantes, como por \\nejemplo su grado de compactación, que en este caso se realiza en forma mecánica \\nmediante paso de bulldozer sobre el talud del muro de arenas. \\n  \\nc.  Otra medida que indirectamente está asociada a la estabilidad del muro resistente de \\narena, la representa el monitoreo constante del nivel freático en el núcleo del muro. \\n  \\n3.7.5.3 Piscina Colectora  \\n  \\nEl Tranque de Relaves cuenta con una piscina colectora de las aguas recuperadas del \\ndepósito, procedentes del sistema de drenaje basal y de la laguna de aguas claras del \\ninterior de la cubeta del depósito y cuyo carácter es de piscina de traspaso desde la cual \\nse recircula el agua recuperada hacia la Planta de Beneficio, la que no se considera para \\nefectos de almacenar grandes volúmenes de agua, com o los procedentes de \\nprecipitaciones extremas. \\n  \\nNo obstante como es típico, esta función de almacenamiento eventual y por un tiempo \\nlimitado, de grandes cantidades de agua lo cumple la cubeta del mismo depósito que se \\nutiliza como “piscina de emergencia”, lo cual se regula operativamente por medio de las \\ntorres de evacuación de aguas claras ubicadas al interior de la cubeta del depósito. \\n  \\n3.7.6 Etapa de Cierre', mimetype='text/plain', start_char_idx=0, end_char_idx=3038, metadata_seperator='\\n', text_template='{metadata_str}\\n\\n{content}'), score=0.787514865398407), NodeWithScore(node=TextNode(id_='59e65998-5d4c-4e1f-b8fa-4904f7b8f27d', embedding=None, metadata={'page_label': '8', 'file_name': 'RCA 594-Tranque 6.pdf', 'file_path': '..\\\\paper\\\\rag\\\\documentos\\\\cerro_negro\\\\RCA 594-Tranque 6.pdf', 'file_type': 'application/pdf', 'file_size': 163368, 'creation_date': '2025-04-08', 'last_modified_date': '2022-06-01'}, excluded_embed_metadata_keys=['file_name', 'file_type', 'file_size', 'creation_date', 'last_modified_date', 'last_accessed_date'], excluded_llm_metadata_keys=['file_name', 'file_type', 'file_size', 'creation_date', 'last_modified_date', 'last_accessed_date'], relationships={<NodeRelationship.SOURCE: '1'>: RelatedNodeInfo(node_id='378410f1-a21c-45ea-9280-d594399b99ed', node_type='4', metadata={'page_label': '8', 'file_name': 'RCA 594-Tranque 6.pdf', 'file_path': '..\\\\paper\\\\rag\\\\documentos\\\\cerro_negro\\\\RCA 594-Tranque 6.pdf', 'file_type': 'application/pdf', 'file_size': 163368, 'creation_date': '2025-04-08', 'last_modified_date': '2022-06-01'}, hash='da3852d26882b5cc1c488f6092f3a921832b6da564c2119409490e6ac01dc014')}, metadata_template='{key}: {value}', metadata_separator='\\n', text='A continuación se describen las características de la solución proyectada para ampliar la \\ncapacidad de depositación del tranque N° 6 para dar continuidad a las operaciones de la \\nPlanta de Procesos: \\n  \\na.  Tal crecimiento proyectado se ejecutará hasta que el nuevo talud alcance la traza \\nactual del pie del muro, vale decir no se ocupará superficie adicional en lo que resta de \\nla construcción del muro. \\n  \\nb.  La cota final de llenado de la cubeta del depósito, correspondiente a la cota \\nsuperficial de las lamas en tal condición, es de 551,50 msnm., en tanto que la cota de \\ncoronamiento del muro de arenas para la misma condición final es de 553,50 msnm., lo \\nque determina una diferencia de 2 m. entre las cotas mencionadas y que corresponde a \\nla Revancha Final del depósito. \\n  \\nc.  Para efecto de asegurar que la traza del pie del muro del Tranque Nº 6 no sea \\nsobrepasada, se construirá un pretil de pie cuyo trazado será el mismo del pie del muro \\nexistente, con lo cual el área ocupada por el depósito no se modificará respecto a lo \\nexistente. \\n  \\nd.  El pretil mencionado tendrá una altura de 1,5 m., ancho de vereda de coronamiento \\nde 1,5 m y taludes laterales de inclinación H:V = 1,5:1,  con una longitud de 445 m. \\n(Plano 957-CI-PL-01) y se construirán con material granular compactado. \\n  \\ne.  Considerando que actualmente los relaves son alimentados gravitacionalmente a los \\nciclones del tranque, el peralte del muro implicará, materializar una estación de bombeo \\npor cuanto en el corto plazo la presión de alimentación a los ciclones podría ser \\ninsuficiente y afectar el corte arenas/lamas óptimo de estos equipos y por ende el \\ncrecimiento proyectado del peralte del muro al no conseguirse el corte requerido. \\n  \\nf.  Por otra parte al imponer la condición de un 20% máximo de finos en el muro, los \\nciclones deberán ser verificados mediante una simulación y eventualmente modificar los \\ndiámetros de sus descargas a muro y cubeta del depósito, o en el peor de los casos \\ncambiar estos equipos.  \\n  \\ng.  Cuando resulte necesario impulsar los relaves, la tubería existente deberá verificarse \\ny eventualmente cambiarse total o parcialmente en el corto o mediano plazo, cuando se \\nconozcan las nuevas presiones de trabajo, conforme la altura del muro vaya \\naumentando. \\n  \\nEn la Figura 957-CI-PL-02, adjunto en Anexo C “Análisis de Ampliación del Tranque \\nde relaves Nº 6”, de la DIA, se muestra la disposición general de obras de ampliación \\ndel Tranque de Relaves Nº 6. \\n  \\n3.7.3.1 Análisis de Estabilidad Tranque N° 6  \\n  \\nComo parte de la evaluación, se ha realizado el análisis de estabilidad del muro \\nresistente del Tranque de Relaves Nº 6, con el objetivo de determinar los factores de \\nseguridad tanto para la condición estática como sísmica, asociados a diferentes \\nsuperficies potenciales de falla.', mimetype='text/plain', start_char_idx=3, end_char_idx=2840, metadata_seperator='\\n', text_template='{metadata_str}\\n\\n{content}'), score=0.7892377376556396), NodeWithScore(node=TextNode(id_='e14d4b18-4b5c-4790-9aa8-d1ac8d1a8fa9', embedding=None, metadata={'page_label': '6', 'file_name': 'RCA 594-Tranque 6.pdf', 'file_path': '..\\\\paper\\\\rag\\\\documentos\\\\cerro_negro\\\\RCA 594-Tranque 6.pdf', 'file_type': 'application/pdf', 'file_size': 163368, 'creation_date': '2025-04-08', 'last_modified_date': '2022-06-01'}, excluded_embed_metadata_keys=['file_name', 'file_type', 'file_size', 'creation_date', 'last_modified_date', 'last_accessed_date'], excluded_llm_metadata_keys=['file_name', 'file_type', 'file_size', 'creation_date', 'last_modified_date', 'last_accessed_date'], relationships={<NodeRelationship.SOURCE: '1'>: RelatedNodeInfo(node_id='81374485-1c1a-4aca-ad3e-d0647f6140b4', node_type='4', metadata={'page_label': '6', 'file_name': 'RCA 594-Tranque 6.pdf', 'file_path': '..\\\\paper\\\\rag\\\\documentos\\\\cerro_negro\\\\RCA 594-Tranque 6.pdf', 'file_type': 'application/pdf', 'file_size': 163368, 'creation_date': '2025-04-08', 'last_modified_date': '2022-06-01'}, hash='d92038c7afa16eab4401859737a66dd94a29442cdb10eded31de367d217f33d5')}, metadata_template='{key}: {value}', metadata_separator='\\n', text='ejecución de calicatas y ensayos de penetración SPT (Ensayo de Penetración Estándar), \\nrealizados tanto al muro como a la cubeta del tranque.  \\n  \\nLa Tabla siguiente indica las características geotécnicas del tranque Nº 6. \\n  \\nTabla 3  \\nTipos de prospecciones realizadas  \\n  \\nProspección  Profundidad (m)  Ubicación  \\nSPT1 15,05 Muro \\nSPT2 14,70 Muro \\nSPT3 15,45 Muro \\nCalicata Nº 1 4,0 Muro \\nCalicata Nº 2 4,0 Muro \\nCalicata Nº 3 4,0 Muro \\n  \\nCabe señalar que las características geomecánicas de los suelos de fundación se tomaron \\na partir de las prospecciones y resultados de ensayos realizados con motivo de la \\nelaboración del “Estudio de la Situación Actual del Tranque de Relaves CN-5”. La \\nlocalización de las prospecciones, Calicatas y Penetraciones SPT, se muestra en la \\nFigura 3 de la DIA. \\n  \\n3.7.2.1 Estratigrafías Típicas  \\n  \\nEl Tranque de Relaves Nº 6, presenta las características de estratigrafía indicadas en la \\nsiguiente Tabla. \\n  \\nTabla 4  \\nCaracterísticas estratigráficas típicas del muro de arenas del Tranque Nº 6  \\n  \\nHorizonte  Desde (m)  Hasta (m)  Descripción Visual  \\n1 0,00 0,90 - 2,30 \\nArena fina, color gris \\nverdoso, humedad \\nmedia, compacidad \\nmedia. \\n2 0,90 - 2,30 2,00 - 4,00 \\nArena fina, color \\ngris, humedad baja, \\ncompacidad alta \\n  \\n3.7.2.2 Granulometrías \\n  \\nLa distribución granulométrica de las arenas del muro indica la presencia de un material \\nuniforme y pobremente graduado, con tamaño máximo de 2,0 mm y 33% de material \\nfino.', mimetype='text/plain', start_char_idx=0, end_char_idx=1476, metadata_seperator='\\n', text_template='{metadata_str}\\n\\n{content}'), score=0.792361855506897), NodeWithScore(node=TextNode(id_='261dd077-be95-47dd-ab52-b397a472cf22', embedding=None, metadata={'page_label': '22', 'file_name': 'RCA 594-Tranque 6.pdf', 'file_path': '..\\\\paper\\\\rag\\\\documentos\\\\cerro_negro\\\\RCA 594-Tranque 6.pdf', 'file_type': 'application/pdf', 'file_size': 163368, 'creation_date': '2025-04-08', 'last_modified_date': '2022-06-01'}, excluded_embed_metadata_keys=['file_name', 'file_type', 'file_size', 'creation_date', 'last_modified_date', 'last_accessed_date'], excluded_llm_metadata_keys=['file_name', 'file_type', 'file_size', 'creation_date', 'last_modified_date', 'last_accessed_date'], relationships={<NodeRelationship.SOURCE: '1'>: RelatedNodeInfo(node_id='d13a4327-1556-4898-8146-42f6880466f5', node_type='4', metadata={'page_label': '22', 'file_name': 'RCA 594-Tranque 6.pdf', 'file_path': '..\\\\paper\\\\rag\\\\documentos\\\\cerro_negro\\\\RCA 594-Tranque 6.pdf', 'file_type': 'application/pdf', 'file_size': 163368, 'creation_date': '2025-04-08', 'last_modified_date': '2022-06-01'}, hash='49c95bc209d3c39dd1d45b30519aeaf4f31d4c6585f8b936797fe717d2f7b7b9')}, metadata_template='{key}: {value}', metadata_separator='\\n', text='procederá oportunamente a forestar con especies rastreras y arbóreas, dando énfasis al \\nuso de especies nativas. Se forestará finalmente con aquellas especies que demuestren la \\nmayor viabilidad en este tipo de suelo. \\n  \\nc)  Etapa de Cierre o Abandono  \\n  \\nDurante la etapa de abandono el tranque será fitoestabilizado usando especies vegetales \\nque tengan la capacidad de cumplir con los objetivos planteados, de acuerdo a lo \\nseñalado en el numeral 3.7.6.2  de la presente resolución. \\n  \\nAsimismo, sin perjuicio de lo anterior se implementarán las medidas y procedimientos \\nseñalados en el numeral 3 \\n.7.6de la presente resolución. \\n  \\n7. Que, con respecto a la generación de Residuos Líquidos es posible indicar que:  \\n  \\nEtapa de Construcción y Operación  \\n  \\na)  Etapa de Construcción  \\n  \\nDurante la etapa de construcción, los únicos efluentes líquidos generados serán las \\naguas servidas de los trabajadores que participen en esta etapa. Los servicios higiénicos, \\nserán facilitados a través de baños químicos, los que serán manejados a través de una \\nempresa autorizada por la Autoridad Sanitaria de la Región de Valparaíso, \\ndisponiéndose los residuos de estas unidades de acuerdo a la normativa vigente. La \\ninstalación de los baños químicos se realizará conforme a lo establecido en el D.S. \\n594/99 del MINSAL, especialmente en lo relativo a cantidad y distancia al puesto de \\ntrabajo. A la empresa que retire las aguas servidas se le exigirá que la disposición final \\nde éstas sea en un lugar autorizado por la Autoridad Sanitaria. Para lo anterior, el titular \\ndel Proyecto, mantendrá un sistema de registro de control de la mantención y \\ndisposición final. Este registro será llenado por el personal de la empresa contratista que \\nretirará los residuos y contendrá la fecha, frecuencia del retiro y firma del funcionario a \\ncargo. Este registro estará a disposición de la Autoridad, cuando ésta lo requiera. \\n  \\nb)  Etapa de Operación  \\n  \\nDurante la operación, el proyecto no generará riles ya que se consideran las mismas \\noperaciones rutinarias con la que actualmente operan los depósitos. \\n  \\nEl proyecto no considera la emisión de ningún tipo de RIL. El agua que se ocupa en la \\noperación del tranque, corresponde a aguas de proceso, las cuales permiten el transporte \\nhasta el tranque de los relaves, su clasificación por tamaños, para luego ser decantada y \\nrecirculada nuevamente al proceso, sin descartarse a ningún cauce parte de estas. \\n  \\nCompañía Minera Cerro Negro considera la instalación de un baño químico que \\ncubrirá la demanda de un trabajador presente en la zona del tranque. \\n  \\nc)  Etapa de Cierre o Abandono  \\n  \\nSe implementarán las medidas y procedimientos señalados en el numeral 3.7.6 de la \\npresente resolución.', mimetype='text/plain', start_char_idx=0, end_char_idx=2756, metadata_seperator='\\n', text_template='{metadata_str}\\n\\n{content}'), score=0.8060992956161499), NodeWithScore(node=TextNode(id_='e79b7850-ed8d-4163-8248-90f68093cbb6', embedding=None, metadata={'page_label': '5', 'file_name': 'RCA 594-Tranque 6.pdf', 'file_path': '..\\\\paper\\\\rag\\\\documentos\\\\cerro_negro\\\\RCA 594-Tranque 6.pdf', 'file_type': 'application/pdf', 'file_size': 163368, 'creation_date': '2025-04-08', 'last_modified_date': '2022-06-01'}, excluded_embed_metadata_keys=['file_name', 'file_type', 'file_size', 'creation_date', 'last_modified_date', 'last_accessed_date'], excluded_llm_metadata_keys=['file_name', 'file_type', 'file_size', 'creation_date', 'last_modified_date', 'last_accessed_date'], relationships={<NodeRelationship.SOURCE: '1'>: RelatedNodeInfo(node_id='91d4e612-8cb7-448d-b183-2b4152f2449b', node_type='4', metadata={'page_label': '5', 'file_name': 'RCA 594-Tranque 6.pdf', 'file_path': '..\\\\paper\\\\rag\\\\documentos\\\\cerro_negro\\\\RCA 594-Tranque 6.pdf', 'file_type': 'application/pdf', 'file_size': 163368, 'creation_date': '2025-04-08', 'last_modified_date': '2022-06-01'}, hash='54f923e646eb38746cd165e8e624c5c23911f11a058a0eb6232810751980d0f5')}, metadata_template='{key}: {value}', metadata_separator='\\n', text='La modificación introducida al muro resistente del Tranque Nº 6, significará un \\ncoronamiento final que alcanzará una cota máxima de 553,5 msnm., es decir su altura \\naumentaría en 9,5 m. a partir de su actual cota de coronamiento que es de 544 msnm., \\ncon lo cual sería posible depositar 1.449.048 ton adicionales de relaves a partir de 2008, \\na una tasa de depositación de 13.000 ton por mes, hasta el término del peralte, lo que \\nimplica un incremento de su vida útil en 9 años. \\n  \\nCabe señalar y tal como se detallará más adelante, la ampliación del tranque Nº 6 se ha \\ndefinido sobre la base de estudios geotécnicos y de estabilidad de tranques e involucran \\nobras adicionales de resguardo ambiental, asociadas a prevención de riesgos (caída de \\nlos tranques).  \\n  \\nAdemás, de acuerdo a lo indicado por la Compañía Minera Cerro Negro S.A. en la \\nAdenda 3, Anexo 1, se presentaron los antecedentes para la regularización de los \\nterrenos del tranque, a través de la solicitud de Cambio de Uso de Suelo por 20,1 há. al \\nS.A.G. Región de Valparaíso. \\n  \\nPor último, el resto de actividades e instalaciones relacionadas con la operación de la \\nPlanta de Beneficio, no se modificarán con la ejecución del presente proyecto, es decir, \\ncontinuará sin variación la explotación minera, el transporte de minerales, la operación \\nde la planta, el transporte del producto, y la operación general de talleres, bodegas, \\ncampamento. En Adenda 1, Anexo 1 se presenta la Lám ina 1 que indica el \\nequipamiento existente. \\n  \\n3.7.1 Descripción de la Situación Actual del Tranque de Relave Nº 6  \\n  \\nActualmente la Planta de Beneficios de Compañía Minera Cerro Negro S.A., procesa \\nmineral de cobre en base a las operaciones de chancado, molienda, flotación, lixiviación \\ny extracción por solventes. La tasa de generación de relaves es de 12.500 ton/mes \\n(Anexo C de la DIA, Resumen Ejecutivo). Los relaves generados del proceso de \\nmolienda y de flotación son depositados en el Tranque de Relaves Nº 6 que se encuentra \\nen operación desde Enero del año 2000. \\n  \\nEl Tranque de Relaves Nº 6 es del tipo convencional, es decir, los relaves son \\nprocesados a través de un Sistema de Clasificación el que se realiza mediante \\nhidrociclones, de manera de separar la fracción gruesa de la fracción fina. La fracción \\ngruesa (arena) es utilizada para construir el muro de contención del tranque, en tanto \\nque la fracción fina (lamas) se almacena en la cubeta del tranque. \\n  \\nSin embargo, no se materializará un nuevo sistema de transporte, ni se modificará en \\ntérminos de sus componentes y emplazamiento de los mismos el sistema existente. \\n(Adenda 3, punto 1). \\n  \\n3.7.2 Estudios de Caracterización Geotécnica  \\n  \\nLas actividades de ampliación del tranque de relaves, se definieron previo un estudio de \\nlos parámetros geomecánicos y determinación de las características de los materiales \\nconstituyentes del muro y de la cubeta del tranque. Para ello se ejecutaron \\nprospecciones de terreno, programa de prospecciones geotécnicas, mediante la', mimetype='text/plain', start_char_idx=0, end_char_idx=3029, metadata_seperator='\\n', text_template='{metadata_str}\\n\\n{content}'), score=0.822932243347168), NodeWithScore(node=TextNode(id_='e9a425dd-859e-47ff-8c21-e026b8aec803', embedding=None, metadata={'page_label': '5', 'file_name': 'plan_cierre_cerro_negro.pdf', 'file_path': '..\\\\paper\\\\rag\\\\documentos\\\\cerro_negro\\\\plan_cierre_cerro_negro.pdf', 'file_type': 'application/pdf', 'file_size': 3682634, 'creation_date': '2025-04-08', 'last_modified_date': '2024-10-01'}, excluded_embed_metadata_keys=['file_name', 'file_type', 'file_size', 'creation_date', 'last_modified_date', 'last_accessed_date'], excluded_llm_metadata_keys=['file_name', 'file_type', 'file_size', 'creation_date', 'last_modified_date', 'last_accessed_date'], relationships={<NodeRelationship.SOURCE: '1'>: RelatedNodeInfo(node_id='5bd88258-6b31-4bbb-8184-b2ebe9aa58ba', node_type='4', metadata={'page_label': '5', 'file_name': 'plan_cierre_cerro_negro.pdf', 'file_path': '..\\\\paper\\\\rag\\\\documentos\\\\cerro_negro\\\\plan_cierre_cerro_negro.pdf', 'file_type': 'application/pdf', 'file_size': 3682634, 'creation_date': '2025-04-08', 'last_modified_date': '2024-10-01'}, hash='79c4daf63eeb581e45bfef6732038f60feb86c1f6d017d54385e1cb64031c200')}, metadata_template='{key}: {value}', metadata_separator='\\n', text='Plan de Cierre Régimen Transitorio \\nCompañía Minera Cerro Negro  Resumen Ejecutivo \\n3. Chancado de mineral: su objetivo es reducir el tamaño del mineral proveniente de la \\nmina desde una granulometría de 35”, hasta un tamaño de 80 % bajo 3/8” (minerales \\noxidados) y a un tamaño de 80% bajo 1/4” (minerales sulfurados). Esto se lleva a \\ncabo con etapa de chancado grueso (constituido por los chancadores primarios y \\nsecundario) y una etapa de chancado fino (constituido por los chancadores  \\nterciarios). La etapa de chancado cuenta con un sistema supresor de polvo. \\nLínea de Óxidos \\n1. Aglomeración y curado: consiste en la mezcla del mineral chancado con agua, refino \\ny ácido sulfúrico, con el objetivo de solubilizar parte del cobre contenido y de \\nhumidificarlo uniformemente, para asegurar un buen coeficiente de permeabilidad. Se \\nrealiza en un aglomerador tipo tambor rotatorio, cuya potencia es de 20 HP y su \\ntonelaje nominal de procesamiento de mineral de 140 tph. \\n2. Lixiviación en pilas estáticas: el mineral aglomerado es cargado en pilas estáticas de \\nlixiviación con altura de carguío de 5 m por medio de camiones de volteo y tiene un \\nreposo de 24 horas, con lo cual se completa el proceso de curado. Posteriormente se \\nriega el mineral con una solución de refino, a una tasa de riego nominal de 9 l/hr-m2 y \\nconcentración de 12 gpl de ácido sulfúrico, durante un período de 60 días, tiempo en \\nel cual, se recupera el 70% del cobre soluble. Una vez concluido el ciclo de riego, se \\ndeja drenar para un posterior ca rguío, de 5 m nuevamente, hasta completar la \\nconfiguración final del 15 m de altura. Desde las pilas se obtiene la solución de PLS \\nque contiene el cobre lixiviado desde el mineral, a una concentración promedio de \\n3,0-4,5 gpl y una concentración de ácido aproximada de 2,1 gpl. \\n3. Extracción por solventes (SX) : consiste en la recuperación, purificación y \\nconcentración del cobre desde la solución PLS hacia la solución de electrolito rico, \\nmediante el contacto de dichas soluciones con una fase orgánica en las oper aciones \\nunitarias de extracción y re-extracción. \\n4. Electro-obtención: consiste en la depositación del cobre presente en la solución de \\nelectrolito rico en un cátodo (lámina inicial de cobre), mediante la aplicación de una \\ncorriente continua en el rango 14.00 0 – 15.000 A, durante 6 a 7 días, obteniéndose \\nun cátodo de cobre de alta pureza, con un peso aproximado de 60 kg, a una tasa de \\n20 tCuF/d.  \\n5. Producción de sulfato de cobre:  opera bajo condiciones de interés económico de \\nacuerdo al mercado del cobre. Se uti liza un proceso de cristalización por saturación, \\ncon una capacidad de producción de 1.000 tpm de sulfato de cobre pentahidratado, \\nequivalente a 250 tCuF/m. \\nLínea de Sulfuros \\n1. Molienda: en esta etapa, el mineral sulfurado proveniente de la planta de chancad o \\n(80% bajo 1/4”) ingresa a una serie de cinco molinos de bolas, en los cuales se', mimetype='text/plain', start_char_idx=2, end_char_idx=2936, metadata_seperator='\\n', text_template='{metadata_str}\\n\\n{content}'), score=0.8235849142074585), NodeWithScore(node=TextNode(id_='b8b457ab-f260-4a51-938a-74cbf850f7ef', embedding=None, metadata={'page_label': '63', 'file_name': 'plan_cierre_cerro_negro.pdf', 'file_path': '..\\\\paper\\\\rag\\\\documentos\\\\cerro_negro\\\\plan_cierre_cerro_negro.pdf', 'file_type': 'application/pdf', 'file_size': 3682634, 'creation_date': '2025-04-08', 'last_modified_date': '2024-10-01'}, excluded_embed_metadata_keys=['file_name', 'file_type', 'file_size', 'creation_date', 'last_modified_date', 'last_accessed_date'], excluded_llm_metadata_keys=['file_name', 'file_type', 'file_size', 'creation_date', 'last_modified_date', 'last_accessed_date'], relationships={<NodeRelationship.SOURCE: '1'>: RelatedNodeInfo(node_id='dd92dfa4-dc2d-46a9-9397-6ec588f31e34', node_type='4', metadata={'page_label': '63', 'file_name': 'plan_cierre_cerro_negro.pdf', 'file_path': '..\\\\paper\\\\rag\\\\documentos\\\\cerro_negro\\\\plan_cierre_cerro_negro.pdf', 'file_type': 'application/pdf', 'file_size': 3682634, 'creation_date': '2025-04-08', 'last_modified_date': '2024-10-01'}, hash='d82b9d92a96991eb86a97b71126ff395917c8c372614fa6bfe600dcd5727436a')}, metadata_template='{key}: {value}', metadata_separator='\\n', text='Plan de Cierre Régimen Transitorio \\nCompañía Minera Cerro Negro  Página 43 \\nEn la Tabla 5-6 se entrega información de los equipos utilizados para la etapa de \\nchancado terciario. \\n \\nTabla 5-6  Listado de equipos etapa de chancado terciario de óxidos \\nItem Descripción Dimensiones Capacidad \\n2 Correa Transportadora Óxidos Nº1 / CT OX- Nº1 20 m x 30” 250 tph \\n3 Harnero vibratorio doble bandeja 6 ft x16 ft. 300 tph \\n4 Correa Transportadora Óxidos Nº2 / CT OX- Nº2 20 m x 24” 200 tph \\n5 Correa Transportadora Óxidos Nº3 / CT OX- Nº3 20 m x 30” 250 tph \\n6 Chancador Terciario Hidrocono 4,25 ft 180 tph \\n7 Stock Pile Óxidos - 2000 t \\n \\nd) Chancado Terciario Sulfuros – Óxidos \\nEsta línea de chancado cuenta con dos circuitos, un circuito de chancado de sulfuros y un \\nsegundo circuito de chancado de óxidos. Ambos circuitos operan utilizando las mismas \\ncorreas transportadoras de alimentación a dos harneros vibratorios de doble ban deja \\n(Harnero N° 1 de 220 tph y Harnero N° 2 de 150 tph), alimentando dos chancadores \\nSandvick H-4000 con una capacidad de 80 tph en circuito cerrado  y 180 tph en circuito \\nabierto. \\ni. Circuito Cerrado Inverso Sulfuros \\nEste circuito se compone de correas trans portadoras y 4 s ilos de almacenamiento (Silo \\nN° 1 al N° 4) con capacidades  de 400 t cada uno. La Figura 5.8  muestra el layout de \\ndisposición de la etapa de chancado terciario con Circuito Cerrado Inverso de Sulfuros.', mimetype='text/plain', start_char_idx=2, end_char_idx=1420, metadata_seperator='\\n', text_template='{metadata_str}\\n\\n{content}'), score=0.8260711431503296), NodeWithScore(node=TextNode(id_='984661c4-cc17-4018-9477-ae39719b7165', embedding=None, metadata={'page_label': '18', 'file_name': 'RCA 594-Tranque 6.pdf', 'file_path': '..\\\\paper\\\\rag\\\\documentos\\\\cerro_negro\\\\RCA 594-Tranque 6.pdf', 'file_type': 'application/pdf', 'file_size': 163368, 'creation_date': '2025-04-08', 'last_modified_date': '2022-06-01'}, excluded_embed_metadata_keys=['file_name', 'file_type', 'file_size', 'creation_date', 'last_modified_date', 'last_accessed_date'], excluded_llm_metadata_keys=['file_name', 'file_type', 'file_size', 'creation_date', 'last_modified_date', 'last_accessed_date'], relationships={<NodeRelationship.SOURCE: '1'>: RelatedNodeInfo(node_id='e3baffe9-a91b-4906-b0e3-9951d6dabd83', node_type='4', metadata={'page_label': '18', 'file_name': 'RCA 594-Tranque 6.pdf', 'file_path': '..\\\\paper\\\\rag\\\\documentos\\\\cerro_negro\\\\RCA 594-Tranque 6.pdf', 'file_type': 'application/pdf', 'file_size': 163368, 'creation_date': '2025-04-08', 'last_modified_date': '2022-06-01'}, hash='1e4414841e253b72fe6871d80a920a280aedd824b2be01cc3278fc7b9d185b49')}, metadata_template='{key}: {value}', metadata_separator='\\n', text='Se debe aclarar que existen canales perimetrales, los que para el cierre dejarán de ser \\nmantenidos, dado que se construirá un vertedero de seguridad en el tranque, lo que es \\nuna obra de seguridad permanente para la evacuación controlada de las aguas que se \\nviertan sobre la cubeta. \\n  \\n3.7.6.2 Control de Fitoestabilización  \\n  \\nMinera Cerro Negro, señala que se realizará la fitoestabilización de la zona del tranque. \\nPara lo cual se realizará el recubrimiento de taludes y de la cubeta a objeto de minimizar \\nla erosión y de formar comunidades vegetales en la zona del Tranque.  \\n  \\nLa técnica con mayores beneficios y más efectiva para estabilizar residuos mineros es la \\nfitoestabilización. La cual consiste en el uso de especies vegetales y de mejoradores de \\nsustrato adecuados para inmovilizar o reducir la biodisponibilidad de los metales \\npresentes en un sustrato sólido in situ , como los residuos mineros. Los metales \\nbiodisponibles son precipitados, adsorbidos por los materiales apropiados agregados al \\nsustrato y por las raíces de las plantas, donde son acumulados en formas inocuas, \\nevitando así la biomagnificación y los efectos tóxicos sobre otros seres vivos. La \\nimplementación de una cubierta vegetal sobre el sustrato también permite su \\nestabilización física, previniendo la dispersión eólica/hídrica del sustrato rico en metales \\nhacia zonas aledañas, y evita la transformación química de los residuos en el tiempo. La \\nfitoestabilización representa, además, una técnica ambientalmente más adecuada que \\notros métodos físico-químicos tradicionales de estabilización de residuos mineros \\nsólidos, como la vitrificación, ya que permite devolver al sustrato en una condición \\necológica aceptable y sin restringir los usos posteriores. Como la fitoestabilización se \\nrealiza in situ , este método no produce alteraciones en el paisaje, conserva el ecosistema \\ny permite remediar grandes superficies.  \\n  \\nEl plan de trabajo considera que desde el inicio de la operación del proyecto se \\nexperimentará con los relaves y diversas especies vegetales que están siendo \\nconsideradas para este tipo de actividades., tales como Baccharis linearis , diversas \\nespecies de Bromus  y Quillaja saponaria . \\n  \\nLos experimentos se iniciarán desde el inicio de la operación del proyecto, y su \\nduración será mínimo tres años, mientras que la plantación en el tranque se realizará a \\npartir del segundo año después del cierre del tranque, esta actividad tendrá una duración \\nde tres años. \\n  \\nEn este sentido el titular presentará a la autoridad un Plan Específico de \\nFitoestabilización, previo a la etapa de cierre del proyecto, donde se detallarán las \\nmedidas que se implementarán.  \\nEste plan considerará entre otros lo siguiente:  \\n  \\na. Especie a utilizar \\nb. Densidad de siembra y plantación \\nc. Tipo de sustrato agregado \\nd. Medidas que aseguren la subsistencia de las especies. \\ne. Análisis de necesidad de riego \\nf. Programas de monitoreo y seguimiento de la sobrevivencia', mimetype='text/plain', start_char_idx=0, end_char_idx=2995, metadata_seperator='\\n', text_template='{metadata_str}\\n\\n{content}'), score=0.8363059163093567), NodeWithScore(node=TextNode(id_='3960cefc-6ca1-4ef8-b301-3ef4f03a09a5', embedding=None, metadata={'page_label': '77', 'file_name': 'plan_cierre_cerro_negro.pdf', 'file_path': '..\\\\paper\\\\rag\\\\documentos\\\\cerro_negro\\\\plan_cierre_cerro_negro.pdf', 'file_type': 'application/pdf', 'file_size': 3682634, 'creation_date': '2025-04-08', 'last_modified_date': '2024-10-01'}, excluded_embed_metadata_keys=['file_name', 'file_type', 'file_size', 'creation_date', 'last_modified_date', 'last_accessed_date'], excluded_llm_metadata_keys=['file_name', 'file_type', 'file_size', 'creation_date', 'last_modified_date', 'last_accessed_date'], relationships={<NodeRelationship.SOURCE: '1'>: RelatedNodeInfo(node_id='dfd21869-9205-42f4-827a-4d47777c78f4', node_type='4', metadata={'page_label': '77', 'file_name': 'plan_cierre_cerro_negro.pdf', 'file_path': '..\\\\paper\\\\rag\\\\documentos\\\\cerro_negro\\\\plan_cierre_cerro_negro.pdf', 'file_type': 'application/pdf', 'file_size': 3682634, 'creation_date': '2025-04-08', 'last_modified_date': '2024-10-01'}, hash='43625ee2b5b291dadeefd173d57908bf336ddd8dd59727ba17bd4f66f25b9abd')}, metadata_template='{key}: {value}', metadata_separator='\\n', text='Plan de Cierre Régimen Transitorio \\nCompañía Minera Cerro Negro  Página 57 \\n5.2.6 Planta de Sulfato de Cobre \\nActualmente, la Planta de Sulfato de Cobre presenta una capacidad de producción de \\n1.000 tpm de sulfato de cobre pentahidratado, equivalente a 250 tCuF/m, autorizada \\nsegún RCA N° 463, de fecha 03 de julio de 2001, del Proyecto “Normalización de la \\nOperación de la Planta SX”. \\nLa planta consta de cuatro operaciones unitarias: \\n\\uf0b7 Extracción de cobre a partir de solución de PLS, para lo cual son utilizados los \\nequipos de mezclado y decantación de la Planta SX.  \\n\\uf0b7 Cristalización por saturación de sulfato de cobre, en la  que se utilizan 5 \\nmezcladores-nucleadores. \\n\\uf0b7 Etapa de limpieza–centrifugado del sulfato de cobre, en esta etapa se consideran \\ndos estanques de limpieza de 6 m 3 de capacidad cada uno y dos centrifugas de \\ncanasta con capacidad unitaria de 17 tpd. \\n\\uf0b7 Etapa de sec ado–envasado, esta etapa considera la utilización de un horno \\nrotatorio de secado directo, correas transportadoras, dos equipos de clasificación \\npor tamaño ( Sifters), un mezclador cónico de acondicionamiento de sulfato y una \\ntolva de envasado. \\nEn el Anexo G, Plano 3, se muestra la disposición de las operaciones de la Planta de \\nSulfato de Cobre. \\n5.2.7 Botaderos de Ripios \\nEl Titular en el año 2007 regularizó las obras asociadas al Botadero de Ripios N°1 a \\ntravés de la presentación de la DIA del Proyecto “Regulariza ción Botadero de Ripios”, \\naprobada según RCA favorable N°505 COREMA Región de Valparaíso, con fecha 22 de \\nmayo de 2008. El Proyecto aprobado contempló la ampliación del botadero y la \\nincorporación del proceso de lixiviación secundaria. \\nEl Botadero de Ripios N° 1, actualmente en operación, dejará de recibir aportes de ripios, \\ncomo consecuencia del proceso de la lixiviación de mineral mediante pilas estáticas que \\nse presenta a evaluación en este EIA, por lo que se considera deberá entrar a una Etapa \\nde Cierre, según los compromisos asumidos en la RCA antes mencionada.  \\nAsimismo, en el año 2012, CMCN sometió a evaluación ambiental un segundo Botadero \\nde Ripios N° 2, obteniendo la RCA favorable N° 8, con fecha 13 de enero de 2014. Este \\nbotadero aún no se encuentra construido. \\nEn el Plano 9, Anexo G se muestra la ubicación de los depósitos de ripios.', mimetype='text/plain', start_char_idx=2, end_char_idx=2302, metadata_seperator='\\n', text_template='{metadata_str}\\n\\n{content}'), score=0.8363106846809387)], metadata={'75f5240e-737e-41e8-9695-8b2510e19282': {'page_label': '10', 'file_name': 'RCA 594-Tranque 6.pdf', 'file_path': '..\\\\paper\\\\rag\\\\documentos\\\\cerro_negro\\\\RCA 594-Tranque 6.pdf', 'file_type': 'application/pdf', 'file_size': 163368, 'creation_date': '2025-04-08', 'last_modified_date': '2022-06-01'}, '36f4e8a9-0729-4326-aadf-4a984ed7b381': {'page_label': '11', 'file_name': 'RCA 594-Tranque 6.pdf', 'file_path': '..\\\\paper\\\\rag\\\\documentos\\\\cerro_negro\\\\RCA 594-Tranque 6.pdf', 'file_type': 'application/pdf', 'file_size': 163368, 'creation_date': '2025-04-08', 'last_modified_date': '2022-06-01'}, '01f85df9-e1ff-44ee-b342-a121c7a53ea0': {'page_label': '7', 'file_name': 'RCA 594-Tranque 6.pdf', 'file_path': '..\\\\paper\\\\rag\\\\documentos\\\\cerro_negro\\\\RCA 594-Tranque 6.pdf', 'file_type': 'application/pdf', 'file_size': 163368, 'creation_date': '2025-04-08', 'last_modified_date': '2022-06-01'}, 'fb220bce-88ad-4f76-8092-044fabf818d6': {'page_label': '62', 'file_name': 'plan_cierre_cerro_negro.pdf', 'file_path': '..\\\\paper\\\\rag\\\\documentos\\\\cerro_negro\\\\plan_cierre_cerro_negro.pdf', 'file_type': 'application/pdf', 'file_size': 3682634, 'creation_date': '2025-04-08', 'last_modified_date': '2024-10-01'}, 'c3966a50-1990-4ae1-a279-2b424ea5cf42': {'page_label': '16', 'file_name': 'RCA 594-Tranque 6.pdf', 'file_path': '..\\\\paper\\\\rag\\\\documentos\\\\cerro_negro\\\\RCA 594-Tranque 6.pdf', 'file_type': 'application/pdf', 'file_size': 163368, 'creation_date': '2025-04-08', 'last_modified_date': '2022-06-01'}, '59e65998-5d4c-4e1f-b8fa-4904f7b8f27d': {'page_label': '8', 'file_name': 'RCA 594-Tranque 6.pdf', 'file_path': '..\\\\paper\\\\rag\\\\documentos\\\\cerro_negro\\\\RCA 594-Tranque 6.pdf', 'file_type': 'application/pdf', 'file_size': 163368, 'creation_date': '2025-04-08', 'last_modified_date': '2022-06-01'}, 'e14d4b18-4b5c-4790-9aa8-d1ac8d1a8fa9': {'page_label': '6', 'file_name': 'RCA 594-Tranque 6.pdf', 'file_path': '..\\\\paper\\\\rag\\\\documentos\\\\cerro_negro\\\\RCA 594-Tranque 6.pdf', 'file_type': 'application/pdf', 'file_size': 163368, 'creation_date': '2025-04-08', 'last_modified_date': '2022-06-01'}, '261dd077-be95-47dd-ab52-b397a472cf22': {'page_label': '22', 'file_name': 'RCA 594-Tranque 6.pdf', 'file_path': '..\\\\paper\\\\rag\\\\documentos\\\\cerro_negro\\\\RCA 594-Tranque 6.pdf', 'file_type': 'application/pdf', 'file_size': 163368, 'creation_date': '2025-04-08', 'last_modified_date': '2022-06-01'}, 'e79b7850-ed8d-4163-8248-90f68093cbb6': {'page_label': '5', 'file_name': 'RCA 594-Tranque 6.pdf', 'file_path': '..\\\\paper\\\\rag\\\\documentos\\\\cerro_negro\\\\RCA 594-Tranque 6.pdf', 'file_type': 'application/pdf', 'file_size': 163368, 'creation_date': '2025-04-08', 'last_modified_date': '2022-06-01'}, 'e9a425dd-859e-47ff-8c21-e026b8aec803': {'page_label': '5', 'file_name': 'plan_cierre_cerro_negro.pdf', 'file_path': '..\\\\paper\\\\rag\\\\documentos\\\\cerro_negro\\\\plan_cierre_cerro_negro.pdf', 'file_type': 'application/pdf', 'file_size': 3682634, 'creation_date': '2025-04-08', 'last_modified_date': '2024-10-01'}, 'b8b457ab-f260-4a51-938a-74cbf850f7ef': {'page_label': '63', 'file_name': 'plan_cierre_cerro_negro.pdf', 'file_path': '..\\\\paper\\\\rag\\\\documentos\\\\cerro_negro\\\\plan_cierre_cerro_negro.pdf', 'file_type': 'application/pdf', 'file_size': 3682634, 'creation_date': '2025-04-08', 'last_modified_date': '2024-10-01'}, '984661c4-cc17-4018-9477-ae39719b7165': {'page_label': '18', 'file_name': 'RCA 594-Tranque 6.pdf', 'file_path': '..\\\\paper\\\\rag\\\\documentos\\\\cerro_negro\\\\RCA 594-Tranque 6.pdf', 'file_type': 'application/pdf', 'file_size': 163368, 'creation_date': '2025-04-08', 'last_modified_date': '2022-06-01'}, '3960cefc-6ca1-4ef8-b301-3ef4f03a09a5': {'page_label': '77', 'file_name': 'plan_cierre_cerro_negro.pdf', 'file_path': '..\\\\paper\\\\rag\\\\documentos\\\\cerro_negro\\\\plan_cierre_cerro_negro.pdf', 'file_type': 'application/pdf', 'file_size': 3682634, 'creation_date': '2025-04-08', 'last_modified_date': '2024-10-01'}})"
      ]
     },
     "execution_count": 11,
     "metadata": {},
     "output_type": "execute_result"
    }
   ],
   "source": [
    "pipeline_rag.query(\"¿Cuál es el tipo de TSF?\")"
   ]
  }
 ],
 "metadata": {
  "kernelspec": {
   "display_name": "paper_geotecnia",
   "language": "python",
   "name": "python3"
  },
  "language_info": {
   "codemirror_mode": {
    "name": "ipython",
    "version": 3
   },
   "file_extension": ".py",
   "mimetype": "text/x-python",
   "name": "python",
   "nbconvert_exporter": "python",
   "pygments_lexer": "ipython3",
   "version": "3.10.16"
  }
 },
 "nbformat": 4,
 "nbformat_minor": 5
}
