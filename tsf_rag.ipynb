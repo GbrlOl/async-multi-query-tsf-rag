{
 "cells": [
  {
   "cell_type": "markdown",
   "id": "276e3bef",
   "metadata": {},
   "source": [
    "# **Introduction** "
   ]
  },
  {
   "cell_type": "markdown",
   "id": "cea4027f",
   "metadata": {},
   "source": [
    "## **How to use?**"
   ]
  },
  {
   "cell_type": "markdown",
   "id": "a3707491",
   "metadata": {},
   "source": [
    "You can load any RAG system from our module (`rag`) where the pipeline is already implemented. The documents from the 5 TSFs have already been vectorized and indexed to the database, so you just need to indicate the path of these vectors.\n",
    "\n",
    "The RAG systems implemented are:\n",
    "\n",
    "1. **Naive RAG**\n",
    "2. **Advanced RAG**\n",
    "3. **Hybrid RAG**\n",
    "4. **Advanced-Hybrid RAG**\n",
    "5. **AsyncMultiQuery RAG**"
   ]
  },
  {
   "cell_type": "code",
   "execution_count": 1,
   "id": "ac23670a",
   "metadata": {},
   "outputs": [
    {
     "name": "stderr",
     "output_type": "stream",
     "text": [
      "c:\\Users\\gol_m\\anaconda3\\envs\\paper_geotecnia\\lib\\site-packages\\tqdm\\auto.py:21: TqdmWarning: IProgress not found. Please update jupyter and ipywidgets. See https://ipywidgets.readthedocs.io/en/stable/user_install.html\n",
      "  from .autonotebook import tqdm as notebook_tqdm\n"
     ]
    },
    {
     "name": "stdout",
     "output_type": "stream",
     "text": [
      "resource module not available on Windows\n"
     ]
    }
   ],
   "source": [
    "from rag import NaiveRAG"
   ]
  },
  {
   "cell_type": "code",
   "execution_count": 3,
   "id": "8a13c2bd",
   "metadata": {},
   "outputs": [],
   "source": [
    "path_vector_storage = \"./src/evaluation_retrieval/vector_storage/03_cenizas_espesado/03_cenizas_nomic\"\n",
    "embedding_type = \"nomic\"\n",
    "embedding_model_name = \"nomic-embed-text-v1.5\"\n",
    "\n",
    "pipeline_rag = NaiveRAG(\n",
    "    path_vector_storage=path_vector_storage,\n",
    "    embedding_type=embedding_type,\n",
    "    embedding_model_name=embedding_model_name\n",
    ")"
   ]
  },
  {
   "cell_type": "code",
   "execution_count": null,
   "id": "dc9ed89e",
   "metadata": {},
   "outputs": [
    {
     "data": {
      "text/plain": [
       "Response(response='El tipo de depósito mencionado en el contexto es un \"Depósito de Relaves Espesados\". Este depósito tiene una superficie aproximada de 50 hectáreas y una pendiente media de 3%. La capacidad de depositación es de 7.600.000 m³, lo que equivale a 12,4 millones de toneladas de relaves espesados. \\n\\nEl diseño del depósito incluye componentes como un muro de confinamiento, un vertedero de descarga, una piscina de aguas claras, una planta de espesamiento y floculación, así como tuberías de descarga de relaves y de recuperación de aguas. La tasa de depositación de relaves espesados es de 2.929 toneladas por día.\\n\\nAdemás, se considera que el relave será depositado en capas homogéneas, guiado mediante camellones de tierra, y se proyecta una pendiente de depositación de 3%, aunque la pendiente natural de depositación del relave es de 7%. \\n\\nSi necesitas más información específica sobre algún aspecto del depósito, házmelo saber.', source_nodes=[NodeWithScore(node=TextNode(id_='b93e082e-5ee7-48d6-a39a-e7051ff2dd42', embedding=None, metadata={'page_label': '129', 'file_name': 'Permiso sectorial_Actualización y modicacion_Las Luces.pdf', 'file_path': 'C:\\\\Users\\\\gol_m\\\\OneDrive\\\\Desktop\\\\Magíster en Ciencias de la Ingeniería\\\\1_AI-MINESAFE\\\\codes_mine_safe\\\\codes_paper_geotecnia\\\\paper\\\\rag\\\\documentos\\\\cenizas_tal_tal\\\\Permiso sectorial_Actualización y modicacion_Las Luces.pdf', 'file_type': 'application/pdf', 'file_size': 6997859, 'creation_date': '2025-04-09', 'last_modified_date': '2025-04-09'}, excluded_embed_metadata_keys=['file_name', 'file_type', 'file_size', 'creation_date', 'last_modified_date', 'last_accessed_date'], excluded_llm_metadata_keys=['file_name', 'file_type', 'file_size', 'creation_date', 'last_modified_date', 'last_accessed_date'], relationships={<NodeRelationship.SOURCE: '1'>: RelatedNodeInfo(node_id='c386afcb-56ec-4cfb-b944-77161ae03d02', node_type='4', metadata={'page_label': '129', 'file_name': 'Permiso sectorial_Actualización y modicacion_Las Luces.pdf', 'file_path': 'C:\\\\Users\\\\gol_m\\\\OneDrive\\\\Desktop\\\\Magíster en Ciencias de la Ingeniería\\\\1_AI-MINESAFE\\\\codes_mine_safe\\\\codes_paper_geotecnia\\\\paper\\\\rag\\\\documentos\\\\cenizas_tal_tal\\\\Permiso sectorial_Actualización y modicacion_Las Luces.pdf', 'file_type': 'application/pdf', 'file_size': 6997859, 'creation_date': '2025-04-09', 'last_modified_date': '2025-04-09'}, hash='fd85106abc6223a118fe3ebf396bd13ff47c36d32a5c54c0d87e737b153fd311')}, metadata_template='{key}: {value}', metadata_separator='\\n', text='GHD Solicitud de Autorización Permiso Sectorial Art. 294 para Obras Mayores del Código de Aguas Obra Depósito de \\nRelaves Espesados, Proyecto  “Actualización y Modificación proyecto Las Luces” Minera Las Cenizas Faena Taltal |117 \\nLa evaporación que se produce en el proceso tiene dos formas.  Una es aquella que se genera \\ndesde las playas húmedas y otra desde las lagunas de decantación. Dado que el depósito no \\ncuenta con ésta última obra, la evaporación ocurre solamente en las primeras. \\nLas pérdidas por evaporación se evalúan a partir de la estimación de superficies del depósito en \\nzonas húmedas, la cual fue calculada en el punto (b) como Ad.  De este modo, conociendo la tasa \\nde evaporación en un cierto período (t ev) y la superficie ( Ad), la pérdida por este concepto es la \\nsiguiente: \\n \\n               \\n \\nEn términos de caudal esta pérdida se evalúa de la siguiente forma (en ℓ/s): \\n \\n     \\n       \\n           \\n \\n \\nBalance de Agua aplicado al depósito en pasta Las Luces \\nLa aplicación del modelo considera los siguientes parámetros: \\nTabla 2.64 Parámetros utilizados para el balance de aguas \\nParámetro Valor Unidad \\nConcentración en Peso relave afluente al espesador (Cpa)  30 % \\nConcentración en Peso relave efluente del espesador (CpE)  67 % \\nConcentración en Peso del relave a depositar (Cp)  67 % \\nDensidad Seca Aparente (\\uf067a) 1,5 t/m\\n3\\n \\nTonelaje de Sólidos (T) 2.980 Tpd \\nTasa de Evaporación (tev) 0,7 cm/d \\nPeso específico sólidos (Gs) 2,84 t/m\\n3\\n \\nDensidad del Agua (ρw) 1,03 t/m\\n3\\n \\nÁrea Total depósito (At) 42,5 ha \\n*Tabla Extraída desde el Anexo G Diseño Hidráulico, documento 140009 -100-CAL-02 “Dimensionamiento Sistema de Drenaje”  \\n \\nEntre el relave afluente y efluente del espesador se tienen los siguientes flujos:', mimetype='text/plain', start_char_idx=2, end_char_idx=1752, metadata_seperator='\\n', text_template='{metadata_str}\\n\\n{content}'), score=0.727592945098877), NodeWithScore(node=TextNode(id_='98893c43-d68b-4da3-86f8-63c7312eaec7', embedding=None, metadata={'page_label': '13', 'file_name': 'Disposición de relaves_Las Luces III-Ing Básica.pdf', 'file_path': 'C:\\\\Users\\\\gol_m\\\\OneDrive\\\\Desktop\\\\Magíster en Ciencias de la Ingeniería\\\\1_AI-MINESAFE\\\\codes_mine_safe\\\\codes_paper_geotecnia\\\\paper\\\\rag\\\\documentos\\\\cenizas_tal_tal\\\\Disposición de relaves_Las Luces III-Ing Básica.pdf', 'file_type': 'application/pdf', 'file_size': 575362, 'creation_date': '2025-04-09', 'last_modified_date': '2025-04-09'}, excluded_embed_metadata_keys=['file_name', 'file_type', 'file_size', 'creation_date', 'last_modified_date', 'last_accessed_date'], excluded_llm_metadata_keys=['file_name', 'file_type', 'file_size', 'creation_date', 'last_modified_date', 'last_accessed_date'], relationships={<NodeRelationship.SOURCE: '1'>: RelatedNodeInfo(node_id='7d6006d8-4a0b-4988-89ef-72a19b067c62', node_type='4', metadata={'page_label': '13', 'file_name': 'Disposición de relaves_Las Luces III-Ing Básica.pdf', 'file_path': 'C:\\\\Users\\\\gol_m\\\\OneDrive\\\\Desktop\\\\Magíster en Ciencias de la Ingeniería\\\\1_AI-MINESAFE\\\\codes_mine_safe\\\\codes_paper_geotecnia\\\\paper\\\\rag\\\\documentos\\\\cenizas_tal_tal\\\\Disposición de relaves_Las Luces III-Ing Básica.pdf', 'file_type': 'application/pdf', 'file_size': 575362, 'creation_date': '2025-04-09', 'last_modified_date': '2025-04-09'}, hash='3d526a1214e7c72180047d652e9392236d08c92f508e60132557c7b08152f620')}, metadata_template='{key}: {value}', metadata_separator='\\n', text='INFORME \\n140001-300-DOC-04 \\nPag \\nDimensionamiento de Muros del Depósito 13 \\n \\n5. ANALISIS DE ESTABILIDAD DEL TRANQUE \\n \\n5.1 Criterios Generales \\n \\nEn el análisis de estabilidad efectuado (documento N° 140001-200-DOC-02), se consideró el \\ncaso al término de la vida útil del depósito, que corresponde a la situación más desfavorable. \\nPara el caso pseudo-estático se estimaron los factores de seguridad mínimos tanto para el \\nterremoto de operación como el máximo esperado. \\n \\nLos casos de análisis se separaron en función a la combinación de las siguientes \\nconsideraciones: \\n \\nx Falla en el muro de confinamiento. \\nx Falla del depósito de relaves en pendiente. \\n \\n5.2 Geometría del Depósito \\n \\nLa geometría de la sección más desfavorable y las cotas de confinamiento para la configuración \\nfinal (Etapa 3) se muestran en Figura N°5.1. La altura máxima del muro en la Etapa 3 será de \\n33,0 m. \\n \\n \\nFigura N° 5.1  \\nSección de análisis del muro de confinamiento', mimetype='text/plain', start_char_idx=0, end_char_idx=959, metadata_seperator='\\n', text_template='{metadata_str}\\n\\n{content}'), score=0.7366085052490234), NodeWithScore(node=TextNode(id_='3a4b628c-0436-47fe-9b47-06dfd7e327ae', embedding=None, metadata={'page_label': '92', 'file_name': 'Permiso sectorial_Actualización y modicacion_Las Luces.pdf', 'file_path': 'C:\\\\Users\\\\gol_m\\\\OneDrive\\\\Desktop\\\\Magíster en Ciencias de la Ingeniería\\\\1_AI-MINESAFE\\\\codes_mine_safe\\\\codes_paper_geotecnia\\\\paper\\\\rag\\\\documentos\\\\cenizas_tal_tal\\\\Permiso sectorial_Actualización y modicacion_Las Luces.pdf', 'file_type': 'application/pdf', 'file_size': 6997859, 'creation_date': '2025-04-09', 'last_modified_date': '2025-04-09'}, excluded_embed_metadata_keys=['file_name', 'file_type', 'file_size', 'creation_date', 'last_modified_date', 'last_accessed_date'], excluded_llm_metadata_keys=['file_name', 'file_type', 'file_size', 'creation_date', 'last_modified_date', 'last_accessed_date'], relationships={<NodeRelationship.SOURCE: '1'>: RelatedNodeInfo(node_id='e6a5d161-cff4-439f-b403-e639edd18c11', node_type='4', metadata={'page_label': '92', 'file_name': 'Permiso sectorial_Actualización y modicacion_Las Luces.pdf', 'file_path': 'C:\\\\Users\\\\gol_m\\\\OneDrive\\\\Desktop\\\\Magíster en Ciencias de la Ingeniería\\\\1_AI-MINESAFE\\\\codes_mine_safe\\\\codes_paper_geotecnia\\\\paper\\\\rag\\\\documentos\\\\cenizas_tal_tal\\\\Permiso sectorial_Actualización y modicacion_Las Luces.pdf', 'file_type': 'application/pdf', 'file_size': 6997859, 'creation_date': '2025-04-09', 'last_modified_date': '2025-04-09'}, hash='0a512efd3d087f690b9648bfe2edd0d3596094cb843bca387c1dcc323666edcb'), <NodeRelationship.PREVIOUS: '2'>: RelatedNodeInfo(node_id='0e958041-00c2-44f6-a538-aba3f69d62c7', node_type='1', metadata={'page_label': '92', 'file_name': 'Permiso sectorial_Actualización y modicacion_Las Luces.pdf', 'file_path': 'C:\\\\Users\\\\gol_m\\\\OneDrive\\\\Desktop\\\\Magíster en Ciencias de la Ingeniería\\\\1_AI-MINESAFE\\\\codes_mine_safe\\\\codes_paper_geotecnia\\\\paper\\\\rag\\\\documentos\\\\cenizas_tal_tal\\\\Permiso sectorial_Actualización y modicacion_Las Luces.pdf', 'file_type': 'application/pdf', 'file_size': 6997859, 'creation_date': '2025-04-09', 'last_modified_date': '2025-04-09'}, hash='a2a2c327becf7a17385365e51a2f4403abd4777a1d4b12d7b9e425882d06d1de')}, metadata_template='{key}: {value}', metadata_separator='\\n', text='Adicionalmente, ante la eventualidad de una rotura en el \\nliner, se proyectó una capa de arena drenante como apoyo de la geomembrana, la que ope rará \\ncomo dren captador de dichas fugas y las conducirá hacia un dren de apoyo ubicado en el pie de \\naguas arriba de los muros. Este conecta hacia dos alfombras drenantes que cruzan bajo el muro \\nprincipal. Ambas evacúan sus aguas hacia una canaleta y de ahí , previo aforo son conducidas \\nhacia la piscina de drenaje ya descrita. \\nEn resumen, las obras de manejo de agua del depósito se refieren a la forma de disponer las \\naguas de crecidas afluentes al depósito y a su evacuación controlada. El diseño considera \\nbásicamente los siguientes elementos: \\n\\uf097 Sistema de drenaje del sector en que se acumula el agua en la cubeta y chimeneas de \\ncaptación que conectan verticalmente el agua acumulada con las tuberías colectoras del \\ndren, para ser conducidas fuera de la cubeta de depósito.', mimetype='text/plain', start_char_idx=2895, end_char_idx=3828, metadata_seperator='\\n', text_template='{metadata_str}\\n\\n{content}'), score=0.7431294918060303), NodeWithScore(node=TextNode(id_='e0356ae5-b1e1-4f52-b078-12503d60a87e', embedding=None, metadata={'page_label': '70', 'file_name': 'Permiso sectorial_Actualización y modicacion_Las Luces.pdf', 'file_path': 'C:\\\\Users\\\\gol_m\\\\OneDrive\\\\Desktop\\\\Magíster en Ciencias de la Ingeniería\\\\1_AI-MINESAFE\\\\codes_mine_safe\\\\codes_paper_geotecnia\\\\paper\\\\rag\\\\documentos\\\\cenizas_tal_tal\\\\Permiso sectorial_Actualización y modicacion_Las Luces.pdf', 'file_type': 'application/pdf', 'file_size': 6997859, 'creation_date': '2025-04-09', 'last_modified_date': '2025-04-09'}, excluded_embed_metadata_keys=['file_name', 'file_type', 'file_size', 'creation_date', 'last_modified_date', 'last_accessed_date'], excluded_llm_metadata_keys=['file_name', 'file_type', 'file_size', 'creation_date', 'last_modified_date', 'last_accessed_date'], relationships={<NodeRelationship.SOURCE: '1'>: RelatedNodeInfo(node_id='dc30dde9-4d56-449a-9b9b-d8d7ddf4f77f', node_type='4', metadata={'page_label': '70', 'file_name': 'Permiso sectorial_Actualización y modicacion_Las Luces.pdf', 'file_path': 'C:\\\\Users\\\\gol_m\\\\OneDrive\\\\Desktop\\\\Magíster en Ciencias de la Ingeniería\\\\1_AI-MINESAFE\\\\codes_mine_safe\\\\codes_paper_geotecnia\\\\paper\\\\rag\\\\documentos\\\\cenizas_tal_tal\\\\Permiso sectorial_Actualización y modicacion_Las Luces.pdf', 'file_type': 'application/pdf', 'file_size': 6997859, 'creation_date': '2025-04-09', 'last_modified_date': '2025-04-09'}, hash='7db103823736e00b0f59373dedde445ea8869cc67c737f3cd369be232e847f4f')}, metadata_template='{key}: {value}', metadata_separator='\\n', text='GHD Solicitud de Autorización Permiso Sectorial Art. 294 para Obras Mayores del Código de Aguas Obra Depósito de \\nRelaves Espesados, Proyecto  “Actualización y Modificación proyecto Las Luces” Minera Las Cenizas Faena Taltal |58 \\nestudiada, dicho valor se alcanza entre 61% y 68% de concentración en peso. Para el diseño se \\nha establecido que el espesaje se realizará al 67% en peso. \\nSe debe considerar que los espesadores deben tener la capacidad de tratamiento igual al tonelaje \\nmáximo de la operación completa (3.278 tpd). \\nEl diseño del sistema de bombeo de los relaves espesados al depósito considera todos los \\nelementos que permitan tomar todo el rango de caudales, sin que esto signifique que la potencia \\ninstalada aumente por sobre un 15% de la requerida para conducir el caudal nominal. Para este \\nefecto se estudiaron las siguientes variantes: \\na) Vaciar en puntos más cercanos al depósito, cuando la altura de elevación de las bombas no \\nsea suficiente para situaciones eventuales. \\nb) Como criterio general, la idea es que para el caudal nominal y un rango de variación menor, el \\nsistema opere con las pérdidas de carga mínimas y que su aumento esté limitado para casos \\neventuales a cifras no mayores al 15% de la potencia de uso normal. \\nc) El volumen máximo de caudal a desviar hacia la zona de contención que se generaría por la \\noperación según b), será evaluado junto con la estrategia de llenado del depósito. \\ne) PENDIENTE DE DEPOSITACIÓN DEL RELAVE \\nPara el diseño del depósito se util izaron los resultados obtenidos en el Informe de Ensayos de \\nCanaleta, documento MLC-7191 R02, realizado por Paterson&Cooke South America, en Octubre \\n2012 adjuntado en anexo E, Pruebas y Ensayos , en donde se obtuvieron para distintas \\nconcentraciones de sóli dos, la pendiente de depositación que tendrá la descarga de relaves \\nespesados en el depósito.  \\nTabla 2.32 Estimación Pendiente Deposito con Factor de Seguridad \\nCp Tension de Fluencia [Pa] \\nEstimación Pendiente Depósito  \\ncon Factor de seguridad 0,5 (A.Fourier)  \\n72,3% 364,7 7,6% \\n70,0% 171,6 5,0% \\n65.5% 63,7 2.5% \\n63,7% 39,4 1,8% \\n61,5% 27,5 1,4% \\n \\nSe diseñó el depósito para una pendiente de depósito de 3%, que corresponde aproximadamente \\na una tensión de fluencia de 85,3 Pa y un Cp de 67 %. Pendientes mayores se saldrían fuera del \\nrango para relaves espesados, requiriéndose espesajes a nivel de pasta. \\nf) DISEÑO DE LOS MUROS \\nLos muros de cierre del depósito se construirán en la primera etapa con material proveniente de la \\ncubeta y en las etapas siguientes se empleará lastre de mina. \\nLa pendiente de los taludes del muro de empréstito aguas arriba y abajo será de (H: V) = 2:1.', mimetype='text/plain', start_char_idx=2, end_char_idx=2673, metadata_seperator='\\n', text_template='{metadata_str}\\n\\n{content}'), score=0.748041033744812), NodeWithScore(node=TextNode(id_='67702497-74cc-485f-a3d2-075270e08aa4', embedding=None, metadata={'page_label': '78', 'file_name': 'Actualización-Plan de Cierre_Faena Taltal.pdf', 'file_path': 'C:\\\\Users\\\\gol_m\\\\OneDrive\\\\Desktop\\\\Magíster en Ciencias de la Ingeniería\\\\1_AI-MINESAFE\\\\codes_mine_safe\\\\codes_paper_geotecnia\\\\paper\\\\rag\\\\documentos\\\\cenizas_tal_tal\\\\Actualización-Plan de Cierre_Faena Taltal.pdf', 'file_type': 'application/pdf', 'file_size': 3065936, 'creation_date': '2025-04-09', 'last_modified_date': '2025-04-09'}, excluded_embed_metadata_keys=['file_name', 'file_type', 'file_size', 'creation_date', 'last_modified_date', 'last_accessed_date'], excluded_llm_metadata_keys=['file_name', 'file_type', 'file_size', 'creation_date', 'last_modified_date', 'last_accessed_date'], relationships={<NodeRelationship.SOURCE: '1'>: RelatedNodeInfo(node_id='654d4235-b08e-4836-a867-02ec548a1d6f', node_type='4', metadata={'page_label': '78', 'file_name': 'Actualización-Plan de Cierre_Faena Taltal.pdf', 'file_path': 'C:\\\\Users\\\\gol_m\\\\OneDrive\\\\Desktop\\\\Magíster en Ciencias de la Ingeniería\\\\1_AI-MINESAFE\\\\codes_mine_safe\\\\codes_paper_geotecnia\\\\paper\\\\rag\\\\documentos\\\\cenizas_tal_tal\\\\Actualización-Plan de Cierre_Faena Taltal.pdf', 'file_type': 'application/pdf', 'file_size': 3065936, 'creation_date': '2025-04-09', 'last_modified_date': '2025-04-09'}, hash='af2e1a6c17374e6f8345e7a48050516b8272bfe5474a584b48929122b99e0cc6')}, metadata_template='{key}: {value}', metadata_separator='\\n', text='4609-1100-RV-INF-001_1 Mayo, 2016 \\nExpediente Plan de Cierre Faena Taltal Página 78 de 146 \\n\\uf0b7 Producción: La tasa de extracción se encuentra entre 50.000 y 65.000 ton/mes de \\nmineral de sulfuros. \\n \\nDepósito de estéril (existente) \\n \\n\\uf0b7 Estructura: Depósito de estéril, ubicado a unos 200 metros frente a la bocamina \\n\\uf0b7 Dimensión: Depósito ocupa una superficie aproximada de 1,5 hectáreas \\n \\n \\nDepósito de estéril (proyectado) \\n \\n\\uf0b7 Estructura: Nueva zona de depositación de estéril, ubicada al suroeste del depósito \\nexistente \\n\\uf0b7 Capacidad: Capacidad de depositación proyectada de 2,0 millones de toneladas \\n \\n \\n7.3.2.3 Estabilidad física \\n \\nLa estabilidad física de las instalaciones que forman parte de Las Luces han sido analizadas \\nen las fases de diseño respectivas, ésta ha considerado la evaluación de la instalación bajo \\ncondiciones estáticas - dinámicas (pseudo -estáticas) y condiciones de esfuerzos. Estos \\nanálisis quedan consignados en la información que se acompaña en el Anexo G, de donde \\nprovienen los principales resultados que se indican a continuación. \\n \\n \\nTabla 7-25: Estabilidad Física Instalaciones Las Luces \\nID Tipo \\ninstalación \\nNombre Estudios \\nRealizados \\nResultados Referencia \\nMS Mina \\nsubterránea \\nLas Luces Modelación del \\ndesarrollo de \\nexplotación (análisis \\nde esfuerzos).  \\nDeterminación de Strength Factor, para \\ncada secuencia de explotación a desarrollar. \\nAnexo K.1 \\nAnexo K.2 \\nAnexo K.3 \\nDE Depósito de \\nestéril \\nBotadero \\n(Modificación \\nPY Las Luces) \\nAnálisis de \\nEstabilidad Física \\nDiseño cumple con los criterios establecidos \\n(FS estático >1,3 y FS pseudo-estático > \\n1.0). Considerando la solicitación sísmica \\nmediante estudio de riesgo sísmico local.  \\nAnexo K.4 \\n \\n \\nAdemás de evidenciar la condición de diseño de las instalaciones de Las Luces, los estudios \\nindicados en Tabla 7-25 forman parte de las fuentes de información de los factores técnicos \\nque fueron considerados en la evaluación de riesgos de esta instalación. \\n \\n \\n7.3.2.4 Estabilidad química \\n \\nLa estabilidad química en Las Luces fue analizada mediante la caracterización geoquímica del \\nmaterial estéril generado para cada unidad litológica principal. La evaluación del potencial de \\ngeneración de ácido desde el mencionado material fue realizada mediante conteo ácido – base \\n(ABA), el cual determina el potencial de una muestra de material estéril de liberar drenaje ácido \\nde roca (DAR) al ser expuesta a factores climáticos.', mimetype='text/plain', start_char_idx=8, end_char_idx=2457, metadata_seperator='\\n', text_template='{metadata_str}\\n\\n{content}'), score=0.7501991987228394), NodeWithScore(node=TextNode(id_='9aa1ec4d-7552-4af6-9e45-878707e05042', embedding=None, metadata={'page_label': '12', 'file_name': 'Disposición de relaves_Las Luces III-Ing Básica.pdf', 'file_path': 'C:\\\\Users\\\\gol_m\\\\OneDrive\\\\Desktop\\\\Magíster en Ciencias de la Ingeniería\\\\1_AI-MINESAFE\\\\codes_mine_safe\\\\codes_paper_geotecnia\\\\paper\\\\rag\\\\documentos\\\\cenizas_tal_tal\\\\Disposición de relaves_Las Luces III-Ing Básica.pdf', 'file_type': 'application/pdf', 'file_size': 575362, 'creation_date': '2025-04-09', 'last_modified_date': '2025-04-09'}, excluded_embed_metadata_keys=['file_name', 'file_type', 'file_size', 'creation_date', 'last_modified_date', 'last_accessed_date'], excluded_llm_metadata_keys=['file_name', 'file_type', 'file_size', 'creation_date', 'last_modified_date', 'last_accessed_date'], relationships={<NodeRelationship.SOURCE: '1'>: RelatedNodeInfo(node_id='9fe8a227-a3a5-4262-85ff-ea60eda0af9c', node_type='4', metadata={'page_label': '12', 'file_name': 'Disposición de relaves_Las Luces III-Ing Básica.pdf', 'file_path': 'C:\\\\Users\\\\gol_m\\\\OneDrive\\\\Desktop\\\\Magíster en Ciencias de la Ingeniería\\\\1_AI-MINESAFE\\\\codes_mine_safe\\\\codes_paper_geotecnia\\\\paper\\\\rag\\\\documentos\\\\cenizas_tal_tal\\\\Disposición de relaves_Las Luces III-Ing Básica.pdf', 'file_type': 'application/pdf', 'file_size': 575362, 'creation_date': '2025-04-09', 'last_modified_date': '2025-04-09'}, hash='05d53d9c3ba37d3d5711b5d19988fbfee5210caee38327932e03cfcb1e971456')}, metadata_template='{key}: {value}', metadata_separator='\\n', text='INFORME \\n140001-300-DOC-04 \\nPag \\nDimensionamiento de Muros del Depósito 12 \\n \\n4.3 Muros etapas 2 y 3 \\n \\nEn relación a los parámetros de resistencia del material de los muros etapas 2 y 3, este difiere \\nde los que se emplearán en la etapa 1, ya que provendrán del estéril de los boraderos de la \\nmina. Debe advertirse que no se cuenta con triaxiales ni ensayos de corte directo para l lastre \\nde la mina. Sin embargo, estudios de diferentes depósitos de lastre o estéril asignan ángulos de \\nfricción interna superiores a 42° y cohesiones por sobre 0,2 kg/cm2 (Chuquicamata, Es peranza \\ny Cabildo, este último, de Minera Las Cenizas) cuando son dispuestos en capas compactadas. \\nPor esta razón se consideró conservadoramente el criterio de emplear para efectos de los \\ncálulos de estabilidad de los muros, los mismos valores de resistencia del empréstito cubeta, \\nvale decir, 38° para el ángulo de fricción interna y cohesión nula. Esta consideración se \\nincorporó en el documento “140001-200-DOC-02 Estudios de Apoyo; Análisis de estabilidad \\nestático y pseudo estático”.', mimetype='text/plain', start_char_idx=0, end_char_idx=1070, metadata_seperator='\\n', text_template='{metadata_str}\\n\\n{content}'), score=0.7602409720420837), NodeWithScore(node=TextNode(id_='8863daaa-7f69-4c89-9b14-cd336613c97a', embedding=None, metadata={'page_label': '109', 'file_name': 'Actualización-Plan de Cierre_Faena Taltal.pdf', 'file_path': 'C:\\\\Users\\\\gol_m\\\\OneDrive\\\\Desktop\\\\Magíster en Ciencias de la Ingeniería\\\\1_AI-MINESAFE\\\\codes_mine_safe\\\\codes_paper_geotecnia\\\\paper\\\\rag\\\\documentos\\\\cenizas_tal_tal\\\\Actualización-Plan de Cierre_Faena Taltal.pdf', 'file_type': 'application/pdf', 'file_size': 3065936, 'creation_date': '2025-04-09', 'last_modified_date': '2025-04-09'}, excluded_embed_metadata_keys=['file_name', 'file_type', 'file_size', 'creation_date', 'last_modified_date', 'last_accessed_date'], excluded_llm_metadata_keys=['file_name', 'file_type', 'file_size', 'creation_date', 'last_modified_date', 'last_accessed_date'], relationships={<NodeRelationship.SOURCE: '1'>: RelatedNodeInfo(node_id='8e39d723-7ea5-4dde-8599-8ba31c6b8428', node_type='4', metadata={'page_label': '109', 'file_name': 'Actualización-Plan de Cierre_Faena Taltal.pdf', 'file_path': 'C:\\\\Users\\\\gol_m\\\\OneDrive\\\\Desktop\\\\Magíster en Ciencias de la Ingeniería\\\\1_AI-MINESAFE\\\\codes_mine_safe\\\\codes_paper_geotecnia\\\\paper\\\\rag\\\\documentos\\\\cenizas_tal_tal\\\\Actualización-Plan de Cierre_Faena Taltal.pdf', 'file_type': 'application/pdf', 'file_size': 3065936, 'creation_date': '2025-04-09', 'last_modified_date': '2025-04-09'}, hash='ee56210dd2886e5b65abc516bf99616af59e9f1666dd2c1204d2d268d69d0f69')}, metadata_template='{key}: {value}', metadata_separator='\\n', text='4609-1100-RV-INF-001_1 Mayo, 2016 \\nExpediente Plan de Cierre Faena Taltal Página 109 de 146 \\nDepósito de Relaves Espesados (en etapa de puesta en marcha) \\n \\nEl Proyecto Depósito de Relaves Espesados, en fase de puesta en marcha , asociado al \\nProyecto “Actualización y Modificación Proyecto Las Luces”, se encuentra aprobados \\nambientalmente favorable, según Resolución de Calificación Ambiental RCA N° 404/2013 y su \\naprobación sectorial SERNAGEOMIN bajo Resol. N° 963 del 06.08.2014. \\n \\n \\n\\uf0b7 Estructura: Depósito de relaves espesados \\n\\uf0b7 Dimensiones: Una superficie aproximada de 50 hectáreas con una pendiente medi a \\ndel 3%. \\n\\uf0b7 Componentes: Depósito de relaves, muro de confinamiento, vertedero de descarga, \\npiscina de aguas claras, planta de espesamiento y floculación, tubería de descarga de \\nrelaves y tubería de recuperación de aguas. \\n\\uf0b7 Volumen: Capacidad de depositación de 7.600.000 m3 (12,4 millones de relaves \\nespesados de toneladas). \\n\\uf0b7 Producción: Tasa de depositación de relaves espesados 2.929 ton/día. \\n \\n \\nCaptación de Agua de Mar \\n \\n\\uf0b7 Estructura: El agua de mar es impulsada a la planta por medio de 3 estaciones \\nelevadoras de agua, y se traslada mediante tubería de HDPE desde la captación hasta \\nla Planta Las Luces, desde esta última se impulsa hacia la Planta de Óxidos. \\n\\uf0b7 Dimensiones: Un trazado de tubería desde la Captación hasta la Planta Las Luces de \\n6 km y de la Planta Las Luces hacia la Planta de Óxidos de 40 km. \\n\\uf0b7 Componentes: Captación, Estaciones de Bombeo, Trazado de Tubería de HDPE. \\n\\uf0b7 Producción:  \\no Actual: Impulsión desde captación a Planta Las Luces 44 l/s, Impulsión desde \\nPlanta las Luces a Planta de Óxidos de 20 l/s. \\no Ampliación (No iniciado): Impulsión desde captación a Planta Las Luces 100 l/s, \\nImpulsión desde Planta las Luces a Planta de Óxidos de 40 l/s. \\n \\n \\n7.5.2.3 Estabilidad física \\n \\nLa estabilidad física de las instalaciones que forman parte de Sulfuros Las Luces han sido \\nanalizadas en las fases de diseño respectivas, ésta ha considerado la evaluación de la \\ninstalación bajo condiciones estáticas - dinámicas y análisis de deformaciones. Estos análisis \\nquedan consignados en la información que se acompaña en el Anexo M, de donde provienen \\nlos principales resultados que se indican a continuación. \\n \\n \\nTabla 7-41: Estabilidad Física Instalaciones Sulfuros Las Luces \\nID Tipo \\ninstalación \\nNombre Estudios \\nRealizados \\nResultados Referencia \\nDR Depósito de \\nrelaves \\nLas Luces II Análisis de \\nEstabilidad Física \\nMuros del depósito \\nDiseño cumple con los criterios establecidos \\n(FS estático =2,7 y FS pseudo-estático = \\n1,4, FS sísmico = 1,73), considerando \\nademás que las deformaciones post-\\nAnexo M.1', mimetype='text/plain', start_char_idx=8, end_char_idx=2688, metadata_seperator='\\n', text_template='{metadata_str}\\n\\n{content}'), score=0.7609674334526062), NodeWithScore(node=TextNode(id_='3a5de283-73b5-4d53-8a6a-a781a735bd55', embedding=None, metadata={'page_label': '17', 'file_name': 'Disposición de relaves_Las Luces III-Ing Básica.pdf', 'file_path': 'C:\\\\Users\\\\gol_m\\\\OneDrive\\\\Desktop\\\\Magíster en Ciencias de la Ingeniería\\\\1_AI-MINESAFE\\\\codes_mine_safe\\\\codes_paper_geotecnia\\\\paper\\\\rag\\\\documentos\\\\cenizas_tal_tal\\\\Disposición de relaves_Las Luces III-Ing Básica.pdf', 'file_type': 'application/pdf', 'file_size': 575362, 'creation_date': '2025-04-09', 'last_modified_date': '2025-04-09'}, excluded_embed_metadata_keys=['file_name', 'file_type', 'file_size', 'creation_date', 'last_modified_date', 'last_accessed_date'], excluded_llm_metadata_keys=['file_name', 'file_type', 'file_size', 'creation_date', 'last_modified_date', 'last_accessed_date'], relationships={<NodeRelationship.SOURCE: '1'>: RelatedNodeInfo(node_id='618d869f-2e46-4556-8db4-35fb054fe1e7', node_type='4', metadata={'page_label': '17', 'file_name': 'Disposición de relaves_Las Luces III-Ing Básica.pdf', 'file_path': 'C:\\\\Users\\\\gol_m\\\\OneDrive\\\\Desktop\\\\Magíster en Ciencias de la Ingeniería\\\\1_AI-MINESAFE\\\\codes_mine_safe\\\\codes_paper_geotecnia\\\\paper\\\\rag\\\\documentos\\\\cenizas_tal_tal\\\\Disposición de relaves_Las Luces III-Ing Básica.pdf', 'file_type': 'application/pdf', 'file_size': 575362, 'creation_date': '2025-04-09', 'last_modified_date': '2025-04-09'}, hash='7f8227ed035887c7b6c18b03f8f8fce1ceb83c6cef194f9a4309b5c7a27bcb0d')}, metadata_template='{key}: {value}', metadata_separator='\\n', text='INFORME \\n140001-300-DOC-04 \\nPag \\nDimensionamiento de Muros del Depósito 17 \\n \\nconsiderando una revancha mínima en operación del tranque de 1,5 m. En consecuencia las \\nfechas de construcción de las dos etapas del muro auxiliar son las siguientes. \\n \\nCuadro Nº6.2, Fechas de Inicio de Construcción de Etapas de Muro Auxiliar \\nEtapa \\nMuro \\nCota \\nCoronamiento \\nm.s.n.m. \\nInicio \\nConstrucción \\nAño \\n1 \\n2 \\n270,0 \\n275,0 \\n3 \\n6 \\n \\nPara las Etapas 2 y 3 del muro principal y la Etapa 2 del muro auxiliar se contempla disponer \\nluego de la cama de arena de 1 m de espesor, un relleno con material de terraplén de 4 m de \\nancho, a obtener desde la cubeta del depósito.  Este material deberá ser acopiado en un lugar \\nfuera del área del embalse, o en su defecto obtener desde un empréstito, el que deberá cumplir \\ncon las especificaciones para el material de muro. \\n \\nPor otra parte, con la geometría definida para el muro y propiedades de los materiales \\nconstituyentes, así como las características de los relaves espesados, la estabilidad estática y \\nsismíca del depósito se encuentra asegurada.', mimetype='text/plain', start_char_idx=0, end_char_idx=1085, metadata_seperator='\\n', text_template='{metadata_str}\\n\\n{content}'), score=0.7667976021766663), NodeWithScore(node=TextNode(id_='18443b33-5a6c-4c18-a4f7-60cc8145d6f4', embedding=None, metadata={'page_label': '16', 'file_name': 'Disposición de relaves_Las Luces III-Ing Básica.pdf', 'file_path': 'C:\\\\Users\\\\gol_m\\\\OneDrive\\\\Desktop\\\\Magíster en Ciencias de la Ingeniería\\\\1_AI-MINESAFE\\\\codes_mine_safe\\\\codes_paper_geotecnia\\\\paper\\\\rag\\\\documentos\\\\cenizas_tal_tal\\\\Disposición de relaves_Las Luces III-Ing Básica.pdf', 'file_type': 'application/pdf', 'file_size': 575362, 'creation_date': '2025-04-09', 'last_modified_date': '2025-04-09'}, excluded_embed_metadata_keys=['file_name', 'file_type', 'file_size', 'creation_date', 'last_modified_date', 'last_accessed_date'], excluded_llm_metadata_keys=['file_name', 'file_type', 'file_size', 'creation_date', 'last_modified_date', 'last_accessed_date'], relationships={<NodeRelationship.SOURCE: '1'>: RelatedNodeInfo(node_id='23f47e34-ccb5-4468-8458-bce2f3ac9128', node_type='4', metadata={'page_label': '16', 'file_name': 'Disposición de relaves_Las Luces III-Ing Básica.pdf', 'file_path': 'C:\\\\Users\\\\gol_m\\\\OneDrive\\\\Desktop\\\\Magíster en Ciencias de la Ingeniería\\\\1_AI-MINESAFE\\\\codes_mine_safe\\\\codes_paper_geotecnia\\\\paper\\\\rag\\\\documentos\\\\cenizas_tal_tal\\\\Disposición de relaves_Las Luces III-Ing Básica.pdf', 'file_type': 'application/pdf', 'file_size': 575362, 'creation_date': '2025-04-09', 'last_modified_date': '2025-04-09'}, hash='c9c759f9e322a5d2611604c9e25f9ac3ad32fb96375fff135c539712f16f9290')}, metadata_template='{key}: {value}', metadata_separator='\\n', text='INFORME \\n140001-300-DOC-04 \\nPag \\nDimensionamiento de Muros del Depósito 16 \\n \\nTambién se realizó un estudio simplificado de deformaciones permanentes mediante el método de \\nNewmark y el de Bray and Travasarou (2007) para el caso del sismo máximo creíble, obteniéndose \\nlos siguientes resultados: \\nTabla 5.6 \\nAsentamientos para sismo máximo creíble \\nDescenso muro Métodp de cálculo \\ncms Newmark Bray and \\nTravasarou \\nPrincipal 2.1 9.4 \\nAuxiliar 1.5 9.7 \\n \\n \\nSe evaluó además el potencial de licuación de los relaves del depósito aplicando el método de \\nSeed con algunas hipótesis de cálculo. Se concluyó finalmente que los relaves espesados en el \\ndepósito no son potencialmente licuables. \\n \\n \\n6. CONCLUSIONES  \\n \\nEl diseño del muro principal y auxiliar del depósito de relaves espesados Las Luces III, está en \\ndirecta relación con el plan de llenado, quien define las fechas en las que se construye cada \\netapa del muro y sus cotas de coronamiento. \\n \\nLas fechas de construcción de las etapas del muro principal quedan definidas por el nivel que \\nalcanzan los relaves frente al empotramiento derecho del muro, considerando una revancha \\nmínima de 2 m. Con esto se tiene que las etapas del muro principal deberán construirse según \\nlo indicado en cuadro siguiente. \\n \\nCuadro Nº6.1, Fechas de Inicio de Construcción de Etapas de Muro Principal \\nEtapa \\nMuro \\nCota \\nCoronamiento \\nm.s.n.m. \\nInicio \\nConstrucción \\nAño \\n1 \\n2 \\n3 \\n267,0 \\n273,5 \\n282,0 \\n0 \\n2 \\n5 \\n \\n \\nLas fechas de construcción de las dos etapas del muro auxiliar quedan definidas por el nivel \\nque toma la crecida máxima probable embalsada en los sectores bajos del embalse,', mimetype='text/plain', start_char_idx=0, end_char_idx=1632, metadata_seperator='\\n', text_template='{metadata_str}\\n\\n{content}'), score=0.7669253349304199), NodeWithScore(node=TextNode(id_='a4d2b2c3-e309-4d4c-8039-d485a0b97a65', embedding=None, metadata={'page_label': '52', 'file_name': 'Actualización-Plan de Cierre_Faena Taltal.pdf', 'file_path': 'C:\\\\Users\\\\gol_m\\\\OneDrive\\\\Desktop\\\\Magíster en Ciencias de la Ingeniería\\\\1_AI-MINESAFE\\\\codes_mine_safe\\\\codes_paper_geotecnia\\\\paper\\\\rag\\\\documentos\\\\cenizas_tal_tal\\\\Actualización-Plan de Cierre_Faena Taltal.pdf', 'file_type': 'application/pdf', 'file_size': 3065936, 'creation_date': '2025-04-09', 'last_modified_date': '2025-04-09'}, excluded_embed_metadata_keys=['file_name', 'file_type', 'file_size', 'creation_date', 'last_modified_date', 'last_accessed_date'], excluded_llm_metadata_keys=['file_name', 'file_type', 'file_size', 'creation_date', 'last_modified_date', 'last_accessed_date'], relationships={<NodeRelationship.SOURCE: '1'>: RelatedNodeInfo(node_id='c7f3457a-bf5d-4365-b405-83bd087b0b91', node_type='4', metadata={'page_label': '52', 'file_name': 'Actualización-Plan de Cierre_Faena Taltal.pdf', 'file_path': 'C:\\\\Users\\\\gol_m\\\\OneDrive\\\\Desktop\\\\Magíster en Ciencias de la Ingeniería\\\\1_AI-MINESAFE\\\\codes_mine_safe\\\\codes_paper_geotecnia\\\\paper\\\\rag\\\\documentos\\\\cenizas_tal_tal\\\\Actualización-Plan de Cierre_Faena Taltal.pdf', 'file_type': 'application/pdf', 'file_size': 3065936, 'creation_date': '2025-04-09', 'last_modified_date': '2025-04-09'}, hash='d2417ffe0725223f0ea093fa426ea370c4a1fb1e69b19014f8cb48a78b5e8db1')}, metadata_template='{key}: {value}', metadata_separator='\\n', text='4609-1100-RV-INF-001_1 Mayo, 2016 \\nExpediente Plan de Cierre Faena Taltal Página 52 de 146 \\nLa explotación del rajo considera perforaciones y tronaduras. Las perforaciones se realizarán \\ncon equipo DTH y tendrán un diámetro entre 3 a 4 pulgadas. La perforación se realizará en \\nbancos de 5 metros, altura adecuada para tener una adecuada selectividad de las estructuras \\nmineralizadas. La tronadura se realizará co n explosivo Anfo que se carga directamente al \\npozo. \\n \\nEl material fragmentado por la tronadura será cargado mediante retroexcavadoras a camiones \\nde carretera, que llevarán el mineral a la planta. El transporte de mineral oxidado, se realizará \\na una tasa de 30.000 toneladas por mes. \\n \\nSe considera además el crecimiento del depósito de estéril que se encuentra en operación, \\nubicándose adyacente a éste y adicionando una capacidad de disposición de 2,7 millones de \\ntoneladas. \\n \\n7.1.2.2 Características Principales \\n \\nMina Subterránea (en operación) y su infraestructura \\n \\n\\uf0b7 Estructura: Corresponde a una Mina Subterránea. \\n\\uf0b7 Dimensiones: Las instalaciones de Mina Altamira ocupan una superficie \\naproximadamente. de 61,5 hectáreas. \\n\\uf0b7 Componentes: Las instalaciones de Mina Altamira compr enden Oficinas, Talleres, \\nBodegas de Materiales, Acceso a Mina Subterránea, Botadero de Estériles, Estación \\nde Combustible, campamento, casino, relleno sanitario, casa de fuerza, sistema \\nparticular de agua potable y sistema particular de aguas servidas. \\n\\uf0b7 Producción: En la actualidad se extraen 30.000 ton/mensuales de minerales sulfurados \\ny se proyecta extraer 10.000 ton más (para un total de 40.000 ton/mes).  \\n \\nMina Rajo (proyecto no iniciado) y su infraestructura \\n \\n\\uf0b7 Estructura: Corresponde a una Mina Rajo Abie rto. Corresponde a la Modificación II \\nMina Altamira, RCA N° 138/2013, aprobada. \\n\\uf0b7 Dimensiones: Las dimensiones de la mina a cielo abierto 230 m de largo por 200 m de \\nancho y una profundidad de 55 m. \\n\\uf0b7 Componentes: Las instalaciones de Mina Altamira comprenden Oficinas, Talleres, \\nBodegas de Materiales, Campamento, Botadero de Estériles, relleno sanitario, sistema \\nparticular de agua potable y sistema particular de aguas servidas, entre otros. \\n\\uf0b7 Producción: Se extraerán 30.000 ton/mensuales de minerales oxidados de la Mina a \\ncielo abierto. \\n \\nDepósito de Estéril \\n \\n\\uf0b7 Estructura: Ampliación de depósito de estéril que actualmente se encuentra en \\noperación \\n\\uf0b7 Capacidad: Aumento de capacidad de depositación de 2,7 millones de toneladas', mimetype='text/plain', start_char_idx=8, end_char_idx=2494, metadata_seperator='\\n', text_template='{metadata_str}\\n\\n{content}'), score=0.7680913805961609), NodeWithScore(node=TextNode(id_='87d1fc9f-9b60-43ed-9939-030f9f000f97', embedding=None, metadata={'page_label': '128', 'file_name': 'Permiso sectorial_Actualización y modicacion_Las Luces.pdf', 'file_path': 'C:\\\\Users\\\\gol_m\\\\OneDrive\\\\Desktop\\\\Magíster en Ciencias de la Ingeniería\\\\1_AI-MINESAFE\\\\codes_mine_safe\\\\codes_paper_geotecnia\\\\paper\\\\rag\\\\documentos\\\\cenizas_tal_tal\\\\Permiso sectorial_Actualización y modicacion_Las Luces.pdf', 'file_type': 'application/pdf', 'file_size': 6997859, 'creation_date': '2025-04-09', 'last_modified_date': '2025-04-09'}, excluded_embed_metadata_keys=['file_name', 'file_type', 'file_size', 'creation_date', 'last_modified_date', 'last_accessed_date'], excluded_llm_metadata_keys=['file_name', 'file_type', 'file_size', 'creation_date', 'last_modified_date', 'last_accessed_date'], relationships={<NodeRelationship.SOURCE: '1'>: RelatedNodeInfo(node_id='c0041719-ce3f-4105-9c94-bd80ad0e3e0a', node_type='4', metadata={'page_label': '128', 'file_name': 'Permiso sectorial_Actualización y modicacion_Las Luces.pdf', 'file_path': 'C:\\\\Users\\\\gol_m\\\\OneDrive\\\\Desktop\\\\Magíster en Ciencias de la Ingeniería\\\\1_AI-MINESAFE\\\\codes_mine_safe\\\\codes_paper_geotecnia\\\\paper\\\\rag\\\\documentos\\\\cenizas_tal_tal\\\\Permiso sectorial_Actualización y modicacion_Las Luces.pdf', 'file_type': 'application/pdf', 'file_size': 6997859, 'creation_date': '2025-04-09', 'last_modified_date': '2025-04-09'}, hash='f65b5aa9ac82cbebf5c4b9b370f506aef6742596de3efd4c0f4fb0f80f4dfa74')}, metadata_template='{key}: {value}', metadata_separator='\\n', text='GHD Solicitud de Autorización Permiso Sectorial Art. 294 para Obras Mayores del Código de Aguas Obra Depósito de \\nRelaves Espesados, Proyecto  “Actualización y Modificación proyecto Las Luces” Minera Las Cenizas Faena Taltal |116 \\n \\n                \\n  \\n  \\nDónde: \\n \\n VRSAT : Volumen a restaurar \\n Ad : Área a restaurar o donde se realiza el depósito. \\n \\nPara calcular la profundidad h a la cual se debe resaturar se ha asumido, basado en la \\nexperiencia del consultor, una tasa de evaporación de las capas de relave de 50 cm cada 3 \\nmeses. Por consiguiente la tasa de desaturación alcanza: \\n \\n     \\n               \\n \\nLos relaves vaciados al DRE se descargan por una quebrada afluente, vale decir, por un sólo \\npunto. Al econtrarse con la playa de depositación, el flujo adopta un recorrido preferencial y así el \\ndepósito va creciendo en altura, hasta que en forma nat ural se desvía hacia otro curso, dentro de \\nla misma cubeta con relaves.  \\nEn el caso de relaves convencionales, el crecimiento del nivel de depósito antes de un cambio \\nnatural del curso del flujo alcanza niveles de entre 5 y 15 cms. Para relaves espesados, se dan \\nalturas algo mayores, debido a la mayor viscosidad de la pulpa, por esto, para efectos del balance \\nde aguas se supone 30 cms de espesor, aunque lo esperable es una cifra menor. Debe hacerse \\npresente que a menor espesor mayores son las pérdidas, de m odo que se reduce aún más la \\nposibilidad de contar con agua sobrenadante. \\nEn consecuencia, los relaves descargados al tranque se considera que serán depositados en \\ncapas de 30 cm cada uno. De esta forma, el área diaria de depositación ( Ad) corresponde al \\nvolumen de pulpa que ingresa al tranque, dividido por el espesor de la capa de depósito, es decir: \\n \\n   \\n    \\n       \\n  \\n  \\n   \\n    \\n \\nEl área superficial del depósito es de alrededor 42,5 has, por lo que el número de días entre \\nllenados consecutivos de un sector del embalse está dada por la relación del área total del tranque \\n(At) y el área de llenado diaria. \\nFinalmente, la altura a resaturar viene dada por el número de días calculado en el párrafo anterior \\npor la tasa de resaturación. Por lo que el caudal (en ℓ/s) medio de pérdida debido a la resaturación \\nalcanza los: \\n \\n           \\n  \\n         \\n  \\n   \\n                \\n  \\n   \\n     \\n \\n \\n(3) Pérdidas por Evaporación', mimetype='text/plain', start_char_idx=2, end_char_idx=2330, metadata_seperator='\\n', text_template='{metadata_str}\\n\\n{content}'), score=0.7691246867179871), NodeWithScore(node=TextNode(id_='c9526d8f-2f09-4eff-8aa7-25917975da57', embedding=None, metadata={'page_label': '14', 'file_name': 'Disposición de relaves_Las Luces III-Ing Básica.pdf', 'file_path': 'C:\\\\Users\\\\gol_m\\\\OneDrive\\\\Desktop\\\\Magíster en Ciencias de la Ingeniería\\\\1_AI-MINESAFE\\\\codes_mine_safe\\\\codes_paper_geotecnia\\\\paper\\\\rag\\\\documentos\\\\cenizas_tal_tal\\\\Disposición de relaves_Las Luces III-Ing Básica.pdf', 'file_type': 'application/pdf', 'file_size': 575362, 'creation_date': '2025-04-09', 'last_modified_date': '2025-04-09'}, excluded_embed_metadata_keys=['file_name', 'file_type', 'file_size', 'creation_date', 'last_modified_date', 'last_accessed_date'], excluded_llm_metadata_keys=['file_name', 'file_type', 'file_size', 'creation_date', 'last_modified_date', 'last_accessed_date'], relationships={<NodeRelationship.SOURCE: '1'>: RelatedNodeInfo(node_id='ab733bfc-568a-46c0-905e-62fc9eb3a6ce', node_type='4', metadata={'page_label': '14', 'file_name': 'Disposición de relaves_Las Luces III-Ing Básica.pdf', 'file_path': 'C:\\\\Users\\\\gol_m\\\\OneDrive\\\\Desktop\\\\Magíster en Ciencias de la Ingeniería\\\\1_AI-MINESAFE\\\\codes_mine_safe\\\\codes_paper_geotecnia\\\\paper\\\\rag\\\\documentos\\\\cenizas_tal_tal\\\\Disposición de relaves_Las Luces III-Ing Básica.pdf', 'file_type': 'application/pdf', 'file_size': 575362, 'creation_date': '2025-04-09', 'last_modified_date': '2025-04-09'}, hash='e245e1d787d91df70ecad48b23fecc3b8633244b16e3ed813f81462f6e69a31d')}, metadata_template='{key}: {value}', metadata_separator='\\n', text='INFORME \\n140001-300-DOC-04 \\nPag \\nDimensionamiento de Muros del Depósito 14 \\n \\n5.3 Napa Freática \\n \\nSe consideró que el depósito de relaves espesados se mantendrá saturado y se desarrollará un \\nascenso de agua por succión capilar hasta la superficie, donde se evaporará. Este proceso de \\nsecamiento por evaporación y capilaridad producirá una presión sobre el relave y le permitirá \\nconsolidarse. Además, las fuerzas de capilaridad impedirán que el agua descienda e infiltre al \\nsubsuelo. \\n \\nAsí, se generará un nivel freático dentro del depósito de relaves, que necesariamente estará \\nbajo la superficie. La profundidad del nivel freático dependerá de la granulometría del material \\ndepositado y la tasa de evaporación del sector, pudiendo llegar hasta más de 20 m de \\nprofundidad. \\n \\nPara el análisis de estabilidad operacional del muro principal se consideró un caso conservador \\ncon el nivel freático a 5.0 m.  \\n \\nPara el abandono, se supuso que la creida máxima probable coincidía con el sismo máximo \\ncreible, de modo que el nivel de la laguna junto al muro auxiliar se producía a cota 273. Esto \\nsignifica que junto al muro principal el nivel freático de abandono, aún durante crecidas va a \\nestar bajo la cota 273, en tanto el muro se ubica a cota 282. \\n \\n5.4 Coeficiente sísmico de Diseño \\n \\nEl coeficiente sísmico de diseño para el análisis pseudo-estático, se determinó mediante \\necuaciones que relacionan la aceleración máxima horizontal del sismo que controla el diseño \\ncon el coeficiente sísmico. \\n \\nLos coeficientes sísmicos tanto horizontal como vertical utilizados para la verificación de la \\ngeometría del muro y depósito de relaves son los siguientes: \\n \\nCuadro N° 5.1  \\nCoeficientes sísmicos para Terremoto Interplaca tipo Thrust \\n \\n \\nAdicionalmente la DGA ha solicitado para otroa depósitos de relaves, suponer un sismo \\nequivalente al del 27 de febrero de 2010 frente a la costa regional, lo que para este caso \\nsignifica una condición más exigente, de modo que se asimila al máximo creíble, encontrándose \\nlos siguientes valores:', mimetype='text/plain', start_char_idx=0, end_char_idx=2052, metadata_seperator='\\n', text_template='{metadata_str}\\n\\n{content}'), score=0.7694189548492432), NodeWithScore(node=TextNode(id_='db3144d2-f0d2-4d6c-909f-b5f4fd009fed', embedding=None, metadata={'page_label': '207', 'file_name': 'Permiso sectorial_Actualización y modicacion_Las Luces.pdf', 'file_path': 'C:\\\\Users\\\\gol_m\\\\OneDrive\\\\Desktop\\\\Magíster en Ciencias de la Ingeniería\\\\1_AI-MINESAFE\\\\codes_mine_safe\\\\codes_paper_geotecnia\\\\paper\\\\rag\\\\documentos\\\\cenizas_tal_tal\\\\Permiso sectorial_Actualización y modicacion_Las Luces.pdf', 'file_type': 'application/pdf', 'file_size': 6997859, 'creation_date': '2025-04-09', 'last_modified_date': '2025-04-09'}, excluded_embed_metadata_keys=['file_name', 'file_type', 'file_size', 'creation_date', 'last_modified_date', 'last_accessed_date'], excluded_llm_metadata_keys=['file_name', 'file_type', 'file_size', 'creation_date', 'last_modified_date', 'last_accessed_date'], relationships={<NodeRelationship.SOURCE: '1'>: RelatedNodeInfo(node_id='b7d16778-0258-4342-a2e6-9c4f58ae03ea', node_type='4', metadata={'page_label': '207', 'file_name': 'Permiso sectorial_Actualización y modicacion_Las Luces.pdf', 'file_path': 'C:\\\\Users\\\\gol_m\\\\OneDrive\\\\Desktop\\\\Magíster en Ciencias de la Ingeniería\\\\1_AI-MINESAFE\\\\codes_mine_safe\\\\codes_paper_geotecnia\\\\paper\\\\rag\\\\documentos\\\\cenizas_tal_tal\\\\Permiso sectorial_Actualización y modicacion_Las Luces.pdf', 'file_type': 'application/pdf', 'file_size': 6997859, 'creation_date': '2025-04-09', 'last_modified_date': '2025-04-09'}, hash='a6ce8ed3cc4e072329beb65ad6e5da091edf7064c41d49c930078c5042c2deb5')}, metadata_template='{key}: {value}', metadata_separator='\\n', text='GHD Solicitud Permiso Sectorial PAS 101 - Depósito de Relaves Espesados, Proyecto  “Actualización y Modificación \\nproyecto Las Luces” Minera Las Cenizas Faena Taltal |195 \\nMinera Las Cenizas realizará una verificación de la pendiente de depositación de relaves igual al \\n3%. Al inicio de la operación y durante toda esta, el relave será depositado en capas homogéneas \\nsiendo guiado mediante camellones de tierra y la cola del depósito se va a ir desplazando hacia \\naguas arriba conforme señala la secuencia del plan de llenado, esto con el fin de im pedir la \\ncanalización del mismo al pie del muro. La pendiente natural de depositación del relave es de 7%, \\nsin embargo cuando este alcanza su estabilidad total adquiere la pendiente de playa del 3%. \\nLa impermeabilización del terreno natural, será realizada  con el mismo relave. Como medida \\nprecautoria Minera Las Cenizas esparcirá mediante maquinaria el relave espesado depositado, \\ncubriendo el terreno con un espesor medio de 0,15 m, hasta su encuentro con el paramento \\nimpermeable del muro del depósito en los sectores en donde la depositación natural no alcance a \\ncubrir el terreno natural. \\nLos procedimientos indicados en el párrafo anterior, son para el cumplimiento del reglamento al \\nque se refiere el artículo 295 inciso 2° del Código de Aguas, el cual establec e las condiciones \\ntécnicas que deberán cumplirse en el proyecto, construcción y operación de obras hidráulicas, en \\nparticular a lo indicado en la letra “e”, del Artículo 33 del reglamento. \\nPara mayor información, el cálculo de la pendiente de depositación se encuentra en el Anexo F, \\ndocumento 140001-300-DOC-01 “Ingeniería Básica Bases de Diseño”. \\nLos parámetros de diseño utilizados para el plan de puesta de carga se describen en el Anexo I \\nPlan de llenado depósito, documento • 140001-300-DOC-03 “Plan de Lle nado del Depósito” y \\nson los siguientes: \\nTabla 5.3  Parámetros de diseño \\nParámetro Valor Unidad \\nDensidad seca depositación de relave espesado  1,5 t/m\\n3\\n \\nRevancha mínima operacional 1,5 M \\nRevancha final 2,0 M \\nProducción media de relave 2.980 Tpd \\nCota coronamiento muro Etapa 1  267 m \\nVolumen muro Etapa 1 140.455 m\\n3', mimetype='text/plain', start_char_idx=2, end_char_idx=2176, metadata_seperator='\\n', text_template='{metadata_str}\\n\\n{content}'), score=0.7706645727157593)], metadata={'b93e082e-5ee7-48d6-a39a-e7051ff2dd42': {'page_label': '129', 'file_name': 'Permiso sectorial_Actualización y modicacion_Las Luces.pdf', 'file_path': 'C:\\\\Users\\\\gol_m\\\\OneDrive\\\\Desktop\\\\Magíster en Ciencias de la Ingeniería\\\\1_AI-MINESAFE\\\\codes_mine_safe\\\\codes_paper_geotecnia\\\\paper\\\\rag\\\\documentos\\\\cenizas_tal_tal\\\\Permiso sectorial_Actualización y modicacion_Las Luces.pdf', 'file_type': 'application/pdf', 'file_size': 6997859, 'creation_date': '2025-04-09', 'last_modified_date': '2025-04-09'}, '98893c43-d68b-4da3-86f8-63c7312eaec7': {'page_label': '13', 'file_name': 'Disposición de relaves_Las Luces III-Ing Básica.pdf', 'file_path': 'C:\\\\Users\\\\gol_m\\\\OneDrive\\\\Desktop\\\\Magíster en Ciencias de la Ingeniería\\\\1_AI-MINESAFE\\\\codes_mine_safe\\\\codes_paper_geotecnia\\\\paper\\\\rag\\\\documentos\\\\cenizas_tal_tal\\\\Disposición de relaves_Las Luces III-Ing Básica.pdf', 'file_type': 'application/pdf', 'file_size': 575362, 'creation_date': '2025-04-09', 'last_modified_date': '2025-04-09'}, '3a4b628c-0436-47fe-9b47-06dfd7e327ae': {'page_label': '92', 'file_name': 'Permiso sectorial_Actualización y modicacion_Las Luces.pdf', 'file_path': 'C:\\\\Users\\\\gol_m\\\\OneDrive\\\\Desktop\\\\Magíster en Ciencias de la Ingeniería\\\\1_AI-MINESAFE\\\\codes_mine_safe\\\\codes_paper_geotecnia\\\\paper\\\\rag\\\\documentos\\\\cenizas_tal_tal\\\\Permiso sectorial_Actualización y modicacion_Las Luces.pdf', 'file_type': 'application/pdf', 'file_size': 6997859, 'creation_date': '2025-04-09', 'last_modified_date': '2025-04-09'}, 'e0356ae5-b1e1-4f52-b078-12503d60a87e': {'page_label': '70', 'file_name': 'Permiso sectorial_Actualización y modicacion_Las Luces.pdf', 'file_path': 'C:\\\\Users\\\\gol_m\\\\OneDrive\\\\Desktop\\\\Magíster en Ciencias de la Ingeniería\\\\1_AI-MINESAFE\\\\codes_mine_safe\\\\codes_paper_geotecnia\\\\paper\\\\rag\\\\documentos\\\\cenizas_tal_tal\\\\Permiso sectorial_Actualización y modicacion_Las Luces.pdf', 'file_type': 'application/pdf', 'file_size': 6997859, 'creation_date': '2025-04-09', 'last_modified_date': '2025-04-09'}, '67702497-74cc-485f-a3d2-075270e08aa4': {'page_label': '78', 'file_name': 'Actualización-Plan de Cierre_Faena Taltal.pdf', 'file_path': 'C:\\\\Users\\\\gol_m\\\\OneDrive\\\\Desktop\\\\Magíster en Ciencias de la Ingeniería\\\\1_AI-MINESAFE\\\\codes_mine_safe\\\\codes_paper_geotecnia\\\\paper\\\\rag\\\\documentos\\\\cenizas_tal_tal\\\\Actualización-Plan de Cierre_Faena Taltal.pdf', 'file_type': 'application/pdf', 'file_size': 3065936, 'creation_date': '2025-04-09', 'last_modified_date': '2025-04-09'}, '9aa1ec4d-7552-4af6-9e45-878707e05042': {'page_label': '12', 'file_name': 'Disposición de relaves_Las Luces III-Ing Básica.pdf', 'file_path': 'C:\\\\Users\\\\gol_m\\\\OneDrive\\\\Desktop\\\\Magíster en Ciencias de la Ingeniería\\\\1_AI-MINESAFE\\\\codes_mine_safe\\\\codes_paper_geotecnia\\\\paper\\\\rag\\\\documentos\\\\cenizas_tal_tal\\\\Disposición de relaves_Las Luces III-Ing Básica.pdf', 'file_type': 'application/pdf', 'file_size': 575362, 'creation_date': '2025-04-09', 'last_modified_date': '2025-04-09'}, '8863daaa-7f69-4c89-9b14-cd336613c97a': {'page_label': '109', 'file_name': 'Actualización-Plan de Cierre_Faena Taltal.pdf', 'file_path': 'C:\\\\Users\\\\gol_m\\\\OneDrive\\\\Desktop\\\\Magíster en Ciencias de la Ingeniería\\\\1_AI-MINESAFE\\\\codes_mine_safe\\\\codes_paper_geotecnia\\\\paper\\\\rag\\\\documentos\\\\cenizas_tal_tal\\\\Actualización-Plan de Cierre_Faena Taltal.pdf', 'file_type': 'application/pdf', 'file_size': 3065936, 'creation_date': '2025-04-09', 'last_modified_date': '2025-04-09'}, '3a5de283-73b5-4d53-8a6a-a781a735bd55': {'page_label': '17', 'file_name': 'Disposición de relaves_Las Luces III-Ing Básica.pdf', 'file_path': 'C:\\\\Users\\\\gol_m\\\\OneDrive\\\\Desktop\\\\Magíster en Ciencias de la Ingeniería\\\\1_AI-MINESAFE\\\\codes_mine_safe\\\\codes_paper_geotecnia\\\\paper\\\\rag\\\\documentos\\\\cenizas_tal_tal\\\\Disposición de relaves_Las Luces III-Ing Básica.pdf', 'file_type': 'application/pdf', 'file_size': 575362, 'creation_date': '2025-04-09', 'last_modified_date': '2025-04-09'}, '18443b33-5a6c-4c18-a4f7-60cc8145d6f4': {'page_label': '16', 'file_name': 'Disposición de relaves_Las Luces III-Ing Básica.pdf', 'file_path': 'C:\\\\Users\\\\gol_m\\\\OneDrive\\\\Desktop\\\\Magíster en Ciencias de la Ingeniería\\\\1_AI-MINESAFE\\\\codes_mine_safe\\\\codes_paper_geotecnia\\\\paper\\\\rag\\\\documentos\\\\cenizas_tal_tal\\\\Disposición de relaves_Las Luces III-Ing Básica.pdf', 'file_type': 'application/pdf', 'file_size': 575362, 'creation_date': '2025-04-09', 'last_modified_date': '2025-04-09'}, 'a4d2b2c3-e309-4d4c-8039-d485a0b97a65': {'page_label': '52', 'file_name': 'Actualización-Plan de Cierre_Faena Taltal.pdf', 'file_path': 'C:\\\\Users\\\\gol_m\\\\OneDrive\\\\Desktop\\\\Magíster en Ciencias de la Ingeniería\\\\1_AI-MINESAFE\\\\codes_mine_safe\\\\codes_paper_geotecnia\\\\paper\\\\rag\\\\documentos\\\\cenizas_tal_tal\\\\Actualización-Plan de Cierre_Faena Taltal.pdf', 'file_type': 'application/pdf', 'file_size': 3065936, 'creation_date': '2025-04-09', 'last_modified_date': '2025-04-09'}, '87d1fc9f-9b60-43ed-9939-030f9f000f97': {'page_label': '128', 'file_name': 'Permiso sectorial_Actualización y modicacion_Las Luces.pdf', 'file_path': 'C:\\\\Users\\\\gol_m\\\\OneDrive\\\\Desktop\\\\Magíster en Ciencias de la Ingeniería\\\\1_AI-MINESAFE\\\\codes_mine_safe\\\\codes_paper_geotecnia\\\\paper\\\\rag\\\\documentos\\\\cenizas_tal_tal\\\\Permiso sectorial_Actualización y modicacion_Las Luces.pdf', 'file_type': 'application/pdf', 'file_size': 6997859, 'creation_date': '2025-04-09', 'last_modified_date': '2025-04-09'}, 'c9526d8f-2f09-4eff-8aa7-25917975da57': {'page_label': '14', 'file_name': 'Disposición de relaves_Las Luces III-Ing Básica.pdf', 'file_path': 'C:\\\\Users\\\\gol_m\\\\OneDrive\\\\Desktop\\\\Magíster en Ciencias de la Ingeniería\\\\1_AI-MINESAFE\\\\codes_mine_safe\\\\codes_paper_geotecnia\\\\paper\\\\rag\\\\documentos\\\\cenizas_tal_tal\\\\Disposición de relaves_Las Luces III-Ing Básica.pdf', 'file_type': 'application/pdf', 'file_size': 575362, 'creation_date': '2025-04-09', 'last_modified_date': '2025-04-09'}, 'db3144d2-f0d2-4d6c-909f-b5f4fd009fed': {'page_label': '207', 'file_name': 'Permiso sectorial_Actualización y modicacion_Las Luces.pdf', 'file_path': 'C:\\\\Users\\\\gol_m\\\\OneDrive\\\\Desktop\\\\Magíster en Ciencias de la Ingeniería\\\\1_AI-MINESAFE\\\\codes_mine_safe\\\\codes_paper_geotecnia\\\\paper\\\\rag\\\\documentos\\\\cenizas_tal_tal\\\\Permiso sectorial_Actualización y modicacion_Las Luces.pdf', 'file_type': 'application/pdf', 'file_size': 6997859, 'creation_date': '2025-04-09', 'last_modified_date': '2025-04-09'}})"
      ]
     },
     "execution_count": 4,
     "metadata": {},
     "output_type": "execute_result"
    }
   ],
   "source": [
    "response = pipeline_rag.query(\"Tipo de depósito?\")\n",
    "response"
   ]
  },
  {
   "cell_type": "markdown",
   "id": "efd3a22f",
   "metadata": {},
   "source": [
    "Now let's use our proposal."
   ]
  },
  {
   "cell_type": "code",
   "execution_count": 1,
   "id": "7fa9ded3",
   "metadata": {},
   "outputs": [
    {
     "name": "stderr",
     "output_type": "stream",
     "text": [
      "c:\\Users\\gol_m\\anaconda3\\envs\\paper_geotecnia\\lib\\site-packages\\tqdm\\auto.py:21: TqdmWarning: IProgress not found. Please update jupyter and ipywidgets. See https://ipywidgets.readthedocs.io/en/stable/user_install.html\n",
      "  from .autonotebook import tqdm as notebook_tqdm\n"
     ]
    },
    {
     "name": "stdout",
     "output_type": "stream",
     "text": [
      "resource module not available on Windows\n"
     ]
    }
   ],
   "source": [
    "from rag import AsyncMultiQueryRAG"
   ]
  },
  {
   "cell_type": "code",
   "execution_count": 2,
   "id": "d23d8eca",
   "metadata": {},
   "outputs": [
    {
     "name": "stdout",
     "output_type": "stream",
     "text": [
      "Cargando Cross-Encoder...\n"
     ]
    }
   ],
   "source": [
    "path_vector_storage = \"./src/evaluation_retrieval/vector_storage/03_cenizas_espesado/03_cenizas_nomic\"\n",
    "embedding_type = \"nomic\"\n",
    "embedding_model_name = \"nomic-embed-text-v1.5\"\n",
    "\n",
    "pipeline_rag = AsyncMultiQueryRAG(\n",
    "    path_vector_storage=path_vector_storage,\n",
    "    embedding_type=embedding_type,\n",
    "    embedding_model_name=embedding_model_name\n",
    ")"
   ]
  },
  {
   "cell_type": "code",
   "execution_count": 3,
   "id": "bd54d02c",
   "metadata": {},
   "outputs": [
    {
     "name": "stderr",
     "output_type": "stream",
     "text": [
      "Desempaquetando Lista: 100%|██████████| 5/5 [00:00<?, ?it/s]\n"
     ]
    },
    {
     "name": "stdout",
     "output_type": "stream",
     "text": [
      "Total de nodos filtrados: 4\n"
     ]
    },
    {
     "data": {
      "text/plain": [
       "Response(response='El tipo de depósito mencionado en el contexto se refiere a depósitos de estéril y depósitos de relaves espesados. A continuación, se detallan las características de cada uno:\\n\\n1. **Depósito de Estéril (existente)**:\\n   - **Estructura**: Ubicado a unos 200 metros frente a la bocamina.\\n   - **Dimensión**: Ocupa una superficie aproximada de 1,5 hectáreas.\\n\\n2. **Depósito de Estéril (proyectado)**:\\n   - **Estructura**: Nueva zona de depositación de estéril, ubicada al suroeste del depósito existente.\\n   - **Capacidad**: Capacidad de depositación proyectada de 2,0 millones de toneladas.\\n\\n3. **Depósito de Estéril (proyecto en operación)**:\\n   - **Estructura**: Construcción de un depósito para recibir el material estéril proveniente de la mina rajo.\\n   - **Dimensiones**: Aproximadamente 40 hectáreas de superficie y 56 metros de altura.\\n\\n4. **Pilas Dump o Pilas Estáticas (proyecto pendiente)**:\\n   - **Estructura**: Instalación para lixiviar mineral de baja ley y ley marginal proveniente de la mina rajo sin chancar.\\n   - **Dimensiones**: Aproximadamente 32 hectáreas de superficie para mineral de baja ley y 40 hectáreas para mineral de ley marginal.\\n\\n5. **Depósito de Relaves Espesados**:\\n   - **Estructura**: Se menciona un procedimiento para la operación normal del proyecto de depósito de relaves espesados, que incluye la disposición de los relaves en forma de pulpas.\\n\\nSi necesitas información más específica sobre algún tipo de depósito, por favor indícalo.', source_nodes=[NodeWithScore(node=TextNode(id_='67702497-74cc-485f-a3d2-075270e08aa4', embedding=None, metadata={'page_label': '78', 'file_name': 'Actualización-Plan de Cierre_Faena Taltal.pdf', 'file_path': 'C:\\\\Users\\\\gol_m\\\\OneDrive\\\\Desktop\\\\Magíster en Ciencias de la Ingeniería\\\\1_AI-MINESAFE\\\\codes_mine_safe\\\\codes_paper_geotecnia\\\\paper\\\\rag\\\\documentos\\\\cenizas_tal_tal\\\\Actualización-Plan de Cierre_Faena Taltal.pdf', 'file_type': 'application/pdf', 'file_size': 3065936, 'creation_date': '2025-04-09', 'last_modified_date': '2025-04-09', 'retrieval_score': np.float32(-2.2003026)}, excluded_embed_metadata_keys=['file_name', 'file_type', 'file_size', 'creation_date', 'last_modified_date', 'last_accessed_date'], excluded_llm_metadata_keys=['file_name', 'file_type', 'file_size', 'creation_date', 'last_modified_date', 'last_accessed_date'], relationships={<NodeRelationship.SOURCE: '1'>: RelatedNodeInfo(node_id='654d4235-b08e-4836-a867-02ec548a1d6f', node_type='4', metadata={'page_label': '78', 'file_name': 'Actualización-Plan de Cierre_Faena Taltal.pdf', 'file_path': 'C:\\\\Users\\\\gol_m\\\\OneDrive\\\\Desktop\\\\Magíster en Ciencias de la Ingeniería\\\\1_AI-MINESAFE\\\\codes_mine_safe\\\\codes_paper_geotecnia\\\\paper\\\\rag\\\\documentos\\\\cenizas_tal_tal\\\\Actualización-Plan de Cierre_Faena Taltal.pdf', 'file_type': 'application/pdf', 'file_size': 3065936, 'creation_date': '2025-04-09', 'last_modified_date': '2025-04-09'}, hash='af2e1a6c17374e6f8345e7a48050516b8272bfe5474a584b48929122b99e0cc6')}, metadata_template='{key}: {value}', metadata_separator='\\n', text='4609-1100-RV-INF-001_1 Mayo, 2016 \\nExpediente Plan de Cierre Faena Taltal Página 78 de 146 \\n\\uf0b7 Producción: La tasa de extracción se encuentra entre 50.000 y 65.000 ton/mes de \\nmineral de sulfuros. \\n \\nDepósito de estéril (existente) \\n \\n\\uf0b7 Estructura: Depósito de estéril, ubicado a unos 200 metros frente a la bocamina \\n\\uf0b7 Dimensión: Depósito ocupa una superficie aproximada de 1,5 hectáreas \\n \\n \\nDepósito de estéril (proyectado) \\n \\n\\uf0b7 Estructura: Nueva zona de depositación de estéril, ubicada al suroeste del depósito \\nexistente \\n\\uf0b7 Capacidad: Capacidad de depositación proyectada de 2,0 millones de toneladas \\n \\n \\n7.3.2.3 Estabilidad física \\n \\nLa estabilidad física de las instalaciones que forman parte de Las Luces han sido analizadas \\nen las fases de diseño respectivas, ésta ha considerado la evaluación de la instalación bajo \\ncondiciones estáticas - dinámicas (pseudo -estáticas) y condiciones de esfuerzos. Estos \\nanálisis quedan consignados en la información que se acompaña en el Anexo G, de donde \\nprovienen los principales resultados que se indican a continuación. \\n \\n \\nTabla 7-25: Estabilidad Física Instalaciones Las Luces \\nID Tipo \\ninstalación \\nNombre Estudios \\nRealizados \\nResultados Referencia \\nMS Mina \\nsubterránea \\nLas Luces Modelación del \\ndesarrollo de \\nexplotación (análisis \\nde esfuerzos).  \\nDeterminación de Strength Factor, para \\ncada secuencia de explotación a desarrollar. \\nAnexo K.1 \\nAnexo K.2 \\nAnexo K.3 \\nDE Depósito de \\nestéril \\nBotadero \\n(Modificación \\nPY Las Luces) \\nAnálisis de \\nEstabilidad Física \\nDiseño cumple con los criterios establecidos \\n(FS estático >1,3 y FS pseudo-estático > \\n1.0). Considerando la solicitación sísmica \\nmediante estudio de riesgo sísmico local.  \\nAnexo K.4 \\n \\n \\nAdemás de evidenciar la condición de diseño de las instalaciones de Las Luces, los estudios \\nindicados en Tabla 7-25 forman parte de las fuentes de información de los factores técnicos \\nque fueron considerados en la evaluación de riesgos de esta instalación. \\n \\n \\n7.3.2.4 Estabilidad química \\n \\nLa estabilidad química en Las Luces fue analizada mediante la caracterización geoquímica del \\nmaterial estéril generado para cada unidad litológica principal. La evaluación del potencial de \\ngeneración de ácido desde el mencionado material fue realizada mediante conteo ácido – base \\n(ABA), el cual determina el potencial de una muestra de material estéril de liberar drenaje ácido \\nde roca (DAR) al ser expuesta a factores climáticos.', mimetype='text/plain', start_char_idx=8, end_char_idx=2457, metadata_seperator='\\n', text_template='{metadata_str}\\n\\n{content}'), score=np.float32(-2.6346242)), NodeWithScore(node=TextNode(id_='aad81236-3294-42f1-b3b9-24ea043bb3f2', embedding=None, metadata={'page_label': '65', 'file_name': 'Actualización-Plan de Cierre_Faena Taltal.pdf', 'file_path': 'C:\\\\Users\\\\gol_m\\\\OneDrive\\\\Desktop\\\\Magíster en Ciencias de la Ingeniería\\\\1_AI-MINESAFE\\\\codes_mine_safe\\\\codes_paper_geotecnia\\\\paper\\\\rag\\\\documentos\\\\cenizas_tal_tal\\\\Actualización-Plan de Cierre_Faena Taltal.pdf', 'file_type': 'application/pdf', 'file_size': 3065936, 'creation_date': '2025-04-09', 'last_modified_date': '2025-04-09', 'retrieval_score': np.float32(-2.3026638)}, excluded_embed_metadata_keys=['file_name', 'file_type', 'file_size', 'creation_date', 'last_modified_date', 'last_accessed_date'], excluded_llm_metadata_keys=['file_name', 'file_type', 'file_size', 'creation_date', 'last_modified_date', 'last_accessed_date'], relationships={<NodeRelationship.SOURCE: '1'>: RelatedNodeInfo(node_id='62bcc203-adc9-4851-9741-4f0c15d75e62', node_type='4', metadata={'page_label': '65', 'file_name': 'Actualización-Plan de Cierre_Faena Taltal.pdf', 'file_path': 'C:\\\\Users\\\\gol_m\\\\OneDrive\\\\Desktop\\\\Magíster en Ciencias de la Ingeniería\\\\1_AI-MINESAFE\\\\codes_mine_safe\\\\codes_paper_geotecnia\\\\paper\\\\rag\\\\documentos\\\\cenizas_tal_tal\\\\Actualización-Plan de Cierre_Faena Taltal.pdf', 'file_type': 'application/pdf', 'file_size': 3065936, 'creation_date': '2025-04-09', 'last_modified_date': '2025-04-09'}, hash='2b57990e69f0d0d293ea1335c4b300f4a6b734dc3fafc0fcacc96af133f528cd')}, metadata_template='{key}: {value}', metadata_separator='\\n', text='4609-1100-RV-INF-001_1 Mayo, 2016 \\nExpediente Plan de Cierre Faena Taltal Página 65 de 146 \\nDepósito de Estéril (proyecto en operación) \\n \\n\\uf0b7 Estructura: Construcción de un depósito para recibir el material estéril proveniente de \\nla mina rajo \\n\\uf0b7 Dimensiones: Instalación considera aproximadamente 40 ha de superficie y 56 m de \\naltura \\n \\nPilas Dump o Pilas Estáticas (proyecto pendiente) \\n \\n\\uf0b7 Estructura: Instalación para lixiviar mineral baja ley y ley marginal proveniente de la \\nmina rajo sin chancar. \\n\\uf0b7 Dimensiones: Instalación considera aproximadamente 32 ha de superficie para mineral \\nde baja ley y 40 ha para mineral de ley marginal \\n \\n \\n7.2.2.3 Estabilidad física \\n \\nLa estabilidad física de las instalaciones que forman parte de Barreal Seco han sido analizadas \\nen las fases de diseño respectivas, ésta ha considerado la evalu ación de la instalación bajo \\ncondiciones estáticas y dinámicas (pseudo-estáticas). Estos análisis quedan consignados en \\nla información que se acompaña en el Anexo J, de donde provienen los principales resultados \\nque se indican a continuación. \\n \\nTabla 7-14: Estabilidad Física Instalaciones Barreal Seco \\nID Tipo \\ninstalación \\nNombre Estudios \\nRealizados \\nResultados Referencia \\nDE Depósito de \\nestéril \\nBarreal \\nSeco \\nAnálisis de \\nEstabilidad Física \\nUtilización de método de equilibrio límite, \\npara analizar condiciones de carga estática \\ny sísmica (aproximación pseudo-estática), \\ncumpliendo con los criterios establecidos \\n(FS estático >1,3 y FS pseudo-estático > \\n1.0) \\nAnexo J.1 \\nMR Mina rajo Barreal \\nSeco \\nAnálisis estructural, \\nanálisis rotacional y \\nanálisis según \\nRitchie \\nDiseño cumple con los criterios establecidos \\n(FS estático >1,3 y FS pseudo-estático > \\n1.1). Además la probabilidad de falla se \\nestima menor a 5% \\nAnexo J.2 \\nRL Ripios \\nlixiviación \\nPilas \\nEstáticas \\n(Barreal \\nSeco) \\nAnálisis de \\nEstabilidad Física \\nUtilización de método de equilibrio límite, \\npara analizar condiciones de carga estática \\ny sísmica (aproximación pseudo-estática), \\ncumpliendo con los criterios establecidos \\n(FS estático >1,3 y FS pseudo-estático > \\n1.0) \\nAnexo J.3 \\n \\n \\nAdemás de evidenciar la condición de diseño de las instalaciones de Barreal Seco, los estudios \\nindicados en Tabla 7-14 forman parte de las fuentes de información de los factores técnicos \\nque fueron considerados en la evaluación de riesgos de esta instalación. \\n \\n \\n7.2.2.4 Estabilidad química \\n \\nLa estabilidad química en Barreal Seco fue analizada mediante la caracterización geoquímica \\ndel material estéril generado para cada unidad litológica principal. La evaluación del potencial \\nde generación de ácido desde el mencionado material fue realizada mediante conteo ácido –', mimetype='text/plain', start_char_idx=8, end_char_idx=2705, metadata_seperator='\\n', text_template='{metadata_str}\\n\\n{content}'), score=np.float32(-3.0622818)), NodeWithScore(node=TextNode(id_='18443b33-5a6c-4c18-a4f7-60cc8145d6f4', embedding=None, metadata={'page_label': '16', 'file_name': 'Disposición de relaves_Las Luces III-Ing Básica.pdf', 'file_path': 'C:\\\\Users\\\\gol_m\\\\OneDrive\\\\Desktop\\\\Magíster en Ciencias de la Ingeniería\\\\1_AI-MINESAFE\\\\codes_mine_safe\\\\codes_paper_geotecnia\\\\paper\\\\rag\\\\documentos\\\\cenizas_tal_tal\\\\Disposición de relaves_Las Luces III-Ing Básica.pdf', 'file_type': 'application/pdf', 'file_size': 575362, 'creation_date': '2025-04-09', 'last_modified_date': '2025-04-09', 'retrieval_score': np.float32(-1.3013403)}, excluded_embed_metadata_keys=['file_name', 'file_type', 'file_size', 'creation_date', 'last_modified_date', 'last_accessed_date'], excluded_llm_metadata_keys=['file_name', 'file_type', 'file_size', 'creation_date', 'last_modified_date', 'last_accessed_date'], relationships={<NodeRelationship.SOURCE: '1'>: RelatedNodeInfo(node_id='23f47e34-ccb5-4468-8458-bce2f3ac9128', node_type='4', metadata={'page_label': '16', 'file_name': 'Disposición de relaves_Las Luces III-Ing Básica.pdf', 'file_path': 'C:\\\\Users\\\\gol_m\\\\OneDrive\\\\Desktop\\\\Magíster en Ciencias de la Ingeniería\\\\1_AI-MINESAFE\\\\codes_mine_safe\\\\codes_paper_geotecnia\\\\paper\\\\rag\\\\documentos\\\\cenizas_tal_tal\\\\Disposición de relaves_Las Luces III-Ing Básica.pdf', 'file_type': 'application/pdf', 'file_size': 575362, 'creation_date': '2025-04-09', 'last_modified_date': '2025-04-09'}, hash='c9c759f9e322a5d2611604c9e25f9ac3ad32fb96375fff135c539712f16f9290')}, metadata_template='{key}: {value}', metadata_separator='\\n', text='INFORME \\n140001-300-DOC-04 \\nPag \\nDimensionamiento de Muros del Depósito 16 \\n \\nTambién se realizó un estudio simplificado de deformaciones permanentes mediante el método de \\nNewmark y el de Bray and Travasarou (2007) para el caso del sismo máximo creíble, obteniéndose \\nlos siguientes resultados: \\nTabla 5.6 \\nAsentamientos para sismo máximo creíble \\nDescenso muro Métodp de cálculo \\ncms Newmark Bray and \\nTravasarou \\nPrincipal 2.1 9.4 \\nAuxiliar 1.5 9.7 \\n \\n \\nSe evaluó además el potencial de licuación de los relaves del depósito aplicando el método de \\nSeed con algunas hipótesis de cálculo. Se concluyó finalmente que los relaves espesados en el \\ndepósito no son potencialmente licuables. \\n \\n \\n6. CONCLUSIONES  \\n \\nEl diseño del muro principal y auxiliar del depósito de relaves espesados Las Luces III, está en \\ndirecta relación con el plan de llenado, quien define las fechas en las que se construye cada \\netapa del muro y sus cotas de coronamiento. \\n \\nLas fechas de construcción de las etapas del muro principal quedan definidas por el nivel que \\nalcanzan los relaves frente al empotramiento derecho del muro, considerando una revancha \\nmínima de 2 m. Con esto se tiene que las etapas del muro principal deberán construirse según \\nlo indicado en cuadro siguiente. \\n \\nCuadro Nº6.1, Fechas de Inicio de Construcción de Etapas de Muro Principal \\nEtapa \\nMuro \\nCota \\nCoronamiento \\nm.s.n.m. \\nInicio \\nConstrucción \\nAño \\n1 \\n2 \\n3 \\n267,0 \\n273,5 \\n282,0 \\n0 \\n2 \\n5 \\n \\n \\nLas fechas de construcción de las dos etapas del muro auxiliar quedan definidas por el nivel \\nque toma la crecida máxima probable embalsada en los sectores bajos del embalse,', mimetype='text/plain', start_char_idx=0, end_char_idx=1632, metadata_seperator='\\n', text_template='{metadata_str}\\n\\n{content}'), score=np.float32(-5.4375505)), NodeWithScore(node=TextNode(id_='876b745f-5cff-4440-b9ff-64c68aacd10e', embedding=None, metadata={'page_label': '210', 'file_name': 'Permiso sectorial_Actualización y modicacion_Las Luces.pdf', 'file_path': 'C:\\\\Users\\\\gol_m\\\\OneDrive\\\\Desktop\\\\Magíster en Ciencias de la Ingeniería\\\\1_AI-MINESAFE\\\\codes_mine_safe\\\\codes_paper_geotecnia\\\\paper\\\\rag\\\\documentos\\\\cenizas_tal_tal\\\\Permiso sectorial_Actualización y modicacion_Las Luces.pdf', 'file_type': 'application/pdf', 'file_size': 6997859, 'creation_date': '2025-04-09', 'last_modified_date': '2025-04-09', 'retrieval_score': np.float32(-1.6081467)}, excluded_embed_metadata_keys=['file_name', 'file_type', 'file_size', 'creation_date', 'last_modified_date', 'last_accessed_date'], excluded_llm_metadata_keys=['file_name', 'file_type', 'file_size', 'creation_date', 'last_modified_date', 'last_accessed_date'], relationships={<NodeRelationship.SOURCE: '1'>: RelatedNodeInfo(node_id='92a187cc-d1df-4a58-b41e-1e6b61b058d5', node_type='4', metadata={'page_label': '210', 'file_name': 'Permiso sectorial_Actualización y modicacion_Las Luces.pdf', 'file_path': 'C:\\\\Users\\\\gol_m\\\\OneDrive\\\\Desktop\\\\Magíster en Ciencias de la Ingeniería\\\\1_AI-MINESAFE\\\\codes_mine_safe\\\\codes_paper_geotecnia\\\\paper\\\\rag\\\\documentos\\\\cenizas_tal_tal\\\\Permiso sectorial_Actualización y modicacion_Las Luces.pdf', 'file_type': 'application/pdf', 'file_size': 6997859, 'creation_date': '2025-04-09', 'last_modified_date': '2025-04-09'}, hash='d6d387b8396161752917f5d389adf4bbb27f345c7b4ccf793d91ea4b3a0ae8f2')}, metadata_template='{key}: {value}', metadata_separator='\\n', text='GHD Solicitud Permiso Sectorial PAS 101 - Depósito de Relaves Espesados, Proyecto  “Actualización y Modificación \\nproyecto Las Luces” Minera Las Cenizas Faena Taltal |198 \\n6. Plan de Operación Normal \\nMinera Las Cenizas, reconoce que u na de las operaciones importantes asociadas a las plantas \\nconcentradoras, es la disposición de los relaves, en un depósito los cuales pueden ser en  forma \\nde pulpas de relaves, en bajas o altas concentracio nes (Cp), por lo que es necesario, que se \\ngenere un procedimiento para la operación normal del proyecto de Depósito de Relaves \\nEspesado. \\nEn el Anexo M, se encuentra el documento Procedimiento para Operación de Depósito de Relaves \\nEspesado, desarrollado por  el Grupo Minero Las Cenizas, para su instalación en Planta Las \\nLuces. \\nEste procedimiento, está dirigido a quienes sean parte de la operación del depósito de relaves \\nespesados de Planta Las Luces, y presenta el detalle tanto del proceso regular como de \\nsituaciones extraordinarias no expuestas en el Plan de Emergencia. \\nEl contenido del procedimiento se enfoca en: \\n\\uf097 Indicar las responsabilidades y deberes que tiene cada persona que interviene en el \\ndepósito. \\n\\uf097 Indicar los Elementos de Protección Personal necesarios para ingresar al sector del \\ndepósito. \\n\\uf097 Dar a conocer las funciones que cumple cada instalación del depósito, respaldados con un \\ndiagrama de flujo.  \\n\\uf097 Mostrar los parámetros funcionando bajo condición normal contenidos en el Plan de \\ninspección Regular. \\n\\uf097 Mostrar un resumen de posibles eventos críticos y sus acciones, contenidos en el Plan de \\nInspección ante Situaciones Extraordinarias. \\n\\uf097 Presentar el procedimiento de las acciones a seguir en cada una de las instalaciones en sus \\ndistintas etapas operativas. \\n\\uf097 Presentar un análisis de trabajo para las distintas etapas operativas, sus riesgos asociados \\ny las acciones correctivas. \\n\\uf097 Acciones en caso de emergencia. \\nTodo lo anteriormente mencionado y mayores detalles se presentan en el Anexo M Plan de \\nOperación “Procedimiento de Trabajo: Operación de depósito de Relaves Espesados”.', mimetype='text/plain', start_char_idx=2, end_char_idx=2086, metadata_seperator='\\n', text_template='{metadata_str}\\n\\n{content}'), score=np.float32(-5.601059))], metadata={'67702497-74cc-485f-a3d2-075270e08aa4': {'page_label': '78', 'file_name': 'Actualización-Plan de Cierre_Faena Taltal.pdf', 'file_path': 'C:\\\\Users\\\\gol_m\\\\OneDrive\\\\Desktop\\\\Magíster en Ciencias de la Ingeniería\\\\1_AI-MINESAFE\\\\codes_mine_safe\\\\codes_paper_geotecnia\\\\paper\\\\rag\\\\documentos\\\\cenizas_tal_tal\\\\Actualización-Plan de Cierre_Faena Taltal.pdf', 'file_type': 'application/pdf', 'file_size': 3065936, 'creation_date': '2025-04-09', 'last_modified_date': '2025-04-09', 'retrieval_score': np.float32(-2.2003026)}, 'aad81236-3294-42f1-b3b9-24ea043bb3f2': {'page_label': '65', 'file_name': 'Actualización-Plan de Cierre_Faena Taltal.pdf', 'file_path': 'C:\\\\Users\\\\gol_m\\\\OneDrive\\\\Desktop\\\\Magíster en Ciencias de la Ingeniería\\\\1_AI-MINESAFE\\\\codes_mine_safe\\\\codes_paper_geotecnia\\\\paper\\\\rag\\\\documentos\\\\cenizas_tal_tal\\\\Actualización-Plan de Cierre_Faena Taltal.pdf', 'file_type': 'application/pdf', 'file_size': 3065936, 'creation_date': '2025-04-09', 'last_modified_date': '2025-04-09', 'retrieval_score': np.float32(-2.3026638)}, '18443b33-5a6c-4c18-a4f7-60cc8145d6f4': {'page_label': '16', 'file_name': 'Disposición de relaves_Las Luces III-Ing Básica.pdf', 'file_path': 'C:\\\\Users\\\\gol_m\\\\OneDrive\\\\Desktop\\\\Magíster en Ciencias de la Ingeniería\\\\1_AI-MINESAFE\\\\codes_mine_safe\\\\codes_paper_geotecnia\\\\paper\\\\rag\\\\documentos\\\\cenizas_tal_tal\\\\Disposición de relaves_Las Luces III-Ing Básica.pdf', 'file_type': 'application/pdf', 'file_size': 575362, 'creation_date': '2025-04-09', 'last_modified_date': '2025-04-09', 'retrieval_score': np.float32(-1.3013403)}, '876b745f-5cff-4440-b9ff-64c68aacd10e': {'page_label': '210', 'file_name': 'Permiso sectorial_Actualización y modicacion_Las Luces.pdf', 'file_path': 'C:\\\\Users\\\\gol_m\\\\OneDrive\\\\Desktop\\\\Magíster en Ciencias de la Ingeniería\\\\1_AI-MINESAFE\\\\codes_mine_safe\\\\codes_paper_geotecnia\\\\paper\\\\rag\\\\documentos\\\\cenizas_tal_tal\\\\Permiso sectorial_Actualización y modicacion_Las Luces.pdf', 'file_type': 'application/pdf', 'file_size': 6997859, 'creation_date': '2025-04-09', 'last_modified_date': '2025-04-09', 'retrieval_score': np.float32(-1.6081467)}})"
      ]
     },
     "execution_count": 3,
     "metadata": {},
     "output_type": "execute_result"
    }
   ],
   "source": [
    "response = pipeline_rag.query(\"Tipo de depósito?\")\n",
    "response"
   ]
  },
  {
   "cell_type": "code",
   "execution_count": 5,
   "id": "3eab2189",
   "metadata": {},
   "outputs": [
    {
     "data": {
      "text/markdown": [
       "El tipo de depósito mencionado en el contexto se refiere a depósitos de estéril y depósitos de relaves espesados. A continuación, se detallan las características de cada uno:\n",
       "\n",
       "1. **Depósito de Estéril (existente)**:\n",
       "   - **Estructura**: Ubicado a unos 200 metros frente a la bocamina.\n",
       "   - **Dimensión**: Ocupa una superficie aproximada de 1,5 hectáreas.\n",
       "\n",
       "2. **Depósito de Estéril (proyectado)**:\n",
       "   - **Estructura**: Nueva zona de depositación de estéril, ubicada al suroeste del depósito existente.\n",
       "   - **Capacidad**: Capacidad de depositación proyectada de 2,0 millones de toneladas.\n",
       "\n",
       "3. **Depósito de Estéril (proyecto en operación)**:\n",
       "   - **Estructura**: Construcción de un depósito para recibir el material estéril proveniente de la mina rajo.\n",
       "   - **Dimensiones**: Aproximadamente 40 hectáreas de superficie y 56 metros de altura.\n",
       "\n",
       "4. **Pilas Dump o Pilas Estáticas (proyecto pendiente)**:\n",
       "   - **Estructura**: Instalación para lixiviar mineral de baja ley y ley marginal proveniente de la mina rajo sin chancar.\n",
       "   - **Dimensiones**: Aproximadamente 32 hectáreas de superficie para mineral de baja ley y 40 hectáreas para mineral de ley marginal.\n",
       "\n",
       "5. **Depósito de Relaves Espesados**:\n",
       "   - **Estructura**: Se menciona un procedimiento para la operación normal del proyecto de depósito de relaves espesados, que incluye la disposición de los relaves en forma de pulpas.\n",
       "\n",
       "Si necesitas información más específica sobre algún tipo de depósito, por favor indícalo."
      ],
      "text/plain": [
       "<IPython.core.display.Markdown object>"
      ]
     },
     "metadata": {},
     "output_type": "display_data"
    }
   ],
   "source": [
    "from IPython.display import display, Markdown\n",
    "\n",
    "display(Markdown(response.response))"
   ]
  },
  {
   "cell_type": "markdown",
   "id": "ab81e90f",
   "metadata": {},
   "source": [
    "What we did not mention in our paper (since it was not the focus) is that by increasing the probability of finding the pieces of text (nodes) that contain the information, we improve the response quality of the LLM."
   ]
  },
  {
   "cell_type": "markdown",
   "id": "3e042932",
   "metadata": {},
   "source": [
    "# **Paper AsyncMultiQuery TSF-RAG**"
   ]
  },
  {
   "cell_type": "markdown",
   "id": "eed91713",
   "metadata": {},
   "source": [
    "Now we are going to replicate what is indicated in the article by evaluating each embedding model and each RAG system for the 5 TSFs."
   ]
  },
  {
   "cell_type": "markdown",
   "id": "ec4cf0ef",
   "metadata": {},
   "source": [
    "## **5. Experimental setup and results**"
   ]
  },
  {
   "cell_type": "markdown",
   "id": "f1faa298",
   "metadata": {},
   "source": [
    "### **5.2 Embeddings evaluation**"
   ]
  },
  {
   "cell_type": "markdown",
   "id": "fd7ee048",
   "metadata": {},
   "source": [
    "#### **1. Sand Tailing Dams (STD)**"
   ]
  },
  {
   "cell_type": "markdown",
   "id": "6e7f01ca",
   "metadata": {},
   "source": [
    "##### **1.1 Model: All-MiniLM-L6-v2**"
   ]
  },
  {
   "cell_type": "code",
   "execution_count": 6,
   "id": "df2ab0e0",
   "metadata": {},
   "outputs": [
    {
     "name": "stdout",
     "output_type": "stream",
     "text": [
      "🚀 EVALUACIÓN RÁPIDA INICIADA\n",
      "==================================================\n",
      "🤖 Cargando modelo tipo: huggingface\n",
      "📁 Storage path: ./src/evaluation_retrieval/vector_storage/01_cerro_negro_tranque/01_cerro_negro_all_mini_L6_v2\n",
      "   📦 Modelo HuggingFace: sentence-transformers/all-MiniLM-L6-v2\n",
      "✅ Modelo cargado exitosamente!\n",
      "📋 Cargando ground truth: ./src/evaluation_retrieval/ground_truth_retrieval/01_tranque_ground_truth_evaluacion.json\n",
      "✅ Ground truth cargado exitosamente!\n",
      "  📊 Tipo de depósito: tranque_de_relaves\n",
      "  📈 Número de matrices: 6\n",
      "  🔍 Total de parámetros: 9\n",
      "    • matriz_1: 2 parámetros\n",
      "    • matriz_2: 3 parámetros\n",
      "    • matriz_4: 1 parámetros\n",
      "    • matriz_6: 1 parámetros\n",
      "    • matriz_7: 1 parámetros\n",
      "    • matriz_8: 1 parámetros\n",
      "🚀 Iniciando evaluación completa (top_k=13)...\n",
      "📊 Total de parámetros a evaluar: 9\n",
      "\n",
      "📈 Evaluando matriz: matriz_1 (2 parámetros)\n"
     ]
    },
    {
     "name": "stderr",
     "output_type": "stream",
     "text": [
      "                                                                       \r"
     ]
    },
    {
     "name": "stdout",
     "output_type": "stream",
     "text": [
      "    📊 Promedio matriz matriz_1:\n",
      "       Precision: 0.3077\n",
      "       Recall:    0.0889\n",
      "       F1-Score:  0.1379\n",
      "       AP:        0.0760\n",
      "\n",
      "📈 Evaluando matriz: matriz_2 (3 parámetros)\n"
     ]
    },
    {
     "name": "stderr",
     "output_type": "stream",
     "text": [
      "                                                               \r"
     ]
    },
    {
     "name": "stdout",
     "output_type": "stream",
     "text": [
      "    📊 Promedio matriz matriz_2:\n",
      "       Precision: 0.0513\n",
      "       Recall:    0.3333\n",
      "       F1-Score:  0.0889\n",
      "       AP:        0.1389\n",
      "\n",
      "📈 Evaluando matriz: matriz_4 (1 parámetros)\n"
     ]
    },
    {
     "name": "stderr",
     "output_type": "stream",
     "text": [
      "                                                               \r"
     ]
    },
    {
     "name": "stdout",
     "output_type": "stream",
     "text": [
      "    📊 Promedio matriz matriz_4:\n",
      "       Precision: 0.1538\n",
      "       Recall:    0.6667\n",
      "       F1-Score:  0.2500\n",
      "       AP:        0.1162\n",
      "\n",
      "📈 Evaluando matriz: matriz_6 (1 parámetros)\n"
     ]
    },
    {
     "name": "stderr",
     "output_type": "stream",
     "text": [
      "                                                               \r"
     ]
    },
    {
     "name": "stdout",
     "output_type": "stream",
     "text": [
      "    📊 Promedio matriz matriz_6:\n",
      "       Precision: 0.0000\n",
      "       Recall:    0.0000\n",
      "       F1-Score:  0.0000\n",
      "       AP:        0.0000\n",
      "\n",
      "📈 Evaluando matriz: matriz_7 (1 parámetros)\n"
     ]
    },
    {
     "name": "stderr",
     "output_type": "stream",
     "text": [
      "                                                               \r"
     ]
    },
    {
     "name": "stdout",
     "output_type": "stream",
     "text": [
      "    📊 Promedio matriz matriz_7:\n",
      "       Precision: 0.0769\n",
      "       Recall:    0.3333\n",
      "       F1-Score:  0.1250\n",
      "       AP:        0.3333\n",
      "\n",
      "📈 Evaluando matriz: matriz_8 (1 parámetros)\n"
     ]
    },
    {
     "name": "stderr",
     "output_type": "stream",
     "text": [
      "                                                               "
     ]
    },
    {
     "name": "stdout",
     "output_type": "stream",
     "text": [
      "    📊 Promedio matriz matriz_8:\n",
      "       Precision: 0.0769\n",
      "       Recall:    0.3333\n",
      "       F1-Score:  0.1250\n",
      "       AP:        0.0278\n",
      "\n",
      "✅ Evaluación completa terminada!\n",
      "📊 Total evaluaciones realizadas: 9\n",
      "\n",
      "======================================================================\n",
      "📈 RESUMEN DE EVALUACIÓN DE EMBEDDINGS\n",
      "======================================================================\n",
      "🤖 Modelo: sentence-transformers/all-MiniLM-L6-v2\n",
      "🏗️  Tipo de depósito: tranque_de_relaves\n",
      "📅 Fecha evaluación: 2025-10-26 22:21:52\n",
      "🎯 Top-K evaluado: 13\n",
      "📊 Total parámetros: 9\n",
      "\n",
      "🌍 MÉTRICAS GLOBALES (Promedio de todos los parámetros):\n",
      "--------------------------------------------------\n",
      "Precision:     0.1197\n",
      "Recall:        0.2790\n",
      "F1-Score:      0.1158\n",
      "Avg Precision: 0.1162\n",
      "\n",
      "📊 MÉTRICAS POR MATRIZ:\n",
      "--------------------------------------------------\n",
      "\n",
      "📈 matriz_1:\n",
      "  Precision:     0.3077\n",
      "  Recall:        0.0889\n",
      "  F1-Score:      0.1379\n",
      "  Avg Precision: 0.0760\n",
      "\n",
      "📈 matriz_2:\n",
      "  Precision:     0.0513\n",
      "  Recall:        0.3333\n",
      "  F1-Score:      0.0889\n",
      "  Avg Precision: 0.1389\n",
      "\n",
      "📈 matriz_4:\n",
      "  Precision:     0.1538\n",
      "  Recall:        0.6667\n",
      "  F1-Score:      0.2500\n",
      "  Avg Precision: 0.1162\n",
      "\n",
      "📈 matriz_6:\n",
      "  Precision:     0.0000\n",
      "  Recall:        0.0000\n",
      "  F1-Score:      0.0000\n",
      "  Avg Precision: 0.0000\n",
      "\n",
      "📈 matriz_7:\n",
      "  Precision:     0.0769\n",
      "  Recall:        0.3333\n",
      "  F1-Score:      0.1250\n",
      "  Avg Precision: 0.3333\n",
      "\n",
      "📈 matriz_8:\n",
      "  Precision:     0.0769\n",
      "  Recall:        0.3333\n",
      "  F1-Score:      0.1250\n",
      "  Avg Precision: 0.0278\n",
      "\n",
      "🏆 TOP 3 MEJORES PARÁMETROS (por F1-Score):\n",
      "--------------------------------------------------\n",
      "1. matriz_1 - parametro_1\n",
      "   F1: 0.2759, P: 0.6154, R: 0.1778\n",
      "2. matriz_2 - parametro_3\n",
      "   F1: 0.2667, P: 0.1538, R: 1.0000\n",
      "3. matriz_4 - parametro_1\n",
      "   F1: 0.2500, P: 0.1538, R: 0.6667\n",
      "\n",
      "🔻 TOP 3 PEORES PARÁMETROS (por F1-Score):\n",
      "--------------------------------------------------\n",
      "1. matriz_2 - parametro_1\n",
      "   F1: 0.0000, P: 0.0000, R: 0.0000\n",
      "2. matriz_2 - parametro_4\n",
      "   F1: 0.0000, P: 0.0000, R: 0.0000\n",
      "3. matriz_6 - parametro_1\n",
      "   F1: 0.0000, P: 0.0000, R: 0.0000\n",
      "\n",
      "======================================================================\n",
      "💾 Resultados completos guardados en: src\\results\\01_tranque_retrieval_evaluation\\eval_sentence-transformers_all-MiniLM-L6-v2_tranque_de_relaves_k13_20251026_222153_complete.json\n",
      "📋 Resumen guardado en: src\\results\\01_tranque_retrieval_evaluation\\eval_sentence-transformers_all-MiniLM-L6-v2_tranque_de_relaves_k13_20251026_222153_summary.json\n"
     ]
    },
    {
     "name": "stderr",
     "output_type": "stream",
     "text": [
      "\r"
     ]
    }
   ],
   "source": [
    "from evaluation_retrieval import EmbeddingEvaluatorV3\n",
    "\n",
    "evaluator = EmbeddingEvaluatorV3(results_dir=\"./src/results/01_tranque_retrieval_evaluation\")\n",
    "\n",
    "# Una sola línea para evaluar todo\n",
    "results, df = evaluator.quick_evaluate(\n",
    "    model_config={\"model_type\": \"huggingface\", \"model_id\": \"sentence-transformers/all-MiniLM-L6-v2\"},\n",
    "    storage_path=\"./src/evaluation_retrieval/vector_storage/01_cerro_negro_tranque/01_cerro_negro_all_mini_L6_v2\",\n",
    "    ground_truth_path=\"./src/evaluation_retrieval/ground_truth_retrieval/01_tranque_ground_truth_evaluacion.json\",\n",
    "    top_k=13\n",
    ")"
   ]
  },
  {
   "cell_type": "markdown",
   "id": "0ec1e148",
   "metadata": {},
   "source": [
    "### **5.3 Comparison of RAG systems**"
   ]
  },
  {
   "cell_type": "code",
   "execution_count": null,
   "id": "14368d20",
   "metadata": {},
   "outputs": [
    {
     "name": "stderr",
     "output_type": "stream",
     "text": [
      "c:\\Users\\gol_m\\anaconda3\\envs\\paper_geotecnia\\lib\\site-packages\\tqdm\\auto.py:21: TqdmWarning: IProgress not found. Please update jupyter and ipywidgets. See https://ipywidgets.readthedocs.io/en/stable/user_install.html\n",
      "  from .autonotebook import tqdm as notebook_tqdm\n"
     ]
    },
    {
     "name": "stdout",
     "output_type": "stream",
     "text": [
      "resource module not available on Windows\n"
     ]
    }
   ],
   "source": [
    "from evaluation_rag import auto_evaluation_rag\n",
    "from llms_modules import LLMEvaluator"
   ]
  },
  {
   "cell_type": "markdown",
   "id": "cb326139",
   "metadata": {},
   "source": [
    "#### **1. Naive RAG System Evaluation**"
   ]
  },
  {
   "cell_type": "markdown",
   "id": "07ee4fb2",
   "metadata": {},
   "source": [
    "This section evaluates the 5 TSFs for the RAG system called Naive."
   ]
  },
  {
   "cell_type": "code",
   "execution_count": null,
   "id": "df2a6a28",
   "metadata": {},
   "outputs": [],
   "source": [
    "from rag import NaiveRAG"
   ]
  },
  {
   "cell_type": "markdown",
   "id": "881a95f1",
   "metadata": {},
   "source": [
    "##### **1.1 Sand Tailing Dams (STD)**"
   ]
  },
  {
   "cell_type": "code",
   "execution_count": 3,
   "id": "1ed2800d",
   "metadata": {},
   "outputs": [
    {
     "name": "stderr",
     "output_type": "stream",
     "text": [
      "Evaluación Matriz:   0%|          | 0/8 [00:00<?, ?it/s]"
     ]
    },
    {
     "name": "stdout",
     "output_type": "stream",
     "text": [
      "Matriz 1\n"
     ]
    },
    {
     "name": "stderr",
     "output_type": "stream",
     "text": [
      "Evaluación Matriz:  12%|█▎        | 1/8 [00:19<02:17, 19.71s/it]"
     ]
    },
    {
     "name": "stdout",
     "output_type": "stream",
     "text": [
      "Matriz 2\n"
     ]
    },
    {
     "name": "stderr",
     "output_type": "stream",
     "text": [
      "Evaluación Matriz:  25%|██▌       | 2/8 [00:28<01:19, 13.20s/it]"
     ]
    },
    {
     "name": "stdout",
     "output_type": "stream",
     "text": [
      "Matriz 3\n"
     ]
    },
    {
     "name": "stderr",
     "output_type": "stream",
     "text": [
      "Evaluación Matriz:  38%|███▊      | 3/8 [00:33<00:46,  9.35s/it]"
     ]
    },
    {
     "name": "stdout",
     "output_type": "stream",
     "text": [
      "Matriz 4\n"
     ]
    },
    {
     "name": "stderr",
     "output_type": "stream",
     "text": [
      "Evaluación Matriz:  50%|█████     | 4/8 [00:38<00:31,  7.85s/it]"
     ]
    },
    {
     "name": "stdout",
     "output_type": "stream",
     "text": [
      "Matriz 5\n"
     ]
    },
    {
     "name": "stderr",
     "output_type": "stream",
     "text": [
      "Evaluación Matriz:  62%|██████▎   | 5/8 [00:48<00:25,  8.47s/it]"
     ]
    },
    {
     "name": "stdout",
     "output_type": "stream",
     "text": [
      "Matriz 6\n"
     ]
    },
    {
     "name": "stderr",
     "output_type": "stream",
     "text": [
      "Evaluación Matriz:  75%|███████▌  | 6/8 [00:57<00:17,  8.89s/it]"
     ]
    },
    {
     "name": "stdout",
     "output_type": "stream",
     "text": [
      "Matriz 7\n"
     ]
    },
    {
     "name": "stderr",
     "output_type": "stream",
     "text": [
      "Evaluación Matriz:  88%|████████▊ | 7/8 [01:11<00:10, 10.53s/it]"
     ]
    },
    {
     "name": "stdout",
     "output_type": "stream",
     "text": [
      "Matriz 8\n"
     ]
    },
    {
     "name": "stderr",
     "output_type": "stream",
     "text": [
      "Evaluación Matriz: 100%|██████████| 8/8 [01:22<00:00, 10.37s/it]\n"
     ]
    },
    {
     "name": "stdout",
     "output_type": "stream",
     "text": [
      "El tiempo en evaluar fue: 83.2460584640503\n"
     ]
    }
   ],
   "source": [
    "import time \n",
    "\n",
    "path_vector_storage=\"./src/evaluation_retrieval/vector_storage/01_cerro_negro_tranque/01_cerro_negro_nomic\"\n",
    "embedding_type=\"nomic\"\n",
    "embedding_model_name=\"nomic-embed-text-v1.5\"\n",
    "\n",
    "path_ground_truth_rag = \"./src/evaluation_rag/rag_ground_truth/01_STD_Tranque_GT.xlsx\"\n",
    "nombre_excel = \"01_STD_NaiveRAG_nomic.xlsx\"\n",
    "\n",
    "pipeline_rag = NaiveRAG(\n",
    "    path_vector_storage=path_vector_storage,\n",
    "    embedding_type=embedding_type,\n",
    "    embedding_model_name=embedding_model_name,\n",
    ")\n",
    "\n",
    "llm_evaluador = LLMEvaluator()\n",
    "\n",
    "inicio = time.time()\n",
    "auto_evaluation_rag(\n",
    "    path_ground_truth=path_ground_truth_rag,\n",
    "    name_excel=nombre_excel,\n",
    "    pipeline_rag=pipeline_rag,\n",
    "    llm_evaluador=llm_evaluador\n",
    ")\n",
    "fin = time.time()\n",
    "tiempo = fin - inicio\n",
    "print(\"El tiempo en evaluar fue:\", tiempo)"
   ]
  },
  {
   "cell_type": "markdown",
   "id": "d0bf27a4",
   "metadata": {},
   "source": [
    "##### **1.2 Filtered Tailings Deposit (FTD)**"
   ]
  },
  {
   "cell_type": "code",
   "execution_count": null,
   "id": "25b85fb1",
   "metadata": {},
   "outputs": [],
   "source": [
    "import time \n",
    "\n",
    "path_vector_storage=\"./src/evaluation_retrieval/vector_storage/02_kozan_filtrado/02_kozan_nomic\"\n",
    "embedding_type=\"nomic\"\n",
    "embedding_model_name=\"nomic-embed-text-v1.5\"\n",
    "\n",
    "path_ground_truth_rag = \"./src/evaluation_rag/rag_ground_truth/02_FTD_Filtrado_GT.xlsx\"\n",
    "nombre_excel = \"01_FTD_NaiveRAG_nomic.xlsx\"\n",
    "\n",
    "pipeline_rag = NaiveRAG(\n",
    "    path_vector_storage=path_vector_storage,\n",
    "    embedding_type=embedding_type,\n",
    "    embedding_model_name=embedding_model_name,\n",
    ")\n",
    "\n",
    "llm_evaluador = LLMEvaluator()\n",
    "\n",
    "inicio = time.time()\n",
    "auto_evaluation_rag(\n",
    "    path_ground_truth=path_ground_truth_rag,\n",
    "    name_excel=nombre_excel,\n",
    "    pipeline_rag=pipeline_rag,\n",
    "    llm_evaluador=llm_evaluador\n",
    ")\n",
    "fin = time.time()\n",
    "tiempo = fin - inicio\n",
    "print(\"El tiempo en evaluar fue:\", tiempo)"
   ]
  },
  {
   "cell_type": "markdown",
   "id": "4613b246",
   "metadata": {},
   "source": [
    "##### **1.3 Thickened Tailings Deposit (TTD)**"
   ]
  },
  {
   "cell_type": "code",
   "execution_count": null,
   "id": "3f9daa9d",
   "metadata": {},
   "outputs": [],
   "source": [
    "import time \n",
    "\n",
    "path_vector_storage=\"./src/evaluation_retrieval/vector_storage/03_cenizas_espesado/03_cenizas_nomic\"\n",
    "embedding_type=\"nomic\"\n",
    "embedding_model_name=\"nomic-embed-text-v1.5\"\n",
    "\n",
    "path_ground_truth_rag = \"./src/evaluation_rag/rag_ground_truth/03_TTD_Espesado_GT.xlsx\"\n",
    "nombre_excel = \"01_TTD_NaiveRAG_nomic.xlsx\"\n",
    "\n",
    "pipeline_rag = NaiveRAG(\n",
    "    path_vector_storage=path_vector_storage,\n",
    "    embedding_type=embedding_type,\n",
    "    embedding_model_name=embedding_model_name,\n",
    ")\n",
    "\n",
    "llm_evaluador = LLMEvaluator()\n",
    "\n",
    "inicio = time.time()\n",
    "auto_evaluation_rag(\n",
    "    path_ground_truth=path_ground_truth_rag,\n",
    "    name_excel=nombre_excel,\n",
    "    pipeline_rag=pipeline_rag,\n",
    "    llm_evaluador=llm_evaluador\n",
    ")\n",
    "fin = time.time()\n",
    "tiempo = fin - inicio\n",
    "print(\"El tiempo en evaluar fue:\", tiempo)"
   ]
  },
  {
   "cell_type": "markdown",
   "id": "ce1d660f",
   "metadata": {},
   "source": [
    "##### **1.4 Tailings Embankments (TE)**"
   ]
  },
  {
   "cell_type": "code",
   "execution_count": null,
   "id": "d77a596b",
   "metadata": {},
   "outputs": [],
   "source": [
    "import time \n",
    "\n",
    "path_vector_storage=\"./src/evaluation_retrieval/vector_storage/04_enami_embalse/04_enami_nomic\"\n",
    "embedding_type=\"nomic\"\n",
    "embedding_model_name=\"nomic-embed-text-v1.5\"\n",
    "\n",
    "path_ground_truth_rag = \"./src/evaluation_rag/rag_ground_truth/04_TE_Embalse_GT.xlsx\"\n",
    "nombre_excel = \"01_TE_NaiveRAG_nomic.xlsx\"\n",
    "\n",
    "pipeline_rag = NaiveRAG(\n",
    "    path_vector_storage=path_vector_storage,\n",
    "    embedding_type=embedding_type,\n",
    "    embedding_model_name=embedding_model_name,\n",
    ")\n",
    "\n",
    "llm_evaluador = LLMEvaluator()\n",
    "\n",
    "inicio = time.time()\n",
    "auto_evaluation_rag(\n",
    "    path_ground_truth=path_ground_truth_rag,\n",
    "    name_excel=nombre_excel,\n",
    "    pipeline_rag=pipeline_rag,\n",
    "    llm_evaluador=llm_evaluador\n",
    ")\n",
    "fin = time.time()\n",
    "tiempo = fin - inicio\n",
    "print(\"El tiempo en evaluar fue:\", tiempo)"
   ]
  },
  {
   "cell_type": "markdown",
   "id": "ab38655f",
   "metadata": {},
   "source": [
    "##### **1.5 Paste Tailings Deposits (PTD)**"
   ]
  },
  {
   "cell_type": "code",
   "execution_count": null,
   "id": "c8fa5d6a",
   "metadata": {},
   "outputs": [],
   "source": [
    "import time \n",
    "\n",
    "path_vector_storage=\"./src/evaluation_retrieval/vector_storage/05_florida_pasta/05_florida_nomic\"\n",
    "embedding_type=\"nomic\"\n",
    "embedding_model_name=\"nomic-embed-text-v1.5\"\n",
    "\n",
    "path_ground_truth_rag = \"./src/evaluation_rag/rag_ground_truth/05_PTD_EnPasta_GT.xlsx\"\n",
    "nombre_excel = \"01_PTD_NaiveRAG_nomic.xlsx\"\n",
    "\n",
    "pipeline_rag = NaiveRAG(\n",
    "    path_vector_storage=path_vector_storage,\n",
    "    embedding_type=embedding_type,\n",
    "    embedding_model_name=embedding_model_name,\n",
    ")\n",
    "\n",
    "llm_evaluador = LLMEvaluator()\n",
    "\n",
    "inicio = time.time()\n",
    "auto_evaluation_rag(\n",
    "    path_ground_truth=path_ground_truth_rag,\n",
    "    name_excel=nombre_excel,\n",
    "    pipeline_rag=pipeline_rag,\n",
    "    llm_evaluador=llm_evaluador\n",
    ")\n",
    "fin = time.time()\n",
    "tiempo = fin - inicio\n",
    "print(\"El tiempo en evaluar fue:\", tiempo)"
   ]
  },
  {
   "cell_type": "markdown",
   "id": "e566dbf1",
   "metadata": {},
   "source": [
    "#### **2. Advanced RAG System Evaluation**"
   ]
  },
  {
   "cell_type": "code",
   "execution_count": null,
   "id": "e9b20896",
   "metadata": {},
   "outputs": [],
   "source": [
    "from rag import AdvancedRAG"
   ]
  },
  {
   "cell_type": "markdown",
   "id": "e5bd155c",
   "metadata": {},
   "source": [
    "##### **2.1 Sand Tailing Dams (STD)**"
   ]
  },
  {
   "cell_type": "code",
   "execution_count": null,
   "id": "2c960409",
   "metadata": {},
   "outputs": [
    {
     "name": "stderr",
     "output_type": "stream",
     "text": [
      "Evaluación Matriz:   0%|          | 0/8 [00:00<?, ?it/s]"
     ]
    },
    {
     "name": "stdout",
     "output_type": "stream",
     "text": [
      "Matriz 1\n"
     ]
    },
    {
     "name": "stderr",
     "output_type": "stream",
     "text": [
      "Evaluación Matriz:  12%|█▎        | 1/8 [00:23<02:43, 23.29s/it]"
     ]
    },
    {
     "name": "stdout",
     "output_type": "stream",
     "text": [
      "Matriz 2\n"
     ]
    },
    {
     "name": "stderr",
     "output_type": "stream",
     "text": [
      "Evaluación Matriz:  25%|██▌       | 2/8 [00:37<01:47, 17.91s/it]"
     ]
    },
    {
     "name": "stdout",
     "output_type": "stream",
     "text": [
      "Matriz 3\n"
     ]
    },
    {
     "name": "stderr",
     "output_type": "stream",
     "text": [
      "Evaluación Matriz:  38%|███▊      | 3/8 [00:43<01:01, 12.36s/it]"
     ]
    },
    {
     "name": "stdout",
     "output_type": "stream",
     "text": [
      "Matriz 4\n"
     ]
    },
    {
     "name": "stderr",
     "output_type": "stream",
     "text": [
      "Evaluación Matriz:  50%|█████     | 4/8 [00:50<00:41, 10.45s/it]"
     ]
    },
    {
     "name": "stdout",
     "output_type": "stream",
     "text": [
      "Matriz 5\n"
     ]
    },
    {
     "name": "stderr",
     "output_type": "stream",
     "text": [
      "Evaluación Matriz:  62%|██████▎   | 5/8 [01:01<00:31, 10.51s/it]"
     ]
    },
    {
     "name": "stdout",
     "output_type": "stream",
     "text": [
      "Matriz 6\n"
     ]
    },
    {
     "name": "stderr",
     "output_type": "stream",
     "text": [
      "Evaluación Matriz:  75%|███████▌  | 6/8 [01:12<00:21, 10.90s/it]"
     ]
    },
    {
     "name": "stdout",
     "output_type": "stream",
     "text": [
      "Matriz 7\n"
     ]
    },
    {
     "name": "stderr",
     "output_type": "stream",
     "text": [
      "Evaluación Matriz:  88%|████████▊ | 7/8 [01:29<00:12, 12.66s/it]"
     ]
    },
    {
     "name": "stdout",
     "output_type": "stream",
     "text": [
      "Matriz 8\n"
     ]
    },
    {
     "name": "stderr",
     "output_type": "stream",
     "text": [
      "Evaluación Matriz: 100%|██████████| 8/8 [01:45<00:00, 13.14s/it]"
     ]
    },
    {
     "name": "stdout",
     "output_type": "stream",
     "text": [
      "El tiempo en evaluar fue: 105.29558682441711\n"
     ]
    },
    {
     "name": "stderr",
     "output_type": "stream",
     "text": [
      "\n"
     ]
    }
   ],
   "source": [
    "import time \n",
    "\n",
    "path_vector_storage=\"./src/evaluation_retrieval/vector_storage/01_cerro_negro_tranque/01_cerro_negro_nomic\"\n",
    "embedding_type=\"nomic\"\n",
    "embedding_model_name=\"nomic-embed-text-v1.5\"\n",
    "\n",
    "path_ground_truth_rag = \"./src/evaluation_rag/rag_ground_truth/01_STD_Tranque_GT.xlsx\"\n",
    "nombre_excel = \"02_STD_AdvancedRAG_nomic.xlsx\"\n",
    "\n",
    "cross_encoder_model_name=\"cross-encoder/ms-marco-MiniLM-L-6-v2\"\n",
    "top_n = 5\n",
    "\n",
    "pipeline_rag = AdvancedRAG(\n",
    "    path_vector_storage=path_vector_storage,\n",
    "    embedding_type=embedding_type,\n",
    "    embedding_model_name=embedding_model_name,\n",
    "    cross_encoder_model_name=cross_encoder_model_name,\n",
    "    top_n=top_n\n",
    ")\n",
    "\n",
    "llm_evaluador = LLMEvaluator()\n",
    "\n",
    "inicio = time.time()\n",
    "auto_evaluation_rag(\n",
    "    path_ground_truth=path_ground_truth_rag,\n",
    "    name_excel=nombre_excel,\n",
    "    pipeline_rag=pipeline_rag,\n",
    "    llm_evaluador=llm_evaluador\n",
    ")\n",
    "fin = time.time()\n",
    "tiempo = fin - inicio\n",
    "print(\"El tiempo en evaluar fue:\", tiempo)"
   ]
  },
  {
   "cell_type": "markdown",
   "id": "78911fff",
   "metadata": {},
   "source": [
    "##### **2.2 Filtered Tailings Deposit (FTD)**"
   ]
  },
  {
   "cell_type": "code",
   "execution_count": null,
   "id": "3957193c",
   "metadata": {},
   "outputs": [],
   "source": [
    "path_vector_storage=\"./src/evaluation_retrieval/vector_storage/02_kozan_filtrado/02_kozan_nomic\"\n",
    "embedding_type=\"nomic\"\n",
    "embedding_model_name=\"nomic-embed-text-v1.5\"\n",
    "\n",
    "path_ground_truth_rag = \"./src/evaluation_rag/rag_ground_truth/02_FTD_Filtrado_GT.xlsx\"\n",
    "nombre_excel = \"02_FTD_NaiveRAG_nomic.xlsx\"\n",
    "\n",
    "cross_encoder_model_name=\"cross-encoder/ms-marco-MiniLM-L-6-v2\"\n",
    "top_n = 5\n",
    "\n",
    "pipeline_rag = AdvancedRAG(\n",
    "    path_vector_storage=path_vector_storage,\n",
    "    embedding_type=embedding_type,\n",
    "    embedding_model_name=embedding_model_name,\n",
    "    cross_encoder_model_name=cross_encoder_model_name,\n",
    "    top_n=top_n\n",
    ")\n",
    "\n",
    "llm_evaluador = LLMEvaluator()\n",
    "\n",
    "inicio = time.time()\n",
    "auto_evaluation_rag(\n",
    "    path_ground_truth=path_ground_truth_rag,\n",
    "    name_excel=nombre_excel,\n",
    "    pipeline_rag=pipeline_rag,\n",
    "    llm_evaluador=llm_evaluador\n",
    ")\n",
    "fin = time.time()\n",
    "tiempo = fin - inicio\n",
    "print(\"El tiempo en evaluar fue:\", tiempo)"
   ]
  },
  {
   "cell_type": "markdown",
   "id": "8f710d1c",
   "metadata": {},
   "source": [
    "##### **2.3 Thickened Tailings Deposit (TTD)**"
   ]
  },
  {
   "cell_type": "code",
   "execution_count": null,
   "id": "5e991510",
   "metadata": {},
   "outputs": [],
   "source": [
    "path_vector_storage=\"./src/evaluation_retrieval/vector_storage/03_cenizas_espesado/03_cenizas_nomic\"\n",
    "embedding_type=\"nomic\"\n",
    "embedding_model_name=\"nomic-embed-text-v1.5\"\n",
    "\n",
    "path_ground_truth_rag = \"./src/evaluation_rag/rag_ground_truth/03_TTD_Espesado_GT.xlsx\"\n",
    "nombre_excel = \"02_TTD_AdvancedRAG_nomic.xlsx\"\n",
    "\n",
    "cross_encoder_model_name=\"cross-encoder/ms-marco-MiniLM-L-6-v2\"\n",
    "top_n = 5\n",
    "\n",
    "pipeline_rag = AdvancedRAG(\n",
    "    path_vector_storage=path_vector_storage,\n",
    "    embedding_type=embedding_type,\n",
    "    embedding_model_name=embedding_model_name,\n",
    "    cross_encoder_model_name=cross_encoder_model_name,\n",
    "    top_n=top_n\n",
    ")\n",
    "\n",
    "llm_evaluador = LLMEvaluator()\n",
    "\n",
    "inicio = time.time()\n",
    "auto_evaluation_rag(\n",
    "    path_ground_truth=path_ground_truth_rag,\n",
    "    name_excel=nombre_excel,\n",
    "    pipeline_rag=pipeline_rag,\n",
    "    llm_evaluador=llm_evaluador\n",
    ")\n",
    "fin = time.time()\n",
    "tiempo = fin - inicio\n",
    "print(\"El tiempo en evaluar fue:\", tiempo)"
   ]
  },
  {
   "cell_type": "markdown",
   "id": "e2aff017",
   "metadata": {},
   "source": [
    "##### **2.4 Tailings Embankments (TE)**"
   ]
  },
  {
   "cell_type": "code",
   "execution_count": null,
   "id": "170c3805",
   "metadata": {},
   "outputs": [],
   "source": [
    "import time \n",
    "\n",
    "path_vector_storage=\"./src/evaluation_retrieval/vector_storage/04_enami_embalse/04_enami_nomic\"\n",
    "embedding_type=\"nomic\"\n",
    "embedding_model_name=\"nomic-embed-text-v1.5\"\n",
    "\n",
    "path_ground_truth_rag = \"./src/evaluation_rag/rag_ground_truth/04_TE_Embalse_GT.xlsx\"\n",
    "nombre_excel = \"02_TE_AdvancedRAG_nomic.xlsx\"\n",
    "\n",
    "cross_encoder_model_name=\"cross-encoder/ms-marco-MiniLM-L-6-v2\"\n",
    "top_n = 5\n",
    "\n",
    "pipeline_rag = AdvancedRAG(\n",
    "    path_vector_storage=path_vector_storage,\n",
    "    embedding_type=embedding_type,\n",
    "    embedding_model_name=embedding_model_name,\n",
    "    cross_encoder_model_name=cross_encoder_model_name,\n",
    "    top_n=top_n\n",
    ")\n",
    "\n",
    "llm_evaluador = LLMEvaluator()\n",
    "\n",
    "inicio = time.time()\n",
    "auto_evaluation_rag(\n",
    "    path_ground_truth=path_ground_truth_rag,\n",
    "    name_excel=nombre_excel,\n",
    "    pipeline_rag=pipeline_rag,\n",
    "    llm_evaluador=llm_evaluador\n",
    ")\n",
    "fin = time.time()\n",
    "tiempo = fin - inicio\n",
    "print(\"El tiempo en evaluar fue:\", tiempo)"
   ]
  },
  {
   "cell_type": "markdown",
   "id": "77e903ec",
   "metadata": {},
   "source": [
    "##### **2.5 Paste Tailings Deposits (PTD)**"
   ]
  },
  {
   "cell_type": "code",
   "execution_count": null,
   "id": "2c4353f2",
   "metadata": {},
   "outputs": [],
   "source": [
    "import time \n",
    "\n",
    "path_vector_storage=\"./src/evaluation_retrieval/vector_storage/05_florida_pasta/05_florida_nomic\"\n",
    "embedding_type=\"nomic\"\n",
    "embedding_model_name=\"nomic-embed-text-v1.5\"\n",
    "\n",
    "path_ground_truth_rag = \"./src/evaluation_rag/rag_ground_truth/05_PTD_EnPasta_GT.xlsx\"\n",
    "nombre_excel = \"02_PTD_AdvancedRAG_nomic.xlsx\"\n",
    "\n",
    "cross_encoder_model_name=\"cross-encoder/ms-marco-MiniLM-L-6-v2\"\n",
    "top_n = 5\n",
    "\n",
    "pipeline_rag = AdvancedRAG(\n",
    "    path_vector_storage=path_vector_storage,\n",
    "    embedding_type=embedding_type,\n",
    "    embedding_model_name=embedding_model_name,\n",
    "    cross_encoder_model_name=cross_encoder_model_name,\n",
    "    top_n=top_n\n",
    ")\n",
    "\n",
    "llm_evaluador = LLMEvaluator()\n",
    "\n",
    "inicio = time.time()\n",
    "auto_evaluation_rag(\n",
    "    path_ground_truth=path_ground_truth_rag,\n",
    "    name_excel=nombre_excel,\n",
    "    pipeline_rag=pipeline_rag,\n",
    "    llm_evaluador=llm_evaluador\n",
    ")\n",
    "fin = time.time()\n",
    "tiempo = fin - inicio\n",
    "print(\"El tiempo en evaluar fue:\", tiempo)"
   ]
  },
  {
   "cell_type": "markdown",
   "id": "949844ae",
   "metadata": {},
   "source": [
    "#### **3. Hybrid RAG System Evaluation**"
   ]
  },
  {
   "cell_type": "code",
   "execution_count": null,
   "id": "e0691710",
   "metadata": {},
   "outputs": [],
   "source": [
    "from rag import HybridRAG"
   ]
  },
  {
   "cell_type": "markdown",
   "id": "e9e596d2",
   "metadata": {},
   "source": [
    "##### **3.1 Sand Tailing Dams (STD)**"
   ]
  },
  {
   "cell_type": "code",
   "execution_count": null,
   "id": "e5c211f8",
   "metadata": {},
   "outputs": [
    {
     "name": "stderr",
     "output_type": "stream",
     "text": [
      "Evaluación Matriz:   0%|          | 0/8 [00:00<?, ?it/s]"
     ]
    },
    {
     "name": "stdout",
     "output_type": "stream",
     "text": [
      "Matriz 1\n"
     ]
    },
    {
     "name": "stderr",
     "output_type": "stream",
     "text": [
      "Evaluación Matriz:  12%|█▎        | 1/8 [00:18<02:09, 18.49s/it]"
     ]
    },
    {
     "name": "stdout",
     "output_type": "stream",
     "text": [
      "Matriz 2\n"
     ]
    },
    {
     "name": "stderr",
     "output_type": "stream",
     "text": [
      "Evaluación Matriz:  25%|██▌       | 2/8 [00:29<01:23, 13.98s/it]"
     ]
    },
    {
     "name": "stdout",
     "output_type": "stream",
     "text": [
      "Matriz 3\n"
     ]
    },
    {
     "name": "stderr",
     "output_type": "stream",
     "text": [
      "Evaluación Matriz:  38%|███▊      | 3/8 [00:32<00:46,  9.25s/it]"
     ]
    },
    {
     "name": "stdout",
     "output_type": "stream",
     "text": [
      "Matriz 4\n"
     ]
    },
    {
     "name": "stderr",
     "output_type": "stream",
     "text": [
      "Evaluación Matriz:  50%|█████     | 4/8 [00:39<00:31,  8.00s/it]"
     ]
    },
    {
     "name": "stdout",
     "output_type": "stream",
     "text": [
      "Matriz 5\n"
     ]
    },
    {
     "name": "stderr",
     "output_type": "stream",
     "text": [
      "Evaluación Matriz:  62%|██████▎   | 5/8 [00:50<00:27,  9.13s/it]"
     ]
    },
    {
     "name": "stdout",
     "output_type": "stream",
     "text": [
      "Matriz 6\n"
     ]
    },
    {
     "name": "stderr",
     "output_type": "stream",
     "text": [
      "Evaluación Matriz:  75%|███████▌  | 6/8 [00:57<00:16,  8.38s/it]"
     ]
    },
    {
     "name": "stdout",
     "output_type": "stream",
     "text": [
      "Matriz 7\n"
     ]
    },
    {
     "name": "stderr",
     "output_type": "stream",
     "text": [
      "Evaluación Matriz:  88%|████████▊ | 7/8 [01:13<00:11, 11.12s/it]"
     ]
    },
    {
     "name": "stdout",
     "output_type": "stream",
     "text": [
      "Matriz 8\n"
     ]
    },
    {
     "name": "stderr",
     "output_type": "stream",
     "text": [
      "Evaluación Matriz: 100%|██████████| 8/8 [01:22<00:00, 10.28s/it]"
     ]
    },
    {
     "name": "stdout",
     "output_type": "stream",
     "text": [
      "El tiempo en evaluar fue: 82.45992946624756\n"
     ]
    },
    {
     "name": "stderr",
     "output_type": "stream",
     "text": [
      "\n"
     ]
    }
   ],
   "source": [
    "import time \n",
    "\n",
    "path_vector_storage=\"./src/evaluation_retrieval/vector_storage/01_cerro_negro_tranque/01_cerro_negro_nomic\"\n",
    "path_bm25 = \"./src/evaluation_retrieval/vector_storage/01_cerro_negro_tranque/01_cerro_negro_bm25\"\n",
    "embedding_type=\"nomic\"\n",
    "embedding_model_name=\"nomic-embed-text-v1.5\"\n",
    "\n",
    "path_ground_truth_rag = \"./src/evaluation_rag/rag_ground_truth/01_STD_Tranque_GT.xlsx\"\n",
    "nombre_excel = \"03_STD_HybridRAG_nomic.xlsx\"\n",
    "\n",
    "pipeline_rag = HybridRAG(\n",
    "    path_vector_storage=path_vector_storage,\n",
    "    path_bm25=path_bm25,\n",
    "    embedding_type=embedding_type,\n",
    "    embedding_model_name=embedding_model_name\n",
    ")\n",
    "\n",
    "llm_evaluador = LLMEvaluator()\n",
    "\n",
    "inicio = time.time()\n",
    "auto_evaluation_rag(\n",
    "    path_ground_truth=path_ground_truth_rag,\n",
    "    name_excel=nombre_excel,\n",
    "    pipeline_rag=pipeline_rag,\n",
    "    llm_evaluador=llm_evaluador\n",
    ")\n",
    "fin = time.time()\n",
    "tiempo = fin - inicio\n",
    "print(\"El tiempo en evaluar fue:\", tiempo)"
   ]
  },
  {
   "cell_type": "markdown",
   "id": "628767b6",
   "metadata": {},
   "source": [
    "##### **3.2 Filtered Tailings Deposit (FTD)**"
   ]
  },
  {
   "cell_type": "code",
   "execution_count": null,
   "id": "9e3fff1a",
   "metadata": {},
   "outputs": [],
   "source": [
    "import time \n",
    "\n",
    "path_vector_storage=\"./src/evaluation_retrieval/vector_storage/02_kozan_filtrado/02_kozan_nomic\"\n",
    "path_bm25 = \"./src/evaluation_retrieval/vector_storage/02_kozan_filtrado/02_kozan_filtrado_bm25\"\n",
    "embedding_type=\"nomic\"\n",
    "embedding_model_name=\"nomic-embed-text-v1.5\"\n",
    "\n",
    "path_ground_truth_rag = \"./src/evaluation_rag/rag_ground_truth/02_FTD_Filtrado_GT.xlsx\"\n",
    "nombre_excel = \"03_FTD_HybridRAG_nomic.xlsx\"\n",
    "\n",
    "\n",
    "pipeline_rag = HybridRAG(\n",
    "    path_vector_storage=path_vector_storage,\n",
    "    path_bm25=path_bm25,\n",
    "    embedding_type=embedding_type,\n",
    "    embedding_model_name=embedding_model_name\n",
    ")\n",
    "\n",
    "llm_evaluador = LLMEvaluator()\n",
    "\n",
    "inicio = time.time()\n",
    "auto_evaluation_rag(\n",
    "    path_ground_truth=path_ground_truth_rag,\n",
    "    name_excel=nombre_excel,\n",
    "    pipeline_rag=pipeline_rag,\n",
    "    llm_evaluador=llm_evaluador\n",
    ")\n",
    "fin = time.time()\n",
    "tiempo = fin - inicio\n",
    "print(\"El tiempo en evaluar fue:\", tiempo)"
   ]
  },
  {
   "cell_type": "markdown",
   "id": "ce968ca6",
   "metadata": {},
   "source": [
    "##### **3.3 Thickened Tailings Deposit (TTD)**"
   ]
  },
  {
   "cell_type": "code",
   "execution_count": null,
   "id": "0179af9d",
   "metadata": {},
   "outputs": [],
   "source": [
    "import time \n",
    "\n",
    "path_vector_storage=\"./src/evaluation_retrieval/vector_storage/03_cenizas_espesado/03_cenizas_nomic\"\n",
    "path_bm25 = \"./src/evaluation_retrieval/vector_storage/03_cenizas_espesado/03_cenizas_espesado_bm25\"\n",
    "\n",
    "embedding_type=\"nomic\"\n",
    "embedding_model_name=\"nomic-embed-text-v1.5\"\n",
    "\n",
    "path_ground_truth_rag = \"./src/evaluation_rag/rag_ground_truth/03_TTD_Espesado_GT.xlsx\"\n",
    "nombre_excel = \"03_TTD_HybridRAG_nomic.xlsx\"\n",
    "\n",
    "\n",
    "pipeline_rag = HybridRAG(\n",
    "    path_vector_storage=path_vector_storage,\n",
    "    path_bm25=path_bm25,\n",
    "    embedding_type=embedding_type,\n",
    "    embedding_model_name=embedding_model_name\n",
    ")\n",
    "\n",
    "llm_evaluador = LLMEvaluator()\n",
    "\n",
    "inicio = time.time()\n",
    "auto_evaluation_rag(\n",
    "    path_ground_truth=path_ground_truth_rag,\n",
    "    name_excel=nombre_excel,\n",
    "    pipeline_rag=pipeline_rag,\n",
    "    llm_evaluador=llm_evaluador\n",
    ")\n",
    "fin = time.time()\n",
    "tiempo = fin - inicio\n",
    "print(\"El tiempo en evaluar fue:\", tiempo)"
   ]
  },
  {
   "cell_type": "markdown",
   "id": "13a54459",
   "metadata": {},
   "source": [
    "##### **3.4 Tailings Embankments (TE)**"
   ]
  },
  {
   "cell_type": "code",
   "execution_count": null,
   "id": "c0e8284b",
   "metadata": {},
   "outputs": [],
   "source": [
    "import time \n",
    "\n",
    "path_vector_storage=\"./src/evaluation_retrieval/vector_storage/04_enami_embalse/04_enami_nomic\"\n",
    "path_bm25 = \"./src/evaluation_retrieval/vector_storage/04_enami_embalse/04_enami_embalse_bm25\"\n",
    "\n",
    "embedding_type=\"nomic\"\n",
    "embedding_model_name=\"nomic-embed-text-v1.5\"\n",
    "\n",
    "path_ground_truth_rag = \"./src/evaluation_rag/rag_ground_truth/04_TE_Embalse_GT.xlsx\"\n",
    "nombre_excel = \"03_TE_HybridRAG_nomic.xlsx\"\n",
    "\n",
    "\n",
    "pipeline_rag = HybridRAG(\n",
    "    path_vector_storage=path_vector_storage,\n",
    "    path_bm25=path_bm25,\n",
    "    embedding_type=embedding_type,\n",
    "    embedding_model_name=embedding_model_name\n",
    ")\n",
    "\n",
    "llm_evaluador = LLMEvaluator()\n",
    "\n",
    "inicio = time.time()\n",
    "auto_evaluation_rag(\n",
    "    path_ground_truth=path_ground_truth_rag,\n",
    "    name_excel=nombre_excel,\n",
    "    pipeline_rag=pipeline_rag,\n",
    "    llm_evaluador=llm_evaluador\n",
    ")\n",
    "fin = time.time()\n",
    "tiempo = fin - inicio\n",
    "print(\"El tiempo en evaluar fue:\", tiempo)"
   ]
  },
  {
   "cell_type": "markdown",
   "id": "3491e312",
   "metadata": {},
   "source": [
    "##### **3.5 Paste Tailings Deposits (PTD)**"
   ]
  },
  {
   "cell_type": "code",
   "execution_count": null,
   "id": "827adcf0",
   "metadata": {},
   "outputs": [],
   "source": [
    "import time \n",
    "\n",
    "path_vector_storage=\"./src/evaluation_retrieval/vector_storage/05_florida_pasta/05_florida_nomic\"\n",
    "path_bm25 = \"./src/evaluation_retrieval/vector_storage/05_florida_pasta/05_florida_pasta_bm25\"\n",
    "\n",
    "embedding_type=\"nomic\"\n",
    "embedding_model_name=\"nomic-embed-text-v1.5\"\n",
    "\n",
    "path_ground_truth_rag = \"./src/evaluation_rag/rag_ground_truth/05_PTD_EnPasta_GT.xlsx\"\n",
    "nombre_excel = \"03_PTD_HybridRAG_nomic.xlsx\"\n",
    "\n",
    "\n",
    "pipeline_rag = HybridRAG(\n",
    "    path_vector_storage=path_vector_storage,\n",
    "    path_bm25=path_bm25,\n",
    "    embedding_type=embedding_type,\n",
    "    embedding_model_name=embedding_model_name\n",
    ")\n",
    "\n",
    "llm_evaluador = LLMEvaluator()\n",
    "\n",
    "inicio = time.time()\n",
    "auto_evaluation_rag(\n",
    "    path_ground_truth=path_ground_truth_rag,\n",
    "    name_excel=nombre_excel,\n",
    "    pipeline_rag=pipeline_rag,\n",
    "    llm_evaluador=llm_evaluador\n",
    ")\n",
    "fin = time.time()\n",
    "tiempo = fin - inicio\n",
    "print(\"El tiempo en evaluar fue:\", tiempo)"
   ]
  },
  {
   "cell_type": "markdown",
   "id": "1c204705",
   "metadata": {},
   "source": [
    "#### **4. Advanced-Hybrid RAG System Evaluation**"
   ]
  },
  {
   "cell_type": "code",
   "execution_count": null,
   "id": "28abaacb",
   "metadata": {},
   "outputs": [],
   "source": [
    "from rag import AdvancedHybridRAG"
   ]
  },
  {
   "cell_type": "markdown",
   "id": "511179b9",
   "metadata": {},
   "source": [
    "##### **4.1 Sand Tailing Dams (STD)**"
   ]
  },
  {
   "cell_type": "code",
   "execution_count": 7,
   "id": "ed853f0a",
   "metadata": {},
   "outputs": [
    {
     "name": "stderr",
     "output_type": "stream",
     "text": [
      "Evaluación Matriz:   0%|          | 0/8 [00:00<?, ?it/s]"
     ]
    },
    {
     "name": "stdout",
     "output_type": "stream",
     "text": [
      "Matriz 1\n"
     ]
    },
    {
     "name": "stderr",
     "output_type": "stream",
     "text": [
      "Evaluación Matriz:  12%|█▎        | 1/8 [00:21<02:29, 21.39s/it]"
     ]
    },
    {
     "name": "stdout",
     "output_type": "stream",
     "text": [
      "Matriz 2\n"
     ]
    },
    {
     "name": "stderr",
     "output_type": "stream",
     "text": [
      "Evaluación Matriz:  25%|██▌       | 2/8 [00:35<01:42, 17.03s/it]"
     ]
    },
    {
     "name": "stdout",
     "output_type": "stream",
     "text": [
      "Matriz 3\n"
     ]
    },
    {
     "name": "stderr",
     "output_type": "stream",
     "text": [
      "Evaluación Matriz:  38%|███▊      | 3/8 [00:40<00:57, 11.60s/it]"
     ]
    },
    {
     "name": "stdout",
     "output_type": "stream",
     "text": [
      "Matriz 4\n"
     ]
    },
    {
     "name": "stderr",
     "output_type": "stream",
     "text": [
      "Evaluación Matriz:  50%|█████     | 4/8 [00:47<00:39,  9.97s/it]"
     ]
    },
    {
     "name": "stdout",
     "output_type": "stream",
     "text": [
      "Matriz 5\n"
     ]
    },
    {
     "name": "stderr",
     "output_type": "stream",
     "text": [
      "Evaluación Matriz:  62%|██████▎   | 5/8 [00:57<00:29,  9.92s/it]"
     ]
    },
    {
     "name": "stdout",
     "output_type": "stream",
     "text": [
      "Matriz 6\n"
     ]
    },
    {
     "name": "stderr",
     "output_type": "stream",
     "text": [
      "Evaluación Matriz:  75%|███████▌  | 6/8 [01:06<00:19,  9.67s/it]"
     ]
    },
    {
     "name": "stdout",
     "output_type": "stream",
     "text": [
      "Matriz 7\n"
     ]
    },
    {
     "name": "stderr",
     "output_type": "stream",
     "text": [
      "Evaluación Matriz:  88%|████████▊ | 7/8 [01:22<00:11, 11.62s/it]"
     ]
    },
    {
     "name": "stdout",
     "output_type": "stream",
     "text": [
      "Matriz 8\n"
     ]
    },
    {
     "name": "stderr",
     "output_type": "stream",
     "text": [
      "Evaluación Matriz: 100%|██████████| 8/8 [01:31<00:00, 11.48s/it]\n"
     ]
    },
    {
     "name": "stdout",
     "output_type": "stream",
     "text": [
      "El tiempo en evaluar fue: 92.1056878566742\n"
     ]
    }
   ],
   "source": [
    "import time \n",
    "\n",
    "path_vector_storage=\"./src/evaluation_retrieval/vector_storage/01_cerro_negro_tranque/01_cerro_negro_nomic\"\n",
    "path_bm25 = \"./src/evaluation_retrieval/vector_storage/01_cerro_negro_tranque/01_cerro_negro_bm25\"\n",
    "embedding_type=\"nomic\"\n",
    "embedding_model_name=\"nomic-embed-text-v1.5\"\n",
    "\n",
    "path_ground_truth_rag = \"./src/evaluation_rag/rag_ground_truth/01_STD_Tranque_GT.xlsx\"\n",
    "nombre_excel = \"04_STD_AdvancedHybridRAG_nomic.xlsx\"\n",
    "\n",
    "cross_encoder_model_name=\"cross-encoder/ms-marco-MiniLM-L-6-v2\"\n",
    "top_n = 5\n",
    "\n",
    "pipeline_rag = AdvancedHybridRAG(\n",
    "    path_vector_storage=path_vector_storage,\n",
    "    path_bm25=path_bm25,\n",
    "    embedding_type=embedding_type,\n",
    "    embedding_model_name=embedding_model_name,\n",
    "    cross_encoder_model_name=cross_encoder_model_name,\n",
    "    top_n=top_n\n",
    ")\n",
    "\n",
    "llm_evaluador = LLMEvaluator()\n",
    "\n",
    "inicio = time.time()\n",
    "auto_evaluation_rag(\n",
    "    path_ground_truth=path_ground_truth_rag,\n",
    "    name_excel=nombre_excel,\n",
    "    pipeline_rag=pipeline_rag,\n",
    "    llm_evaluador=llm_evaluador\n",
    ")\n",
    "fin = time.time()\n",
    "tiempo = fin - inicio\n",
    "print(\"El tiempo en evaluar fue:\", tiempo)"
   ]
  },
  {
   "cell_type": "markdown",
   "id": "1f485053",
   "metadata": {},
   "source": [
    "##### **4.2 Filtered Tailings Deposit (FTD)**"
   ]
  },
  {
   "cell_type": "markdown",
   "id": "213bade5",
   "metadata": {},
   "source": [
    "##### **4.3 Thickened Tailings Deposit (TTD)**"
   ]
  },
  {
   "cell_type": "markdown",
   "id": "fba59fe6",
   "metadata": {},
   "source": [
    "##### **4.4 Tailings Embankments (TE)**"
   ]
  },
  {
   "cell_type": "markdown",
   "id": "7e5420ed",
   "metadata": {},
   "source": [
    "##### **4.5 Paste Tailings Deposits (PTD)**"
   ]
  },
  {
   "cell_type": "markdown",
   "id": "b0e7b7e6",
   "metadata": {},
   "source": [
    "#### **5. AsyncMultiQuery RAG System Evaluation**"
   ]
  },
  {
   "cell_type": "code",
   "execution_count": null,
   "id": "77f043c3",
   "metadata": {},
   "outputs": [],
   "source": [
    "from rag import AsyncMultiQueryRAGV2"
   ]
  },
  {
   "cell_type": "markdown",
   "id": "26606ed6",
   "metadata": {},
   "source": [
    "##### **5.1 Sand Tailing Dams (STD)**"
   ]
  },
  {
   "cell_type": "code",
   "execution_count": null,
   "id": "66628169",
   "metadata": {},
   "outputs": [],
   "source": [
    "embedding_configs = [\n",
    "    EmbeddingConfig(\n",
    "        name=\"minilm\",\n",
    "        embedding_type=\"huggingface\",\n",
    "        model_name=\"sentence-transformers/all-MiniLM-L6-v2\",\n",
    "        path_vector_storage=\"./evaluation_retrieval/vector_storage/05_florida_pasta/05_florida_all_mini_L6_v2\"\n",
    "    ),\n",
    "    EmbeddingConfig(\n",
    "        name=\"nomic\",\n",
    "        embedding_type=\"nomic\",\n",
    "        model_name=\"nomic-embed-text-v1.5\",\n",
    "        path_vector_storage=\"./evaluation_retrieval/vector_storage/05_florida_pasta/05_florida_nomic\"\n",
    "    )\n",
    "]\n",
    "\n",
    "# Crear instancia del sistema RAG\n",
    "rag_system = AsyncMultiEmbeddingRAGV2(\n",
    "    embedding_configs=embedding_configs,\n",
    "    top_k=13,\n",
    "    top_n=5\n",
    ")\n",
    "\n",
    "pipeline_rag = AsyncMultiQueryRAG(\n",
    "    path_vector_storage=path_vector_storage,\n",
    "    embedding_type=embedding_type,\n",
    "    embedding_model_name=embedding_model_name\n",
    ")\n",
    "\n",
    "llm_evaluador = LLMEvaluator()\n",
    "\n",
    "inicio = time.time()\n",
    "auto_evaluation_rag(\n",
    "    path_ground_truth=path_ground_truth_rag,\n",
    "    name_excel=nombre_excel,\n",
    "    pipeline_rag=pipeline_rag,\n",
    "    llm_evaluador=llm_evaluador\n",
    ")\n",
    "fin = time.time()\n",
    "tiempo = fin - inicio\n",
    "print(\"El tiempo en evaluar fue:\", tiempo)"
   ]
  },
  {
   "cell_type": "markdown",
   "id": "feab6d78",
   "metadata": {},
   "source": [
    "##### **5.2 Filtered Tailings Deposit (FTD)**"
   ]
  },
  {
   "cell_type": "markdown",
   "id": "638b6780",
   "metadata": {},
   "source": [
    "##### **5.3 Thickened Tailings Deposit (TTD)**"
   ]
  },
  {
   "cell_type": "markdown",
   "id": "dd597796",
   "metadata": {},
   "source": [
    "##### **5.4 Tailings Embankments (TE)**"
   ]
  },
  {
   "cell_type": "markdown",
   "id": "417cc370",
   "metadata": {},
   "source": [
    "##### **5.5 Paste Tailings Deposits (PTD)**"
   ]
  }
 ],
 "metadata": {
  "kernelspec": {
   "display_name": "paper_geotecnia",
   "language": "python",
   "name": "python3"
  },
  "language_info": {
   "codemirror_mode": {
    "name": "ipython",
    "version": 3
   },
   "file_extension": ".py",
   "mimetype": "text/x-python",
   "name": "python",
   "nbconvert_exporter": "python",
   "pygments_lexer": "ipython3",
   "version": "3.10.16"
  }
 },
 "nbformat": 4,
 "nbformat_minor": 5
}
